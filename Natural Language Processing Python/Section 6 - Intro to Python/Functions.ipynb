{
  "nbformat": 4,
  "nbformat_minor": 0,
  "metadata": {
    "colab": {
      "name": "Functions.ipynb",
      "provenance": []
    },
    "kernelspec": {
      "name": "python3",
      "display_name": "Python 3"
    },
    "language_info": {
      "name": "python"
    }
  },
  "cells": [
    {
      "cell_type": "markdown",
      "metadata": {
        "id": "5MfHblRzBFWv"
      },
      "source": [
        "##<font color=\"#ffb142\" > Functions"
      ]
    },
    {
      "cell_type": "code",
      "metadata": {
        "id": "7h0qTwesBA13"
      },
      "source": [
        "def my_function(parameter):\n",
        "  \"this is my sample funtion to show the format of all functions\"\n",
        "  statement(s)\n",
        "  return "
      ],
      "execution_count": null,
      "outputs": []
    },
    {
      "cell_type": "markdown",
      "metadata": {
        "id": "K-05xZ6KL_0g"
      },
      "source": [
        "##<font color='#34ace0' > Calculate Mean"
      ]
    },
    {
      "cell_type": "code",
      "metadata": {
        "id": "cphqKGRbL-eC"
      },
      "source": [
        ""
      ],
      "execution_count": null,
      "outputs": []
    },
    {
      "cell_type": "code",
      "metadata": {
        "id": "SfnfBvuQMZbF"
      },
      "source": [
        ""
      ],
      "execution_count": null,
      "outputs": []
    },
    {
      "cell_type": "code",
      "metadata": {
        "id": "XnV9EQ5jM8un"
      },
      "source": [
        ""
      ],
      "execution_count": null,
      "outputs": []
    },
    {
      "cell_type": "markdown",
      "metadata": {
        "id": "EnkEuOw9Nj74"
      },
      "source": [
        "##<font color='#34ace0' > If Else in A function"
      ]
    },
    {
      "cell_type": "code",
      "metadata": {
        "id": "lGl2gSonNg5_"
      },
      "source": [
        ""
      ],
      "execution_count": null,
      "outputs": []
    },
    {
      "cell_type": "code",
      "metadata": {
        "id": "24NxUgJJOKlS"
      },
      "source": [
        ""
      ],
      "execution_count": null,
      "outputs": []
    },
    {
      "cell_type": "code",
      "metadata": {
        "id": "0HPhgt-KOg1L"
      },
      "source": [
        ""
      ],
      "execution_count": null,
      "outputs": []
    },
    {
      "cell_type": "markdown",
      "metadata": {
        "id": "2XLizx8xO1PM"
      },
      "source": [
        "##<font color='#33d9b2' > Scope of A Variable: Local & Global "
      ]
    },
    {
      "cell_type": "code",
      "metadata": {
        "id": "PGZlgeGVO_KB"
      },
      "source": [
        ""
      ],
      "execution_count": null,
      "outputs": []
    }
  ]
}