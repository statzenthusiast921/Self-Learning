{
  "nbformat": 4,
  "nbformat_minor": 0,
  "metadata": {
    "colab": {
      "name": "CompleteStoringDataValues",
      "provenance": []
    },
    "kernelspec": {
      "name": "python3",
      "display_name": "Python 3"
    },
    "language_info": {
      "name": "python"
    }
  },
  "cells": [
    {
      "cell_type": "markdown",
      "metadata": {
        "id": "PqIkxlf3coKD"
      },
      "source": [
        "#<font color='#e84118' >Variables"
      ]
    },
    {
      "cell_type": "code",
      "metadata": {
        "id": "PI1bSEgYckej"
      },
      "source": [
        "x = \"milk\"\n",
        "y = \"wine\"\n",
        "z = \"water\"\n",
        "print(x)\n",
        "print(y)\n",
        "print(z)"
      ],
      "execution_count": null,
      "outputs": []
    },
    {
      "cell_type": "code",
      "metadata": {
        "colab": {
          "base_uri": "https://localhost:8080/"
        },
        "id": "yPCxsVWNdX4L",
        "outputId": "9376af00-948e-40e8-e103-973758ab85d2"
      },
      "source": [
        "container1 = 10\n",
        "container2 = \"wine\"\n",
        "container3 = \"water\"\n",
        "print(container1)\n",
        "print(container2)\n",
        "print(container3)"
      ],
      "execution_count": null,
      "outputs": [
        {
          "output_type": "stream",
          "text": [
            "10\n",
            "wine\n",
            "water\n"
          ],
          "name": "stdout"
        }
      ]
    },
    {
      "cell_type": "markdown",
      "metadata": {
        "id": "MA5JxqPKdTUX"
      },
      "source": [
        "####<font color='#e84118' >Get data type"
      ]
    },
    {
      "cell_type": "code",
      "metadata": {
        "colab": {
          "base_uri": "https://localhost:8080/"
        },
        "id": "-IJoRmbqdFmq",
        "outputId": "c03f163c-491a-45eb-df79-d0656ff80223"
      },
      "source": [
        "print(type(x))\n",
        "print(type(y))"
      ],
      "execution_count": null,
      "outputs": [
        {
          "output_type": "stream",
          "text": [
            "<class 'str'>\n",
            "<class 'str'>\n"
          ],
          "name": "stdout"
        }
      ]
    },
    {
      "cell_type": "code",
      "metadata": {
        "colab": {
          "base_uri": "https://localhost:8080/"
        },
        "id": "g1XIEDEBdpaG",
        "outputId": "79b6083f-b62e-4a92-d63c-6757cee7fc42"
      },
      "source": [
        "print(type(container1))\n",
        "print(type(container2))"
      ],
      "execution_count": null,
      "outputs": [
        {
          "output_type": "stream",
          "text": [
            "<class 'int'>\n",
            "<class 'str'>\n"
          ],
          "name": "stdout"
        }
      ]
    },
    {
      "cell_type": "markdown",
      "metadata": {
        "id": "jkq170VTd5aF"
      },
      "source": [
        "####<font color='#e84118'> When to use single or double quotes?"
      ]
    },
    {
      "cell_type": "code",
      "metadata": {
        "id": "uf3aIVX3eUwy"
      },
      "source": [
        "a = \"milk\"\n",
        "# strings can be declared with any \n",
        "a = 'milk'"
      ],
      "execution_count": null,
      "outputs": []
    },
    {
      "cell_type": "markdown",
      "metadata": {
        "id": "YAXJ5FgzejiU"
      },
      "source": [
        "####<font color='#e84118'> Variables are Case sensitive"
      ]
    },
    {
      "cell_type": "code",
      "metadata": {
        "id": "ox5qHlVnemG9"
      },
      "source": [
        "g = \"milk\"\n",
        "G = \"wine\""
      ],
      "execution_count": null,
      "outputs": []
    },
    {
      "cell_type": "markdown",
      "metadata": {
        "id": "dDZYzcbye32d"
      },
      "source": [
        "#<font color='#00a8ff'> Lists"
      ]
    },
    {
      "cell_type": "code",
      "metadata": {
        "colab": {
          "base_uri": "https://localhost:8080/"
        },
        "id": "3EQvqXIRfBbf",
        "outputId": "7a5c5aa8-bc9f-4963-f265-ea3fbe16853a"
      },
      "source": [
        "grocery_list = [\"milk\", \"tea\", \"bread\"]\n",
        "print(grocery_list)"
      ],
      "execution_count": null,
      "outputs": [
        {
          "output_type": "stream",
          "text": [
            "['milk', 'tea', 'bread', 'milk']\n"
          ],
          "name": "stdout"
        }
      ]
    },
    {
      "cell_type": "markdown",
      "metadata": {
        "id": "RH3fpT2BgIji"
      },
      "source": [
        "#<font color='#00a8ff'> Duplicates"
      ]
    },
    {
      "cell_type": "code",
      "metadata": {
        "id": "ah5fqZBUgNRT"
      },
      "source": [
        "grocery_list = [\"milk\", \"tea\", \"bread\",\"tea\"]\n",
        "print(grocery_list)"
      ],
      "execution_count": null,
      "outputs": []
    },
    {
      "cell_type": "markdown",
      "metadata": {
        "id": "3Q78qkSkgMZU"
      },
      "source": [
        "#<font color='#00a8ff'> Length"
      ]
    },
    {
      "cell_type": "code",
      "metadata": {
        "id": "91B0nG7XgRXj"
      },
      "source": [
        "grocery_list = [\"milk\", \"tea\", \"bread\",\"tea\"]\n",
        "print(len(grocery_list))"
      ],
      "execution_count": null,
      "outputs": []
    },
    {
      "cell_type": "code",
      "metadata": {
        "id": "wNygw5OVgerI"
      },
      "source": [
        "student_record = [\"john\", \"snow\", \"male\",\"20\"]\n",
        "print(student_record)"
      ],
      "execution_count": null,
      "outputs": []
    }
  ]
}