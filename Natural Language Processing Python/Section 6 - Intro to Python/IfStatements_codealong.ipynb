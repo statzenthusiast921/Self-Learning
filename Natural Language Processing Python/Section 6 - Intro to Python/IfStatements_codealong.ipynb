{
  "nbformat": 4,
  "nbformat_minor": 0,
  "metadata": {
    "colab": {
      "name": "IfStatements_codealong.ipynb",
      "provenance": []
    },
    "kernelspec": {
      "name": "python3",
      "display_name": "Python 3"
    },
    "language_info": {
      "name": "python"
    }
  },
  "cells": [
    {
      "cell_type": "markdown",
      "metadata": {
        "id": "7WlCi85ysrSd"
      },
      "source": [
        "#<font color=\"#78e08f\" > If, Elif, Else statements <br> <font color=\"#82ccdd\" > Logic Conditions<br>\n",
        "<font color=\"#60a3bc\" >a == b <br> a !=b <br> a < b <br> a <= b <br> a > b <br> a >= b"
      ]
    },
    {
      "cell_type": "code",
      "metadata": {
        "id": "X00yVt6isnTh"
      },
      "source": [
        ""
      ],
      "execution_count": null,
      "outputs": []
    },
    {
      "cell_type": "code",
      "metadata": {
        "id": "EmTPh5PcygBL"
      },
      "source": [
        "\n"
      ],
      "execution_count": null,
      "outputs": []
    },
    {
      "cell_type": "code",
      "metadata": {
        "id": "lOw0XeCH0CK1"
      },
      "source": [
        "\n"
      ],
      "execution_count": null,
      "outputs": []
    },
    {
      "cell_type": "code",
      "metadata": {
        "id": "Xe0QqMXd0dRw"
      },
      "source": [
        "\n"
      ],
      "execution_count": null,
      "outputs": []
    },
    {
      "cell_type": "markdown",
      "metadata": {
        "id": "EHV5j_3s1rlb"
      },
      "source": [
        "<font color=\"#60a3bc\" > Multiple conditions"
      ]
    },
    {
      "cell_type": "code",
      "metadata": {
        "id": "ssviktOP1nIV"
      },
      "source": [
        ""
      ],
      "execution_count": null,
      "outputs": []
    },
    {
      "cell_type": "code",
      "metadata": {
        "id": "w8JS3nEp3D5o"
      },
      "source": [
        ""
      ],
      "execution_count": null,
      "outputs": []
    }
  ]
}