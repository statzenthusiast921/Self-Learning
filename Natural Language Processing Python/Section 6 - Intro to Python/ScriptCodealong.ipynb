{
  "nbformat": 4,
  "nbformat_minor": 0,
  "metadata": {
    "colab": {
      "name": "ScriptCodealong.ipynb",
      "provenance": []
    },
    "kernelspec": {
      "name": "python3",
      "display_name": "Python 3"
    },
    "language_info": {
      "name": "python"
    }
  },
  "cells": [
    {
      "cell_type": "markdown",
      "metadata": {
        "id": "yo8BUKJVZJxm"
      },
      "source": [
        "#<font color=\"#3dc1d3\" > Python Terminology\n",
        "\n",
        "##<font color=\"#f78fb3\" > Python Script to Raise A Number to A Power"
      ]
    }
  ]
}