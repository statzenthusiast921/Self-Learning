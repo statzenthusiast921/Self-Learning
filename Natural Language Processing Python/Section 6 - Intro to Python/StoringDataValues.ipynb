{
  "nbformat": 4,
  "nbformat_minor": 0,
  "metadata": {
    "colab": {
      "name": "StoringDataValues",
      "provenance": []
    },
    "kernelspec": {
      "name": "python3",
      "display_name": "Python 3"
    },
    "language_info": {
      "name": "python"
    }
  },
  "cells": [
    {
      "cell_type": "markdown",
      "metadata": {
        "id": "PqIkxlf3coKD"
      },
      "source": [
        "#<font color='#e84118' >Variables"
      ]
    },
    {
      "cell_type": "code",
      "metadata": {
        "id": "PI1bSEgYckej"
      },
      "source": [
        ""
      ],
      "execution_count": null,
      "outputs": []
    },
    {
      "cell_type": "code",
      "metadata": {
        "id": "yPCxsVWNdX4L"
      },
      "source": [
        ""
      ],
      "execution_count": null,
      "outputs": []
    },
    {
      "cell_type": "markdown",
      "metadata": {
        "id": "MA5JxqPKdTUX"
      },
      "source": [
        "####<font color='#e84118' >Get data type<br> function type()"
      ]
    },
    {
      "cell_type": "code",
      "metadata": {
        "id": "-IJoRmbqdFmq"
      },
      "source": [
        ""
      ],
      "execution_count": null,
      "outputs": []
    },
    {
      "cell_type": "code",
      "metadata": {
        "id": "g1XIEDEBdpaG"
      },
      "source": [
        ""
      ],
      "execution_count": null,
      "outputs": []
    },
    {
      "cell_type": "code",
      "metadata": {
        "id": "y6wGBYHpsqq5"
      },
      "source": [
        ""
      ],
      "execution_count": null,
      "outputs": []
    },
    {
      "cell_type": "markdown",
      "metadata": {
        "id": "jkq170VTd5aF"
      },
      "source": [
        "####<font color='#e84118'> When to use single or double quotes?"
      ]
    },
    {
      "cell_type": "code",
      "metadata": {
        "id": "uf3aIVX3eUwy"
      },
      "source": [
        ""
      ],
      "execution_count": null,
      "outputs": []
    },
    {
      "cell_type": "markdown",
      "metadata": {
        "id": "YAXJ5FgzejiU"
      },
      "source": [
        "####<font color='#e84118'> Variables are Case sensitive"
      ]
    },
    {
      "cell_type": "code",
      "metadata": {
        "id": "ox5qHlVnemG9"
      },
      "source": [
        ""
      ],
      "execution_count": null,
      "outputs": []
    },
    {
      "cell_type": "markdown",
      "metadata": {
        "id": "dDZYzcbye32d"
      },
      "source": [
        "#<font color='#00a8ff'> Lists"
      ]
    },
    {
      "cell_type": "code",
      "metadata": {
        "id": "3EQvqXIRfBbf"
      },
      "source": [
        ""
      ],
      "execution_count": null,
      "outputs": []
    },
    {
      "cell_type": "markdown",
      "metadata": {
        "id": "RH3fpT2BgIji"
      },
      "source": [
        "#<font color='#00a8ff'> Duplicates"
      ]
    },
    {
      "cell_type": "code",
      "metadata": {
        "id": "ah5fqZBUgNRT"
      },
      "source": [
        ""
      ],
      "execution_count": null,
      "outputs": []
    },
    {
      "cell_type": "markdown",
      "metadata": {
        "id": "3Q78qkSkgMZU"
      },
      "source": [
        "#<font color='#00a8ff'> Length"
      ]
    },
    {
      "cell_type": "code",
      "metadata": {
        "id": "91B0nG7XgRXj"
      },
      "source": [
        ""
      ],
      "execution_count": null,
      "outputs": []
    },
    {
      "cell_type": "code",
      "metadata": {
        "id": "wNygw5OVgerI"
      },
      "source": [
        ""
      ],
      "execution_count": null,
      "outputs": []
    }
  ]
}