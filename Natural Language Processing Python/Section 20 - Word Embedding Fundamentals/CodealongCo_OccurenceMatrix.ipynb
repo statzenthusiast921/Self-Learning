{
  "nbformat": 4,
  "nbformat_minor": 0,
  "metadata": {
    "colab": {
      "name": "CodealongCo-OccurenceMatrix.ipynb",
      "provenance": []
    },
    "kernelspec": {
      "name": "python3",
      "display_name": "Python 3"
    },
    "language_info": {
      "name": "python"
    },
    "accelerator": "GPU"
  },
  "cells": [
    {
      "cell_type": "markdown",
      "metadata": {
        "id": "-63ihZ8ufu6T"
      },
      "source": [
        "#<font color='#2ecc71' > Co-Occurence Matrix <br> Frequency-based Word Embedding<br>NLTK"
      ]
    },
    {
      "cell_type": "code",
      "metadata": {
        "id": "iVlh07i8Ba8p"
      },
      "source": [
        "\n"
      ],
      "execution_count": null,
      "outputs": []
    },
    {
      "cell_type": "markdown",
      "metadata": {
        "id": "efPLueoKhVAM"
      },
      "source": [
        "###<font color='#2ecc71' > Define function to loop through bigrams - recording the current and next words. <br> Then calculate the number of occurences of the bigram. "
      ]
    },
    {
      "cell_type": "code",
      "metadata": {
        "id": "LXzfvRv3BXUY"
      },
      "source": [
        "\n",
        "\n"
      ],
      "execution_count": null,
      "outputs": []
    },
    {
      "cell_type": "code",
      "metadata": {
        "id": "D2G0lzhSk09G"
      },
      "source": [
        ""
      ],
      "execution_count": null,
      "outputs": []
    },
    {
      "cell_type": "markdown",
      "metadata": {
        "id": "bb12n_aRgbha"
      },
      "source": [
        "#<font color='#2ecc71' > Create Dataframe & Calculate Similariry Scores Between 2 Words - Pass Corpus Into Function Defined Above. "
      ]
    },
    {
      "cell_type": "code",
      "metadata": {
        "id": "rKTLZohPBgt2"
      },
      "source": [
        ""
      ],
      "execution_count": null,
      "outputs": []
    },
    {
      "cell_type": "code",
      "metadata": {
        "id": "U43yvZR0r0fy"
      },
      "source": [
        ""
      ],
      "execution_count": null,
      "outputs": []
    }
  ]
}