{
  "nbformat": 4,
  "nbformat_minor": 0,
  "metadata": {
    "colab": {
      "name": "PartOfSpeechTaggingComplete ",
      "provenance": []
    },
    "kernelspec": {
      "name": "python3",
      "display_name": "Python 3"
    },
    "language_info": {
      "name": "python"
    }
  },
  "cells": [
    {
      "cell_type": "markdown",
      "metadata": {
        "id": "r31rYsMHGIpW"
      },
      "source": [
        "#<font color='#00d8d6'> Part of Speech Tagging<br>\n",
        "<font color='#05c46b' >NLTK Taggers<br>This package contains classes for part-of-speech tagging, or simply “tagging”.<br>A “tag” specifies some property of a token, such as its part of speech. <br>An Off-the-self tagger is available for English <br>\n",
        "<font color='#00d8d6'>Functions: <br>punkt is used for tokenising sentences <br> averaged_perceptron_tagger is used for tagging words with their parts of speech (POS)."
      ]
    },
    {
      "cell_type": "code",
      "metadata": {
        "colab": {
          "base_uri": "https://localhost:8080/"
        },
        "id": "xqr2LdXHcme0",
        "outputId": "fa361fd2-d828-4c68-a642-703ff5d42d73"
      },
      "source": [
        "import nltk\n",
        "nltk.download('punkt')\n",
        "nltk.download('averaged_perceptron_tagger')"
      ],
      "execution_count": null,
      "outputs": [
        {
          "output_type": "stream",
          "text": [
            "[nltk_data] Downloading package punkt to /root/nltk_data...\n",
            "[nltk_data]   Unzipping tokenizers/punkt.zip.\n",
            "[nltk_data] Downloading package averaged_perceptron_tagger to\n",
            "[nltk_data]     /root/nltk_data...\n",
            "[nltk_data]   Unzipping taggers/averaged_perceptron_tagger.zip.\n"
          ],
          "name": "stdout"
        },
        {
          "output_type": "execute_result",
          "data": {
            "text/plain": [
              "True"
            ]
          },
          "metadata": {
            "tags": []
          },
          "execution_count": 1
        }
      ]
    },
    {
      "cell_type": "code",
      "metadata": {
        "id": "NeBBzm0Icuba"
      },
      "source": [
        "sentence = \"The small boy ate the pancakes from the restaurant\""
      ],
      "execution_count": null,
      "outputs": []
    },
    {
      "cell_type": "markdown",
      "metadata": {
        "id": "Xcj3DMKZJyo-"
      },
      "source": [
        "<font color='#00d8d6'>tokenize"
      ]
    },
    {
      "cell_type": "code",
      "metadata": {
        "id": "DVIX2UFrJvlF",
        "colab": {
          "base_uri": "https://localhost:8080/"
        },
        "outputId": "830aece7-71b1-4524-a3f3-be19464eb33d"
      },
      "source": [
        "token = nltk.word_tokenize(sentence)\n",
        "print(token)"
      ],
      "execution_count": null,
      "outputs": [
        {
          "output_type": "stream",
          "text": [
            "['The', 'small', 'boy', 'ate', 'the', 'pancakes', 'from', 'the', 'restaurant']\n"
          ],
          "name": "stdout"
        }
      ]
    },
    {
      "cell_type": "markdown",
      "metadata": {
        "id": "wgBRvE9_KHpJ"
      },
      "source": [
        "<font color='#00d8d6'> POS Tagging"
      ]
    },
    {
      "cell_type": "code",
      "metadata": {
        "id": "POxCgpcnKAN0",
        "colab": {
          "base_uri": "https://localhost:8080/"
        },
        "outputId": "9a310541-29a2-47ba-efd9-7ac8208e04ea"
      },
      "source": [
        "tags = nltk.pos_tag(token)\n",
        "print(tags)"
      ],
      "execution_count": null,
      "outputs": [
        {
          "output_type": "stream",
          "text": [
            "[('The', 'DT'), ('small', 'JJ'), ('boy', 'NN'), ('ate', 'VBP'), ('the', 'DT'), ('pancakes', 'NNS'), ('from', 'IN'), ('the', 'DT'), ('restaurant', 'NN')]\n"
          ],
          "name": "stdout"
        }
      ]
    },
    {
      "cell_type": "markdown",
      "metadata": {
        "id": "f6zytdUfGtmS"
      },
      "source": [
        "[IBM Watson Resource For Part Of Speech](https://www.ibm.com/docs/en/wca/3.5.0?topic=analytics-part-speech-tag-sets)"
      ]
    }
  ]
}