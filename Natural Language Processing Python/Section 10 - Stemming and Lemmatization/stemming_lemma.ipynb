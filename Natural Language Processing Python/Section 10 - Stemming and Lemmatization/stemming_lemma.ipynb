{
  "nbformat": 4,
  "nbformat_minor": 0,
  "metadata": {
    "colab": {
      "name": "stemming_lemma.ipynb",
      "provenance": [],
      "collapsed_sections": []
    },
    "kernelspec": {
      "name": "python3",
      "display_name": "Python 3"
    }
  },
  "cells": [
    {
      "cell_type": "markdown",
      "metadata": {
        "id": "pccWC5dHHUMj"
      },
      "source": [
        "# <font color='#00d2d3'>  NLTK: <br> Stemming: Porter Stemmer, Lancaster Stemmer and Snowball <br> Lemmatization<font/>"
      ]
    },
    {
      "cell_type": "markdown",
      "metadata": {
        "id": "iTZmo5ujIHqi"
      },
      "source": [
        "<font color='#e84393' > Strip affixes from the token and return the stem. <br/> token (str) – The token that should be stemmed."
      ]
    },
    {
      "cell_type": "code",
      "metadata": {
        "id": "xYfRvXwffWC3"
      },
      "source": [
        "#import the nltk package\n",
        "import nltk"
      ],
      "execution_count": null,
      "outputs": []
    },
    {
      "cell_type": "markdown",
      "metadata": {
        "id": "BMx0DDNbS8pd"
      },
      "source": [
        "# <font color='#00d2d3' > 1. Porter Stemmer Algorithm - “An algorithm for suffix stripping.” <br/> "
      ]
    },
    {
      "cell_type": "markdown",
      "metadata": {
        "id": "OfA7ew8ALkLb"
      },
      "source": [
        "One of the most widely used stemming algorithms is the simple and efficient Porter algorithm, which is based on a series of simple cascaded rewrite rules.  The algorithm contains a series of rules like these: <br/>\n",
        "<font color='#e84393' > ATIONAL —►ATE (e.g., relational —►relate)<br/>\n",
        "ING —>6 ifstemcontainsvowel(e.g.,motoring—►motor)<br/>\n",
        "SSES —►SS (e.g., grasses —►grass) <br> </font> \n",
        "Commonly used, gentle algorithm but is not the best for precision. \n",
        "For more information on the Porter Stemmer Algorithm \n",
        "https://tartarus.org/martin/PorterStemmer/"
      ]
    },
    {
      "cell_type": "code",
      "metadata": {
        "id": "hxaa-qsmgApb"
      },
      "source": [
        ""
      ],
      "execution_count": null,
      "outputs": []
    },
    {
      "cell_type": "code",
      "metadata": {
        "id": "2sry5f3bgIty"
      },
      "source": [
        ""
      ],
      "execution_count": null,
      "outputs": []
    },
    {
      "cell_type": "code",
      "metadata": {
        "id": "KQmQb6HWgVB0"
      },
      "source": [
        ""
      ],
      "execution_count": null,
      "outputs": []
    },
    {
      "cell_type": "code",
      "metadata": {
        "id": "HJQmcHJXga39"
      },
      "source": [
        ""
      ],
      "execution_count": null,
      "outputs": []
    },
    {
      "cell_type": "code",
      "metadata": {
        "id": "CQfbUOXohaoP"
      },
      "source": [
        ""
      ],
      "execution_count": null,
      "outputs": []
    },
    {
      "cell_type": "markdown",
      "metadata": {
        "id": "ECzgMP9uVWWG"
      },
      "source": [
        "# <font color='#00d2d3' > 2. Lancaster - A word stemmer based on the Lancaster stemming algorithm <br/> "
      ]
    },
    {
      "cell_type": "markdown",
      "metadata": {
        "id": "1mIdxTChQVcl"
      },
      "source": [
        "<font color='#00d2d3' > \n",
        "An iterative algorithm with rules. About 120 rules are indexed by the last letter of a suffix. On each iteration, it tries to find an applicable rule by the last character of the word. Each rule specifies either a deletion or replacement of an ending. If there is no such rule, it terminates. It also terminates if a word starts with a vowel and there are only two letters left or if a word starts with a consonant and there are only three characters left. Otherwise, the rule is applied, and the process repeats. <br/> It is an aggressive algorithm that can give low precision. "
      ]
    },
    {
      "cell_type": "code",
      "metadata": {
        "id": "wQHYjyXehIEW"
      },
      "source": [
        ""
      ],
      "execution_count": null,
      "outputs": []
    },
    {
      "cell_type": "code",
      "metadata": {
        "id": "ZkD-ywFchRhG"
      },
      "source": [
        ""
      ],
      "execution_count": null,
      "outputs": []
    },
    {
      "cell_type": "code",
      "metadata": {
        "id": "rj3XWBIAhgcg"
      },
      "source": [
        ""
      ],
      "execution_count": null,
      "outputs": []
    },
    {
      "cell_type": "markdown",
      "metadata": {
        "id": "RUe8eiioWg5o"
      },
      "source": [
        "# <font color='#00d2d3' > 3. Snowball -  <br/> "
      ]
    },
    {
      "cell_type": "markdown",
      "metadata": {
        "id": "-XsypTPFXFlU"
      },
      "source": [
        "<font color='#00d2d3' > 3. Snowball - A modified version of the Porter Stemmer. Developed by the same guy. More precise for large datasets. <br/> "
      ]
    },
    {
      "cell_type": "code",
      "metadata": {
        "id": "P4bUHLzQh8Z8"
      },
      "source": [
        ""
      ],
      "execution_count": null,
      "outputs": []
    },
    {
      "cell_type": "code",
      "metadata": {
        "id": "jmzyTEzViR0o"
      },
      "source": [
        ""
      ],
      "execution_count": null,
      "outputs": []
    },
    {
      "cell_type": "code",
      "metadata": {
        "id": "09_ZD9_1UFI9"
      },
      "source": [
        ""
      ],
      "execution_count": null,
      "outputs": []
    }
  ]
}