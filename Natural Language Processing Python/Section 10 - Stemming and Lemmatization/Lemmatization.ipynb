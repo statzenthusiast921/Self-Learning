{
  "nbformat": 4,
  "nbformat_minor": 0,
  "metadata": {
    "colab": {
      "name": "Lemmatization.ipynb",
      "provenance": [],
      "collapsed_sections": []
    },
    "kernelspec": {
      "name": "python3",
      "display_name": "Python 3"
    }
  },
  "cells": [
    {
      "cell_type": "markdown",
      "metadata": {
        "id": "tnMc9K9_GCtO"
      },
      "source": [
        "# <font color='#fd79a8'>  Lemmatization  "
      ]
    },
    {
      "cell_type": "markdown",
      "metadata": {
        "id": "m-sjxwYOMZ5O"
      },
      "source": [
        "### <font color='#2d3436'>  Libraries used: NLTK's WordNet, spaCy, TextBlob, Pattern & Standford Core NLP  <br>"
      ]
    },
    {
      "cell_type": "code",
      "metadata": {
        "id": "VDTHva3B2w9Z",
        "colab": {
          "base_uri": "https://localhost:8080/"
        },
        "outputId": "302a1bfa-ab26-4f41-8b27-6f61d3cf9e69"
      },
      "source": [
        "import nltk \n",
        "from nltk.stem import WordNetLemmatizer\n",
        "nltk.download('wordnet')"
      ],
      "execution_count": null,
      "outputs": [
        {
          "output_type": "stream",
          "text": [
            "[nltk_data] Downloading package wordnet to /root/nltk_data...\n",
            "[nltk_data]   Package wordnet is already up-to-date!\n"
          ],
          "name": "stdout"
        },
        {
          "output_type": "execute_result",
          "data": {
            "text/plain": [
              "True"
            ]
          },
          "metadata": {
            "tags": []
          },
          "execution_count": 3
        }
      ]
    },
    {
      "cell_type": "code",
      "metadata": {
        "id": "5sNwVbJ_PaBi",
        "colab": {
          "base_uri": "https://localhost:8080/"
        },
        "outputId": "d452f06f-a299-4236-c0b9-1f868cb787a6"
      },
      "source": [
        "lem = WordNetLemmatizer()\n",
        "token = \"stockings\"\n",
        "\n",
        "result_lemma = lem.lemmatize(token)\n",
        "print(token, \"=>\", result_lemma)"
      ],
      "execution_count": null,
      "outputs": [
        {
          "output_type": "stream",
          "text": [
            "stockings => stocking\n"
          ],
          "name": "stdout"
        }
      ]
    },
    {
      "cell_type": "markdown",
      "metadata": {
        "id": "1ooZuwB_IEo9"
      },
      "source": [
        "<font color='#fd79a8'>Above, an object of the WordNetLemmatizer class was created; the object was named lem <br/>Then the word that needs to be lemmatized is passed to the lemmatize() method of the WordNetLemmatizer object - lem."
      ]
    },
    {
      "cell_type": "markdown",
      "metadata": {
        "id": "82VQFl1EdYC4"
      },
      "source": [
        "<font color='#feca57'> Lemmatize an entire sentence"
      ]
    },
    {
      "cell_type": "code",
      "metadata": {
        "id": "W5LmYbaSdSrj",
        "colab": {
          "base_uri": "https://localhost:8080/"
        },
        "outputId": "f9e86802-765b-4743-b2e2-5e531f1877f0"
      },
      "source": [
        "string1 = \"The girls sang louder. The bankers banked at other banks.\" \n",
        "string2 = \"These were better shoes for her feet. The grocer was stocking the shelves at the grocery\" \n",
        "\n",
        "import nltk\n",
        "from nltk.tokenize import word_tokenize\n",
        "nltk.download('punkt')\n"
      ],
      "execution_count": null,
      "outputs": [
        {
          "output_type": "stream",
          "text": [
            "[nltk_data] Downloading package punkt to /root/nltk_data...\n",
            "[nltk_data]   Package punkt is already up-to-date!\n"
          ],
          "name": "stdout"
        },
        {
          "output_type": "execute_result",
          "data": {
            "text/plain": [
              "True"
            ]
          },
          "metadata": {
            "tags": []
          },
          "execution_count": 66
        }
      ]
    },
    {
      "cell_type": "code",
      "metadata": {
        "id": "OJ1z1BkA_lat",
        "colab": {
          "base_uri": "https://localhost:8080/"
        },
        "outputId": "c332299f-ed4a-41b6-dec8-1524778bb3b7"
      },
      "source": [
        "tokens = nltk.word_tokenize(string1)\n",
        "print(\"Tokenized sentence:\")\n",
        "print(tokens) \n",
        "\n",
        "#Lemmatize the tokenized sentences \n",
        "lemmatized_tokens = ' '.join([lem.lemmatize(w) for w in tokens])\n",
        "print(\"Lemmatized sentence:\")\n",
        "print(lemmatized_tokens)"
      ],
      "execution_count": null,
      "outputs": [
        {
          "output_type": "stream",
          "text": [
            "Tokenized sentence:\n",
            "['The', 'girls', 'sang', 'louder', '.', 'The', 'bankers', 'banked', 'at', 'other', 'banks', '.']\n",
            "Lemmatized sentence:\n",
            "The girl sang louder . The banker banked at other bank .\n"
          ],
          "name": "stdout"
        }
      ]
    },
    {
      "cell_type": "code",
      "metadata": {
        "id": "LG62I1oKDWFU",
        "colab": {
          "base_uri": "https://localhost:8080/"
        },
        "outputId": "30c6d032-bb9b-4ea4-c50f-b7910af1f512"
      },
      "source": [
        "tokens2 = nltk.word_tokenize(string2)\n",
        "print(\"Tokenized sentence:\")\n",
        "print(tokens2) \n",
        "\n",
        "#Lemmatize the tokenized sentences \n",
        "lemmatized_tokens2 = ' '.join([lem.lemmatize(w) for w in tokens2])\n",
        "print(\"Lemmatized sentence:\")\n",
        "print(lemmatized_tokens2)"
      ],
      "execution_count": null,
      "outputs": [
        {
          "output_type": "stream",
          "text": [
            "Tokenized sentence:\n",
            "['These', 'were', 'better', 'shoes', 'for', 'her', 'feet', '.', 'The', 'grocer', 'was', 'stocking', 'the', 'shelves', 'at', 'the', 'grocery']\n",
            "Lemmatized sentence:\n",
            "These were better shoe for her foot . The grocer wa stocking the shelf at the grocery\n"
          ],
          "name": "stdout"
        }
      ]
    },
    {
      "cell_type": "markdown",
      "metadata": {
        "id": "OzGq5yHBD48d"
      },
      "source": [
        "<font color='#48dbfb'>These **be** better show for her foot. <br>\n",
        "The grocer **be stock **the shelf at the grocery"
      ]
    },
    {
      "cell_type": "markdown",
      "metadata": {
        "id": "ZvJNOTDElqgV"
      },
      "source": [
        "<font color='#fd79a8'>word  => lemma <br/>\n",
        "sung  => sing (verb) <br/> \n",
        "are   => be (to be) (verb) <br>\n",
        "were/was => be (verb) <br/>\n",
        "<font color='#0abde3'>\n",
        "banker - noun (lemma - banker)<br>\n",
        "banked - verb (lemma - bank) <br>\n",
        "banks - noun (lemma bank) <br>\n",
        "stocking - verb (lemma - stock)<br>\n",
        "stockings - noun (lemma - stocking)\n",
        "\n"
      ]
    },
    {
      "cell_type": "markdown",
      "metadata": {
        "id": "lZc6Nqqz1JAE"
      },
      "source": [
        "<font color='#fd79a8'> A second argument must be added to lemmatize() - to include (or to tag) the Parts-of-Speech. "
      ]
    }
  ]
}