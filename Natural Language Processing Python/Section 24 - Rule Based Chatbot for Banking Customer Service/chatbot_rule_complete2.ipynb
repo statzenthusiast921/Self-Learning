{
  "nbformat": 4,
  "nbformat_minor": 0,
  "metadata": {
    "colab": {
      "name": "chatbot_rule_complete2.ipynb",
      "provenance": [],
      "collapsed_sections": []
    },
    "kernelspec": {
      "name": "python3",
      "display_name": "Python 3"
    }
  },
  "cells": [
    {
      "cell_type": "markdown",
      "metadata": {
        "id": "xcLrTwBDAjU6"
      },
      "source": [
        "## <font color='#7ed6df'>Rule Based Chatbot <br><font color='#c7ecee'>Banking Customer Service Chatbot</font>  <br/>\n",
        " <font color='#95afc0'> Question-Answer <br> Rule based use hard-coded rules - many limitations. Remember this is not using NLP or machine learning<br>AI based chatbots are based on complex machine learning models that enable them to <font color='#dff9fb'> self-learn </font>  <br> ML: Learns (trains) from conversational datasets "
      ]
    },
    {
      "cell_type": "markdown",
      "metadata": {
        "id": "8BE9uINiCuR5"
      },
      "source": [
        "# <font color='#c7ecee'>Rule based Chatbot  <font color='#7ed6df' >Using Exact Matches  <br> \n",
        " <font color='#95afc0'>In this case, since the chatbot relies on the exact question being asked, quite often a customer would have to select from preset questions - the only inputs that the bot would understand. <br>Build List with input - reponse matches"
      ]
    },
    {
      "cell_type": "code",
      "metadata": {
        "id": "79a0SG_XWOWh"
      },
      "source": [
        "match_list = {\n",
        "    \"my credit card was stolen, what to do?\": \"Call 1-800-123-5000 and an agent will cancel your card\",\n",
        "    \"is the bank open on sundays?\": \"yes from 10:00 to 14:00\",\n",
        "    \"generic\": \"I did not understand the question\"\n",
        "}"
      ],
      "execution_count": 1,
      "outputs": []
    },
    {
      "cell_type": "code",
      "metadata": {
        "id": "0XviINVqWOy3"
      },
      "source": [
        "conversation = \"Customer: {input}\\nGeorge: {output}\\n\"\n",
        "#function to figure out which reponse would match the input question \n",
        "\n",
        "def match_resp(input):\n",
        "  answer = match_list.get(input.lower(),match_list['generic'])\n",
        "  return(conversation.format(input=input, output = answer))"
      ],
      "execution_count": 2,
      "outputs": []
    },
    {
      "cell_type": "code",
      "metadata": {
        "colab": {
          "base_uri": "https://localhost:8080/"
        },
        "id": "BH-DRzjEZLgB",
        "outputId": "1dbceb46-0577-4a5f-f1e5-813a1c277297"
      },
      "source": [
        "#response output \n",
        "print(match_resp(\"my credit card was stolen, what to do?\"))\n",
        "print(match_resp(\"is the bank open on Sundays?\"))\n",
        "print(match_resp(\"credit card was stolen, what to do?\"))\n",
        "print(match_resp(\"would I qualify for a car loan if i have no collateral\"))"
      ],
      "execution_count": 3,
      "outputs": [
        {
          "output_type": "stream",
          "text": [
            "Customer: my credit card was stolen, what to do?\n",
            "George: Call 1-800-123-5000 and an agent will cancel your card\n",
            "\n",
            "Customer: is the bank open on Sundays?\n",
            "George: yes from 10:00 to 14:00\n",
            "\n",
            "Customer: credit card was stolen, what to do?\n",
            "George: I did not understand the question\n",
            "\n",
            "Customer: would I qualify for a car loan if i have no collateral\n",
            "George: I did not understand the question\n",
            "\n"
          ],
          "name": "stdout"
        }
      ]
    },
    {
      "cell_type": "markdown",
      "metadata": {
        "id": "UgAHNB8iH74E"
      },
      "source": [
        "## <font color='#c7ecee'>Rule based Chatbot:  <font color='#7ed6df' >Use Pattern-Matching to 'guess' the answer. <br>\n",
        " <font color='#d1ccc0'>Rule-based (also command-based, keyword, or transactional) chatbots communicate using predefined answers.\n",
        "\n",
        "\n"
      ]
    },
    {
      "cell_type": "code",
      "metadata": {
        "id": "-1yxoElRKxsx"
      },
      "source": [
        "import re "
      ],
      "execution_count": 4,
      "outputs": []
    },
    {
      "cell_type": "markdown",
      "metadata": {
        "id": "9xBe04k0oL2A"
      },
      "source": [
        " <font color='#7ed6df'>Build Keyword List<br> <font color='#d1ccc0'>Predefined keywords that the chatbot would be programmed on to answer "
      ]
    },
    {
      "cell_type": "code",
      "metadata": {
        "id": "-DeiNMhoH7Ag"
      },
      "source": [
        "keywords = {\n",
        "    'change_pin': ['pin', 'code', 'change'],\n",
        "    'stolen_lost': ['stolen', 'lost', 'hacked'],\n",
        "    'loan': ['qualify', 'loan', 'borrow', 'interest']\n",
        "}"
      ],
      "execution_count": 5,
      "outputs": []
    },
    {
      "cell_type": "markdown",
      "metadata": {
        "id": "ZPGSW5GjkBeh"
      },
      "source": [
        " <font color='#7ed6df'>Build a dictionary of intents"
      ]
    },
    {
      "cell_type": "code",
      "metadata": {
        "id": "uKOquj1lKm-Q"
      },
      "source": [
        "dict_intent = {intent: re.compile('|'.join(keys)) for intent, keys in keywords.items()}"
      ],
      "execution_count": 6,
      "outputs": []
    },
    {
      "cell_type": "markdown",
      "metadata": {
        "id": "bjT0bEfGhlHo"
      },
      "source": [
        "  <font color='#7ed6df'>Function to determine the pattern, to figure out the context of the question<br>  taking an input from the user and searching the input string for our keywords.<br>RegEx Search function to search the user input for keywords stored in the value field of the keywords dictionary. RegEx’s search function uses those sequences to compare the patterns of characters in the keywords with patterns of characters in the input string.\n",
        "\n",
        "<font color='#d1ccc0'>If a match is found, the current intent gets selected and is used as the key to the responses dictionary to select the correct response.<br>If there is no indication of the pattern in the input, then a generic response is given.<br>Define a dictionary of reponses. <br>Search input for Keywords"
      ]
    },
    {
      "cell_type": "code",
      "metadata": {
        "id": "FM7npWpXKlvA"
      },
      "source": [
        "def context(cust_input):\n",
        "    for intent, pattern in dict_intent.items():\n",
        "        if re.search(pattern, cust_input): \n",
        "            return(intent)\n",
        "    else:\n",
        "        return('generic')\n",
        "\n",
        "dict_response = {\n",
        "    \"change_pin\":\"To change PIN, you need to set up an appointment to come in to the bank. Set up appointment online www.gothambank.com/newpin\",\n",
        "    \"stolen_lost_card\": \"Call 1-800-5000 immediately, select option 2 and an agent will cancel the card\",\n",
        "    \"loan\":\"Try our loan-calculator www.gothambank.com/loancalculator\",\n",
        "    \"generic\":\"I did not understand the question, rephrase it or call 1-800-9000 to speak to an agent!\"\n",
        "}"
      ],
      "execution_count": 7,
      "outputs": []
    },
    {
      "cell_type": "markdown",
      "metadata": {
        "id": "aRIFS9p3nj3K"
      },
      "source": [
        " <font color='#d1ccc0'>Pick response based on Matched Intent"
      ]
    },
    {
      "cell_type": "code",
      "metadata": {
        "id": "iZE1aW_9Kscg"
      },
      "source": [
        "def answer(text):\n",
        "    response = dict_response.get(context(text))\n",
        "    conversation = \"Customer: {input}\\nRudy: {output}\\n\" \n",
        "    return(conversation.format(input=text, output=response))"
      ],
      "execution_count": 8,
      "outputs": []
    },
    {
      "cell_type": "markdown",
      "metadata": {
        "id": "T2o5Mbk7nqNm"
      },
      "source": [
        " <font color='#d1ccc0'>Response Output <br><font color='#95afc0'>If the customer uses a different spelling or dialect, the chatbot might fail to match that question with an answer"
      ]
    },
    {
      "cell_type": "code",
      "metadata": {
        "colab": {
          "base_uri": "https://localhost:8080/"
        },
        "id": "mPVe-zsDK5zj",
        "outputId": "2935b397-724f-4e97-bc10-0e92acc35ddd"
      },
      "source": [
        "print(answer(\"How can I change my pin code for my debit?\"))\n",
        "print(answer(\"Can I qualify for a loan if I already have a mortage?\"))\n",
        "print(answer(\"Does Gotham Bank offer insurance?\"))"
      ],
      "execution_count": 10,
      "outputs": [
        {
          "output_type": "stream",
          "text": [
            "Customer: How can I change my pin code for my debit?\n",
            "Rudy: To change PIN, you need to set up an appointment to come in to the bank. Set up appointment online www.gothambank.com/newpin\n",
            "\n",
            "Customer: Can I qualify for a loan if I already have a mortage?\n",
            "Rudy: Try our loan-calculator www.gothambank.com/loancalculator\n",
            "\n",
            "Customer: Does Gotham Bank offer insurance?\n",
            "Rudy: I did not understand the question, rephrase it or call 1-800-9000 to speak to an agent!\n",
            "\n"
          ],
          "name": "stdout"
        }
      ]
    }
  ]
}