{
  "nbformat": 4,
  "nbformat_minor": 0,
  "metadata": {
    "colab": {
      "name": "chatbot_rule.ipynb",
      "provenance": [],
      "collapsed_sections": []
    },
    "kernelspec": {
      "name": "python3",
      "display_name": "Python 3"
    }
  },
  "cells": [
    {
      "cell_type": "markdown",
      "metadata": {
        "id": "xcLrTwBDAjU6"
      },
      "source": [
        "## <font color='#7ed6df'>Rule Based Chatbot <br><font color='#c7ecee'>Banking Customer Service Chatbot</font>  <br/>\n",
        " <font color='#95afc0'> Question-Answer <br> Rule based use hard-coded rules - many limitations. Remember this is not using NLP or machine learning<br>AI based chatbots are based on complex machine learning models that enable them to <font color='#dff9fb'> self-learn </font>  <br> ML: Learns (trains) from conversational datasets "
      ]
    },
    {
      "cell_type": "markdown",
      "metadata": {
        "id": "8BE9uINiCuR5"
      },
      "source": [
        "# <font color='#c7ecee'>Rule based Chatbot  <font color='#7ed6df' >Using Exact Matches  <br> \n",
        " <font color='#95afc0'>In this case, since the chatbot relies on the exact question being asked, quite often a customer would have to select from preset questions - the only inputs that the bot would understand. <br>Build List with input - reponse matches"
      ]
    },
    {
      "cell_type": "code",
      "metadata": {
        "id": "79a0SG_XWOWh"
      },
      "source": [
        ""
      ],
      "execution_count": null,
      "outputs": []
    },
    {
      "cell_type": "code",
      "metadata": {
        "id": "0XviINVqWOy3"
      },
      "source": [
        ""
      ],
      "execution_count": null,
      "outputs": []
    },
    {
      "cell_type": "code",
      "metadata": {
        "id": "BH-DRzjEZLgB"
      },
      "source": [
        ""
      ],
      "execution_count": null,
      "outputs": []
    },
    {
      "cell_type": "markdown",
      "metadata": {
        "id": "UgAHNB8iH74E"
      },
      "source": [
        "## <font color='#c7ecee'>Rule based Chatbot:  <font color='#7ed6df' >Use Pattern-Matching to 'guess' the answer. <br>\n",
        " <font color='#d1ccc0'>Rule-based (also command-based, keyword, or transactional) chatbots communicate using predefined answers.\n",
        "\n",
        "\n"
      ]
    },
    {
      "cell_type": "code",
      "metadata": {
        "id": "-1yxoElRKxsx"
      },
      "source": [
        ""
      ],
      "execution_count": null,
      "outputs": []
    },
    {
      "cell_type": "markdown",
      "metadata": {
        "id": "9xBe04k0oL2A"
      },
      "source": [
        " <font color='#7ed6df'>Build Keyword List<br> <font color='#d1ccc0'>Predefined keywords that the chatbot would be programmed on to answer "
      ]
    },
    {
      "cell_type": "code",
      "metadata": {
        "id": "-DeiNMhoH7Ag"
      },
      "source": [
        ""
      ],
      "execution_count": null,
      "outputs": []
    },
    {
      "cell_type": "markdown",
      "metadata": {
        "id": "ZPGSW5GjkBeh"
      },
      "source": [
        " <font color='#7ed6df'>Build a dictionary of intents"
      ]
    },
    {
      "cell_type": "code",
      "metadata": {
        "id": "uKOquj1lKm-Q"
      },
      "source": [
        ""
      ],
      "execution_count": null,
      "outputs": []
    },
    {
      "cell_type": "markdown",
      "metadata": {
        "id": "bjT0bEfGhlHo"
      },
      "source": [
        "  <font color='#7ed6df'>Function to determine the pattern, to figure out the context of the question<br>  taking an input from the user and searching the input string for our keywords.<br>RegEx Search function to search the user input for keywords stored in the value field of the keywords dictionary. RegEx’s search function uses those sequences to compare the patterns of characters in the keywords with patterns of characters in the input string.\n",
        "\n",
        "<font color='#d1ccc0'>If a match is found, the current intent gets selected and is used as the key to the responses dictionary to select the correct response.<br>If there is no indication of the pattern in the input, then a generic response is given.<br>Define a dictionary of reponses. <br>Search input for Keywords"
      ]
    },
    {
      "cell_type": "code",
      "metadata": {
        "id": "FM7npWpXKlvA"
      },
      "source": [
        ""
      ],
      "execution_count": null,
      "outputs": []
    },
    {
      "cell_type": "markdown",
      "metadata": {
        "id": "aRIFS9p3nj3K"
      },
      "source": [
        " <font color='#d1ccc0'>Pick response based on Matched Intent"
      ]
    },
    {
      "cell_type": "code",
      "metadata": {
        "id": "iZE1aW_9Kscg"
      },
      "source": [
        ""
      ],
      "execution_count": null,
      "outputs": []
    },
    {
      "cell_type": "markdown",
      "metadata": {
        "id": "T2o5Mbk7nqNm"
      },
      "source": [
        " <font color='#d1ccc0'>Response Output <br><font color='#95afc0'>If the customer uses a different spelling or dialect, the chatbot might fail to match that question with an answer"
      ]
    },
    {
      "cell_type": "code",
      "metadata": {
        "id": "mPVe-zsDK5zj"
      },
      "source": [
        ""
      ],
      "execution_count": null,
      "outputs": []
    }
  ]
}