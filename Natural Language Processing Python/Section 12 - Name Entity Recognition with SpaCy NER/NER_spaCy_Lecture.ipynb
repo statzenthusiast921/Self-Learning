{
  "nbformat": 4,
  "nbformat_minor": 0,
  "metadata": {
    "colab": {
      "name": "NER_spaCy_Lecture.ipynb",
      "provenance": [],
      "collapsed_sections": []
    },
    "kernelspec": {
      "name": "python3",
      "display_name": "Python 3"
    },
    "accelerator": "GPU"
  },
  "cells": [
    {
      "cell_type": "markdown",
      "metadata": {
        "id": "6gdXm-7b_5S9"
      },
      "source": [
        "##<font color='#2ecc71'> Intro to Information Extraction<br>NER using spaCy"
      ]
    },
    {
      "cell_type": "code",
      "metadata": {
        "id": "dpoJzfG0C_No"
      },
      "source": [
        ""
      ],
      "execution_count": null,
      "outputs": []
    },
    {
      "cell_type": "code",
      "metadata": {
        "id": "M465Czc7HGtS"
      },
      "source": [
        ""
      ],
      "execution_count": null,
      "outputs": []
    },
    {
      "cell_type": "markdown",
      "metadata": {
        "id": "Z22HB0Wd7KUW"
      },
      "source": [
        "<font color='#00d2d3'>Nintendo Q3 profit rises 6% on Switch sales but misses estimates<br><font color='#00d2d3'>Nintendo Co Ltd 7974.T said on Thursday third-quarter operating profit rose 6%,driven by Switch console sales in the year-end shopping season, but the earnings fell below market expectations.Profit for the October-December quarter was 168.7 billion yen ($1.54 billion) versus 158.6 billion yen a year earlier.That compared with an average forecast of 175 billion yen from 10 analyst estimates compiled by Refinitiv.<br>[NASDAQ](https://www.nasdaq.com/articles/nintendo-q3-profit-rises-6-on-switch-sales-but-misses-estimates-2020-01-30)"
      ]
    },
    {
      "cell_type": "code",
      "metadata": {
        "id": "7VeAUZ9wDCmJ"
      },
      "source": [
        ""
      ],
      "execution_count": null,
      "outputs": []
    },
    {
      "cell_type": "code",
      "metadata": {
        "id": "2DXOhQI4ihp-"
      },
      "source": [
        ""
      ],
      "execution_count": null,
      "outputs": []
    },
    {
      "cell_type": "markdown",
      "metadata": {
        "id": "Eq10FDoQ54nz"
      },
      "source": [
        "<font color='#2ecc71'>\n",
        "*   ORG: Companies, agencies, institutions, etc.<br>\n",
        "*   Cardinal Number: a number that says how many of something there are<br>\n",
        "*  <font color='pink#00d2d3ider of financial market data and infrastructure<br> \n",
        "\n",
        "[spaCy annotation](https://spacy.io/api/annotation)\n",
        "\n",
        "\n"
      ]
    },
    {
      "cell_type": "code",
      "metadata": {
        "id": "DSv4p02pDI-6"
      },
      "source": [
        ""
      ],
      "execution_count": null,
      "outputs": []
    },
    {
      "cell_type": "code",
      "metadata": {
        "id": "asxYVu27DKfR"
      },
      "source": [
        ""
      ],
      "execution_count": null,
      "outputs": []
    },
    {
      "cell_type": "code",
      "metadata": {
        "id": "L1NNVNwBCxUB"
      },
      "source": [
        "doc1 = nlp('Labour is a centre-left political party in the United Kingdom that has been described as an alliance of social democrats, democratic socialists and trade unionists. In all general elections since 1922, Labour has been either the governing party or the Official Opposition.')\n"
      ],
      "execution_count": null,
      "outputs": []
    },
    {
      "cell_type": "code",
      "metadata": {
        "id": "sf4wxiVQDWPc"
      },
      "source": [
        ""
      ],
      "execution_count": null,
      "outputs": []
    },
    {
      "cell_type": "markdown",
      "metadata": {
        "id": "j--yX6OBEV2D"
      },
      "source": [
        "<font color='#00d2d3'><br>BeautifulSoup: Scrape html page<br>html5lib: Parse<br>convert to text<br>\n"
      ]
    },
    {
      "cell_type": "code",
      "metadata": {
        "id": "75f824ZmDY_O"
      },
      "source": [
        ""
      ],
      "execution_count": null,
      "outputs": []
    },
    {
      "cell_type": "code",
      "metadata": {
        "id": "sXhhavstDgbl"
      },
      "source": [
        ""
      ],
      "execution_count": null,
      "outputs": []
    }
  ]
}