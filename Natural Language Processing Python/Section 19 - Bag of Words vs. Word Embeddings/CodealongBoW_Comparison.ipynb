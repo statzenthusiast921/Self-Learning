{
  "nbformat": 4,
  "nbformat_minor": 0,
  "metadata": {
    "colab": {
      "name": "CodealongBoW_Comparison.ipynb",
      "provenance": []
    },
    "kernelspec": {
      "name": "python3",
      "display_name": "Python 3"
    },
    "language_info": {
      "name": "python"
    }
  },
  "cells": [
    {
      "cell_type": "markdown",
      "metadata": {
        "id": "hBGPbXPIb2Gr"
      },
      "source": [
        "##<font color='#12CBC4'> Comparison Between BoW & Word Embeddings In Detecting Simiarlity & Context<br>Semantic similarity between two words, phrases or even two documents"
      ]
    },
    {
      "cell_type": "code",
      "metadata": {
        "id": "AN0upTx_XGyj"
      },
      "source": [
        "\n"
      ],
      "execution_count": null,
      "outputs": []
    },
    {
      "cell_type": "code",
      "metadata": {
        "id": "ptgQ3qVxawfR"
      },
      "source": [
        ""
      ],
      "execution_count": null,
      "outputs": []
    },
    {
      "cell_type": "markdown",
      "metadata": {
        "id": "GG99BAA0bTzI"
      },
      "source": [
        "##<font color='#12CBC4'>Calculate Similarity Scores With spaCy and BoW"
      ]
    },
    {
      "cell_type": "code",
      "metadata": {
        "id": "ZD1SDeqjW_7P"
      },
      "source": [
        "\n"
      ],
      "execution_count": null,
      "outputs": []
    },
    {
      "cell_type": "markdown",
      "metadata": {
        "id": "-8cgXqA2gcp6"
      },
      "source": [
        "##<font color='#12CBC4'> Spacy Similarity"
      ]
    },
    {
      "cell_type": "code",
      "metadata": {
        "id": "iM0E8zGhgLdJ"
      },
      "source": [
        ""
      ],
      "execution_count": null,
      "outputs": []
    },
    {
      "cell_type": "markdown",
      "metadata": {
        "id": "GPMDYQB6ggTF"
      },
      "source": [
        "##<font color='#12CBC4'>BoW Similarity"
      ]
    },
    {
      "cell_type": "code",
      "metadata": {
        "id": "WI683ZvYgWH5"
      },
      "source": [
        ""
      ],
      "execution_count": null,
      "outputs": []
    },
    {
      "cell_type": "markdown",
      "metadata": {
        "id": "7drqqb-kc3j6"
      },
      "source": [
        "<font color='#B53471'>Spacy Notes<br>3 types of word objects in spacy; (1) docs (2) tokens and (3) spans. Docs refer to doc objects made from texts analogous to paragraphs or full documents; while tokens refer to word like chunks which represents the most atomic parts of a doc. spans are continuous list of these tokens; i.e. analogue of a phrase.<br>spaCy md model, which has a relatively small number of vectors (between 10k and 20k), and other tokens mapped to their nearest vector<br>If you try to calculate simiarity using Spacy Small Language Model, you get a warning - bcause no real vector is loaded and the similarity measure is created using ner and pos taggers and similar signs.<br>\n",
        "<br><font color='#FFC312'>The small model basically checks to see the the same words reappear. <font color='#B53471'>The reason behind this is that to optimize the memory usage, spacy doesn't load any real word embedding for the vocabulary it uses when it loads the smaller models. \n",
        "\n",
        "<font color='#B53471'>spaCy uses word vectors for medium (md) and large (lg). Therefore, to use the actual vectors and get better accuracy, use either the medium model i.e. en_core_web_md or the large model i.e. en_core_web_lg. The large model contains a very large vocabulary with unique vectors for more than a million words."
      ]
    },
    {
      "cell_type": "code",
      "metadata": {
        "id": "sDp5DQwqa9Uo"
      },
      "source": [
        ""
      ],
      "execution_count": null,
      "outputs": []
    }
  ]
}