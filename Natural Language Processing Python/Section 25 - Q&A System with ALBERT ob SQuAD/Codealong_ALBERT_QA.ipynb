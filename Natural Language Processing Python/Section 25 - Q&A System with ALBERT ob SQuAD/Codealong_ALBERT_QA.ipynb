{
  "nbformat": 4,
  "nbformat_minor": 0,
  "metadata": {
    "colab": {
      "name": "Codealong_ALBERT_QA.ipynb",
      "provenance": [],
      "machine_shape": "hm"
    },
    "kernelspec": {
      "name": "python3",
      "display_name": "Python 3"
    },
    "language_info": {
      "name": "python"
    },
    "accelerator": "GPU"
  },
  "cells": [
    {
      "cell_type": "markdown",
      "metadata": {
        "id": "Eg5cvfF1ODpY"
      },
      "source": [
        "<font color=\"#ffb142\">Reading Comprehension Overview<br><font color=\"#636e72\">Venezuela, officially the Bolivarian Republic of Venezuela (Spanish: República Bolivariana de Venezuela),[12] is a country on the northern coast of South America, consisting of a continental landmass and many islands and islets in the Caribbean Sea. It has a territorial extension of 916,445 km2 (353,841 sq mi), and the population of Venezuela was estimated at 28 million in 2019.[7] The capital and largest urban agglomeration is the city of Caracas.<br>\n",
        "\n",
        "\n",
        "*   How many people live in Venezuela?\n",
        "\n",
        "*   Q&A Response: <br>\n",
        "28 million\n",
        "\n",
        "<font color=\"#fd79a8\">Pre-Trained Transformer Model - ALBERT. <font color=\"#636e72\">It is said that ALBERT has shorter training and inference times than BERT. We would be fine tuning ALBERT for our Q&A task. <br>\n",
        "<font color=\"#fd79a8\"> Transformer Library: Huggings Face\n",
        "\n",
        "\n",
        "\n"
      ]
    },
    {
      "cell_type": "markdown",
      "metadata": {
        "id": "eLoAxFPDQzb9"
      },
      "source": [
        "<font color=\"#ffb142\">Check GPU Settings"
      ]
    },
    {
      "cell_type": "code",
      "metadata": {
        "id": "k9rXQMfKh6AC"
      },
      "source": [
        ""
      ],
      "execution_count": null,
      "outputs": []
    },
    {
      "cell_type": "code",
      "metadata": {
        "id": "0ytxxwJliEEt"
      },
      "source": [
        "# import tensorflow as tf\n",
        "# device_name = tf.test.gpu_device_name()\n",
        "# if device_name != '/device:GPU:0':\n",
        "#     raise SystemError('GPU device not found')\n",
        "# print('Found GPU at: {}'.format(device_name))"
      ],
      "execution_count": null,
      "outputs": []
    },
    {
      "cell_type": "markdown",
      "metadata": {
        "id": "DUwUowlUSxIp"
      },
      "source": [
        "<font color=\"#ffb142\"> Source Hugging Face Library from Github<br>Git checkout: Switch branches or restore working tree files<br>[Git Hub Repo](https://github.com/huggingface/transformers)"
      ]
    },
    {
      "cell_type": "code",
      "metadata": {
        "id": "tCjgXDzBnjsV"
      },
      "source": [
        "\n",
        "#&& git checkout a3085020ed0d81d4903c50967687192e3101e770 "
      ],
      "execution_count": null,
      "outputs": []
    },
    {
      "cell_type": "code",
      "metadata": {
        "id": "MxB_V_Slnjxw"
      },
      "source": [
        ""
      ],
      "execution_count": null,
      "outputs": []
    },
    {
      "cell_type": "markdown",
      "metadata": {
        "id": "WSGV9mBZT5ov"
      },
      "source": [
        "<font color=\"#ffb142\"> Get Training Data SQuAD 2.0 <br>[SQuAD Resource](https://rajpurkar.github.io/SQuAD-explorer/)"
      ]
    },
    {
      "cell_type": "code",
      "metadata": {
        "id": "qh5jDQEqnoxu"
      },
      "source": [
        ""
      ],
      "execution_count": null,
      "outputs": []
    },
    {
      "cell_type": "markdown",
      "metadata": {
        "id": "ZJCVBXWpUw3Z"
      },
      "source": [
        "<font color=\"#ffb142\">  ALBERT: Train Model <br>[Find Model Name](https://huggingface.co/transformers/pretrained_models.html) <br> [ALBERT Parameters](https://huggingface.co/transformers/model_doc/bert.html)"
      ]
    },
    {
      "cell_type": "code",
      "metadata": {
        "id": "VtLdGj8Jny7m"
      },
      "source": [
        ""
      ],
      "execution_count": null,
      "outputs": []
    },
    {
      "cell_type": "markdown",
      "metadata": {
        "id": "SoXIzq9YrFGq"
      },
      "source": [
        "\n",
        "<font color=\"#fd79a8\"><br> [SentencePiece](https://github.com/google/sentencepiece"
      ]
    },
    {
      "cell_type": "markdown",
      "metadata": {
        "id": "3gbXU7SalOIV"
      },
      "source": [
        "<font color=\"#ffb142\">model_name_or_path = \"ktrapeznikov/albert-xlarge-v2-squad-v2\""
      ]
    },
    {
      "cell_type": "code",
      "metadata": {
        "id": "Y-RXQHd8nzBX"
      },
      "source": [
        "\n"
      ],
      "execution_count": null,
      "outputs": []
    },
    {
      "cell_type": "markdown",
      "metadata": {
        "id": "Fh8L88dq4QUG"
      },
      "source": [
        "<font color=\"#fd79a8\"> Configure QA Model"
      ]
    },
    {
      "cell_type": "code",
      "metadata": {
        "id": "CMui0FBOAZ_n"
      },
      "source": [
        ""
      ],
      "execution_count": null,
      "outputs": []
    },
    {
      "cell_type": "markdown",
      "metadata": {
        "id": "I5Q-NUBA9hIm"
      },
      "source": [
        "<font color=\"#ffb142\"> Setup Model & Tensor Attributes"
      ]
    },
    {
      "cell_type": "code",
      "metadata": {
        "id": "27sZtUEC-EjT"
      },
      "source": [
        ""
      ],
      "execution_count": null,
      "outputs": []
    },
    {
      "cell_type": "code",
      "metadata": {
        "id": "hLSU1F5T_JAC"
      },
      "source": [
        ""
      ],
      "execution_count": null,
      "outputs": []
    },
    {
      "cell_type": "code",
      "metadata": {
        "id": "hK8MQUhoAbAo"
      },
      "source": [
        ""
      ],
      "execution_count": null,
      "outputs": []
    },
    {
      "cell_type": "markdown",
      "metadata": {
        "id": "ck6uq-poDxL0"
      },
      "source": [
        "<font color=\"#ffb142\">class SquadExample:<br>\n",
        "    \"\"\"<br>\n",
        "    <font color=\"#fd79a8\"> A single training/test example for the Squad dataset, as loaded from disk.\n",
        "    Args:<br>\n",
        "        qas_id: The example's unique identifier<br>\n",
        "        question_text: The question string<br>\n",
        "        context_text: The context string<br>\n",
        "        answer_text: The answer string<br>\n",
        "        start_position_character: The character position of the start of the <br>answer<br>\n",
        "        title: The title of the example<br>\n",
        "        answers: None by default, this is used during evaluation. Holds answers as well as their start positions.<br>\n",
        "        is_impossible: False by default, set to True if the example has no possible answer.<br>\n",
        "    \"\"\"\n",
        "    [Pytorch Documentation](https://pytorch.org/docs/stable/data.html)<br> [Model Outputs Documentation](https://huggingface.co/transformers/main_classes/output.html)"
      ]
    },
    {
      "cell_type": "code",
      "metadata": {
        "id": "-SD_rCf4EtA9"
      },
      "source": [
        ""
      ],
      "execution_count": null,
      "outputs": []
    },
    {
      "cell_type": "markdown",
      "metadata": {
        "id": "_-_wlfXVbaNR"
      },
      "source": [
        "##<font color=\"#ffb142\"> Try out our Q&A System!!!!!!!!"
      ]
    },
    {
      "cell_type": "code",
      "metadata": {
        "id": "TJYC3Q77bftT"
      },
      "source": [
        ""
      ],
      "execution_count": null,
      "outputs": []
    }
  ]
}