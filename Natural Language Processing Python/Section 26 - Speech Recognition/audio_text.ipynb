{
  "nbformat": 4,
  "nbformat_minor": 0,
  "metadata": {
    "colab": {
      "name": "audio_text.ipynb",
      "provenance": [],
      "collapsed_sections": []
    },
    "kernelspec": {
      "display_name": "Python 3",
      "name": "python3"
    }
  },
  "cells": [
    {
      "cell_type": "markdown",
      "metadata": {
        "id": "evZwfFiXuSuu"
      },
      "source": [
        "# <font color='#63cdda'>  Speech Recognition | Audio File<br>\n",
        "<font color='#f5cd79'>Load an audio file. Listen to the audio, then store in text variable \n",
        "\n"
      ]
    },
    {
      "cell_type": "code",
      "metadata": {
        "id": "EUZmemwYiwm8"
      },
      "source": [
        ""
      ],
      "execution_count": null,
      "outputs": []
    },
    {
      "cell_type": "code",
      "metadata": {
        "colab": {
          "base_uri": "https://localhost:8080/"
        },
        "id": "S0pCDShQg9ai",
        "outputId": "751c1cbb-36b1-49ee-8901-1ae51723d8cd"
      },
      "source": [
        ""
      ],
      "execution_count": null,
      "outputs": [
        {
          "output_type": "stream",
          "text": [
            "Requirement already up-to-date: IPython in /usr/local/lib/python3.6/dist-packages (7.16.1)\n",
            "Requirement already satisfied, skipping upgrade: setuptools>=18.5 in /usr/local/lib/python3.6/dist-packages (from IPython) (50.3.2)\n",
            "Requirement already satisfied, skipping upgrade: jedi>=0.10 in /usr/local/lib/python3.6/dist-packages (from IPython) (0.17.2)\n",
            "Requirement already satisfied, skipping upgrade: pickleshare in /usr/local/lib/python3.6/dist-packages (from IPython) (0.7.5)\n",
            "Requirement already satisfied, skipping upgrade: backcall in /usr/local/lib/python3.6/dist-packages (from IPython) (0.2.0)\n",
            "Requirement already satisfied, skipping upgrade: pexpect; sys_platform != \"win32\" in /usr/local/lib/python3.6/dist-packages (from IPython) (4.8.0)\n",
            "Requirement already satisfied, skipping upgrade: decorator in /usr/local/lib/python3.6/dist-packages (from IPython) (4.4.2)\n",
            "Requirement already satisfied, skipping upgrade: pygments in /usr/local/lib/python3.6/dist-packages (from IPython) (2.6.1)\n",
            "Requirement already satisfied, skipping upgrade: traitlets>=4.2 in /usr/local/lib/python3.6/dist-packages (from IPython) (4.3.3)\n",
            "Requirement already satisfied, skipping upgrade: prompt-toolkit!=3.0.0,!=3.0.1,<3.1.0,>=2.0.0 in /usr/local/lib/python3.6/dist-packages (from IPython) (3.0.8)\n",
            "Requirement already satisfied, skipping upgrade: parso<0.8.0,>=0.7.0 in /usr/local/lib/python3.6/dist-packages (from jedi>=0.10->IPython) (0.7.1)\n",
            "Requirement already satisfied, skipping upgrade: ptyprocess>=0.5 in /usr/local/lib/python3.6/dist-packages (from pexpect; sys_platform != \"win32\"->IPython) (0.6.0)\n",
            "Requirement already satisfied, skipping upgrade: six in /usr/local/lib/python3.6/dist-packages (from traitlets>=4.2->IPython) (1.15.0)\n",
            "Requirement already satisfied, skipping upgrade: ipython-genutils in /usr/local/lib/python3.6/dist-packages (from traitlets>=4.2->IPython) (0.2.0)\n",
            "Requirement already satisfied, skipping upgrade: wcwidth in /usr/local/lib/python3.6/dist-packages (from prompt-toolkit!=3.0.0,!=3.0.1,<3.1.0,>=2.0.0->IPython) (0.2.5)\n"
          ],
          "name": "stdout"
        }
      ]
    },
    {
      "cell_type": "markdown",
      "metadata": {
        "id": "AGUzAX2hzfel"
      },
      "source": [
        "<font color='#63cdda'>librosa: python package for music and audio analysis\n",
        "[resource to learn more about Librosa](https://librosa.org/doc/latest/tutorial.html) <br> display module: Public API for display tools in IPython.<br>the <font color='#f5cd79'>Class IPython.display.Audio </font>creates an audio object. "
      ]
    },
    {
      "cell_type": "code",
      "metadata": {
        "id": "Wd_lzFg1of-9"
      },
      "source": [
        "\n"
      ],
      "execution_count": 4,
      "outputs": []
    },
    {
      "cell_type": "code",
      "metadata": {
        "id": "6NmEZDdVqDm1"
      },
      "source": [
        ""
      ],
      "execution_count": null,
      "outputs": []
    },
    {
      "cell_type": "markdown",
      "metadata": {
        "id": "oUOL9sDC0H8j"
      },
      "source": [
        "<font color='#63cdda'>lobrisa.load<br>Load an audio file as a floating point time series.\n",
        "<font color='#f5cd79'> When this object is returned by an input cell or passed to the display function, it will result in Audio controls being displayed"
      ]
    },
    {
      "cell_type": "code",
      "metadata": {
        "id": "VJLm9irMr2jg"
      },
      "source": [
        ""
      ],
      "execution_count": null,
      "outputs": []
    },
    {
      "cell_type": "markdown",
      "metadata": {
        "id": "xE22PjjI1YZH"
      },
      "source": [
        "<font color='#f5cd79'>rate (integer) – The sampling rate of the raw data. "
      ]
    },
    {
      "cell_type": "markdown",
      "metadata": {
        "id": "izjlanqvutEr"
      },
      "source": [
        "<font color='#63cdda'>  Speech Recognizer Class<br>Each recognize_*() method will throw a speech_recognition. its primary purpose is to recognise speech. Using the recognize_google instance.<br>Initialize class for recognizing the speech)"
      ]
    },
    {
      "cell_type": "code",
      "metadata": {
        "id": "wGIuN2EMrAC-"
      },
      "source": [
        ""
      ],
      "execution_count": 9,
      "outputs": []
    },
    {
      "cell_type": "markdown",
      "metadata": {
        "id": "EkDWZRCkypOF"
      },
      "source": [
        "<font color='#63cdda'> Listen Speech file and store it in the text variable. <br> recognize speech using Google Speech Recognition <br>"
      ]
    },
    {
      "cell_type": "code",
      "metadata": {
        "id": "oo_pAIMSv7sg"
      },
      "source": [
        "\n"
      ],
      "execution_count": null,
      "outputs": []
    }
  ]
}