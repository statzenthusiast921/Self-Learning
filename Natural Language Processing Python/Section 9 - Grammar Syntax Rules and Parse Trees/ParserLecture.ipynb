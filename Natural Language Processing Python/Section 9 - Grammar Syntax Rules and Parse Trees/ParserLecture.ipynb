{
  "nbformat": 4,
  "nbformat_minor": 0,
  "metadata": {
    "colab": {
      "name": "ParserLecture.ipynb",
      "provenance": []
    },
    "kernelspec": {
      "name": "python3",
      "display_name": "Python 3"
    },
    "language_info": {
      "name": "python"
    },
    "accelerator": "GPU"
  },
  "cells": [
    {
      "cell_type": "markdown",
      "metadata": {
        "id": "pBgmRiNCZ6xd"
      },
      "source": [
        "##<font color='#fbc531'>Part of Speech tagging & Parser<br> NLTK"
      ]
    },
    {
      "cell_type": "markdown",
      "metadata": {
        "id": "HJL0Z5lwzPmT"
      },
      "source": [
        "[NLTK Perceptron Tagger Source](https://www.nltk.org/_modules/nltk/tag/perceptron.html)"
      ]
    },
    {
      "cell_type": "markdown",
      "metadata": {
        "id": "Vg1aWKXJ0AoA"
      },
      "source": [
        "<font color='#fbc531'>Tagger\tAccuracy<br>\n",
        "PerceptronTagger\t98.8%<br>\n",
        "NLTKTagger\t94.0%<br>\n",
        "PatternTagger\t91.6%"
      ]
    },
    {
      "cell_type": "markdown",
      "metadata": {
        "id": "hAVyCNvu15ja"
      },
      "source": [
        "<font color=\"#487eb0\">NLTK data package includes a pre-trained Punkt tokenizer<br><font color=\"#487eb0\">The perceptron part-of-speech tagger implements part-of-speech tagging using the averaged, structured perceptron algorithm.<br>"
      ]
    },
    {
      "cell_type": "code",
      "metadata": {
        "id": "ccUi4BcwZ2XJ"
      },
      "source": [
        ""
      ],
      "execution_count": null,
      "outputs": []
    },
    {
      "cell_type": "code",
      "metadata": {
        "id": "ycz5hjnGQZc3"
      },
      "source": [
        ""
      ],
      "execution_count": 10,
      "outputs": []
    },
    {
      "cell_type": "code",
      "metadata": {
        "id": "5UEBwE0u97yP"
      },
      "source": [
        ""
      ],
      "execution_count": null,
      "outputs": []
    },
    {
      "cell_type": "markdown",
      "metadata": {
        "id": "vbEovUeTTZW2"
      },
      "source": [
        "![picture](https://www.studentuk.com/wp-content/uploads/2016/08/short-story-the-elves-and-the-shoemaker.jpeg)"
      ]
    },
    {
      "cell_type": "code",
      "metadata": {
        "id": "NHbLi53r9zfQ"
      },
      "source": [
        ""
      ],
      "execution_count": 7,
      "outputs": []
    },
    {
      "cell_type": "code",
      "metadata": {
        "id": "inAlO_QmBX2O"
      },
      "source": [
        ""
      ],
      "execution_count": null,
      "outputs": []
    },
    {
      "cell_type": "markdown",
      "metadata": {
        "id": "Jb59fPFWfMRy"
      },
      "source": [
        "<font color='#fd79a8'>Bracketed notation above - another way of representing a parse tree"
      ]
    },
    {
      "cell_type": "markdown",
      "metadata": {
        "id": "Ri3PuYyEbr20"
      },
      "source": [
        "[IBM Watson Resource for Part-of-speech tags](https://www.ibm.com/docs/en/wca/3.5.0?topic=analytics-part-speech-tag-sets)<br>[NLTK Chunking notes](http://www.nltk.org/howto/chunk.html#:~:text=Chunking%20uses%20a%20special%20regexp,a%20sentence%20can%20be%20chunked.)"
      ]
    },
    {
      "cell_type": "code",
      "metadata": {
        "id": "2Qt2xaCpbpzl"
      },
      "source": [
        "result.draw()"
      ],
      "execution_count": null,
      "outputs": []
    },
    {
      "cell_type": "code",
      "metadata": {
        "id": "vlR9AuO4i-wQ"
      },
      "source": [
        ""
      ],
      "execution_count": null,
      "outputs": []
    }
  ]
}