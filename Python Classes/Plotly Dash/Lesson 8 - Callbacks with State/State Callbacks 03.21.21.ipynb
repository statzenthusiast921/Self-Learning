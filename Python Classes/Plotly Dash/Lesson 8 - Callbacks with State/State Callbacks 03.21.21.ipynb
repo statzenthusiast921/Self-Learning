{
 "cells": [
  {
   "cell_type": "code",
   "execution_count": null,
   "metadata": {},
   "outputs": [],
   "source": [
    "import dash\n",
    "import dash_core_components as dcc\n",
    "import dash_html_components as html\n",
    "from dash.dependencies import Input, Output, State\n",
    "\n",
    "\n",
    "app = dash.Dash()\n",
    "\n",
    "app.layout = html.Div([\n",
    "    dcc.Input(id='number-in',value=1,style={'fontSize':24}),\n",
    "    html.H1(id='number-out'),\n",
    "   \n",
    "    html.Br(),\n",
    "   \n",
    "    dcc.Input(id='number-in2',value=1,style={'fontSize':24}),\n",
    "    html.Button(id='submit-button',\n",
    "                n_clicks=0,\n",
    "                children='Submit Here',\n",
    "                style={'fontSize':24}),\n",
    "    html.H1(id='number-out2')\n",
    "   \n",
    "])\n",
    "\n",
    "@app.callback(\n",
    "    Output('number-out','children'),\n",
    "    [Input('number-in','value')])\n",
    "def output(number):\n",
    "    return number\n",
    "\n",
    "\n",
    "@app.callback(\n",
    "    Output('number-out2','children'),\n",
    "    [Input('submit-button','n_clicks')],\n",
    "    [State('number-in2','value')])\n",
    "   \n",
    "def output(n_clicks,number):\n",
    "    return \"{} was typed in, and button was clicked {} times\".format(number, n_clicks)\n",
    "\n",
    "if __name__ == \"__main__\":\n",
    "    app.run_server()"
   ]
  }
 ],
 "metadata": {
  "kernelspec": {
   "display_name": "Python 3",
   "language": "python",
   "name": "python3"
  },
  "language_info": {
   "codemirror_mode": {
    "name": "ipython",
    "version": 3
   },
   "file_extension": ".py",
   "mimetype": "text/x-python",
   "name": "python",
   "nbconvert_exporter": "python",
   "pygments_lexer": "ipython3",
   "version": "3.7.4"
  }
 },
 "nbformat": 4,
 "nbformat_minor": 4
}
