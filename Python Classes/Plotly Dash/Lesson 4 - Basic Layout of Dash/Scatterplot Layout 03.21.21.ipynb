{
 "cells": [
  {
   "cell_type": "code",
   "execution_count": null,
   "metadata": {},
   "outputs": [],
   "source": [
    "import dash\n",
    "import dash_core_components as dcc\n",
    "import dash_html_components as html\n",
    "import plotly.graph_objs as go\n",
    "import numpy as np\n",
    "\n",
    "app = dash.Dash()\n",
    "\n",
    "#Creating data\n",
    "np.random.seed(42)\n",
    "random_x = np.random.randint(1,101,100)\n",
    "random_y = np.random.randint(1,101,100)\n",
    "\n",
    "app.layout = html.Div([\n",
    "    dcc.Graph(id='scatterplot',\n",
    "              figure = {'data':[\n",
    "                            go.Scatter(\n",
    "                             x=random_x,\n",
    "                              y=random_y,\n",
    "                              mode='markers',\n",
    "                              marker = {'size':12,\n",
    "                                        'color':'rgb(51,204,153)',\n",
    "                                        'symbol':\"pentagon\",\n",
    "                                        'line':{'width':2}}\n",
    "                            )],\n",
    "                        'layout':go.Layout(title='My Scatterplot',\n",
    "                                           xaxis = {'title': 'Some X Title'})\n",
    "                       }\n",
    "             ),\n",
    "        dcc.Graph(id='scatterplot2',\n",
    "              figure = {'data':[\n",
    "                            go.Scatter(\n",
    "                             x=random_x,\n",
    "                              y=random_y,\n",
    "                              mode='markers',\n",
    "                              marker = {'size':12,\n",
    "                                        'color':'rgb(200,204,53)',\n",
    "                                        'symbol':\"pentagon\",\n",
    "                                        'line':{'width':2}}\n",
    "                            )],\n",
    "                        'layout':go.Layout(title='My Second Scatterplot',\n",
    "                                           xaxis = {'title': 'Some X Title'})\n",
    "                       }\n",
    "             )\n",
    "])\n",
    "\n",
    "if __name__ == '__main__':\n",
    "    app.run_server()"
   ]
  }
 ],
 "metadata": {
  "kernelspec": {
   "display_name": "Python 3",
   "language": "python",
   "name": "python3"
  },
  "language_info": {
   "codemirror_mode": {
    "name": "ipython",
    "version": 3
   },
   "file_extension": ".py",
   "mimetype": "text/x-python",
   "name": "python",
   "nbconvert_exporter": "python",
   "pygments_lexer": "ipython3",
   "version": "3.7.4"
  }
 },
 "nbformat": 4,
 "nbformat_minor": 4
}
