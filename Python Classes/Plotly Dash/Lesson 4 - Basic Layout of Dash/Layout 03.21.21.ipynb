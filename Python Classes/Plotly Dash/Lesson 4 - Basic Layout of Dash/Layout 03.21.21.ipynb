{
 "cells": [
  {
   "cell_type": "code",
   "execution_count": null,
   "metadata": {},
   "outputs": [],
   "source": [
    "import dash\n",
    "import dash_core_components as dcc\n",
    "import dash_html_components as html\n",
    "\n",
    "app = dash.Dash()\n",
    "\n",
    "colors = {'background':'#111111',\n",
    "          'text': \"#7fdbff\"}\n",
    "\n",
    "\n",
    "\n",
    "app.layout = html.Div(children=[\n",
    "    html.H1('Hello Dash!',style={'textAlign':'center',\n",
    "                                 'color': colors['text']}),\n",
    "    #html.Div('Dash: Web Dashboards with Python'),\n",
    "    dcc.Graph(id='example',figure={'data':[\n",
    "                            {'x':[1,2,3],'y':[4,1,2],'type':'bar','name':'SF'},\n",
    "                            {'x':[1,2,3],'y':[2,4,5],'type':'bar','name':'NYC'}\n",
    "                            ],\n",
    "                                   'layout':{\n",
    "                                    'plot_bgcolor': colors['background'],\n",
    "                                    'paper_bgcolor':colors['background'],\n",
    "                                    'font':{'color':colors['text']},\n",
    "                                    'title':'BAR PLOTS!'\n",
    "                                   }})\n",
    "],style={'backgroundColor': colors['background']})\n",
    "\n",
    "if __name__ == '__main__':\n",
    "    app.run_server()"
   ]
  }
 ],
 "metadata": {
  "kernelspec": {
   "display_name": "Python 3",
   "language": "python",
   "name": "python3"
  },
  "language_info": {
   "codemirror_mode": {
    "name": "ipython",
    "version": 3
   },
   "file_extension": ".py",
   "mimetype": "text/x-python",
   "name": "python",
   "nbconvert_exporter": "python",
   "pygments_lexer": "ipython3",
   "version": "3.7.4"
  }
 },
 "nbformat": 4,
 "nbformat_minor": 4
}
