{
 "cells": [
  {
   "cell_type": "code",
   "execution_count": 1,
   "metadata": {},
   "outputs": [],
   "source": [
    "import dash\n",
    "import dash_html_components as html"
   ]
  },
  {
   "cell_type": "code",
   "execution_count": 15,
   "metadata": {},
   "outputs": [],
   "source": [
    "app=dash.Dash()\n",
    "\n",
    "app.layout = html.Div(['This is the outermost Div!',\n",
    "                       html.Div(['This is an inner Div'],\n",
    "                               style={'color':'red',\n",
    "                                      'border': '2px solid red'}),\n",
    "                       html.Div(['Another Inner Div'],\n",
    "                               style={'color':'blue',\n",
    "                                      'border':'3px dashed blue'})\n",
    "                      ],\n",
    "                      \n",
    "                     style={'color':'green',\n",
    "                           'border':'2px green solid'})"
   ]
  },
  {
   "cell_type": "code",
   "execution_count": null,
   "metadata": {},
   "outputs": [
    {
     "name": "stdout",
     "output_type": "stream",
     "text": [
      "Dash is running on http://0.0.0.0:8052/\n",
      "\n",
      "Dash is running on http://0.0.0.0:8052/\n",
      "\n",
      "Dash is running on http://0.0.0.0:8052/\n",
      "\n",
      "Dash is running on http://0.0.0.0:8052/\n",
      "\n",
      "Dash is running on http://0.0.0.0:8052/\n",
      "\n",
      "Dash is running on http://0.0.0.0:8052/\n",
      "\n",
      " * Serving Flask app \"__main__\" (lazy loading)\n",
      " * Environment: production\n",
      "   WARNING: This is a development server. Do not use it in a production deployment.\n",
      "   Use a production WSGI server instead.\n",
      " * Debug mode: off\n"
     ]
    },
    {
     "name": "stderr",
     "output_type": "stream",
     "text": [
      " * Running on http://0.0.0.0:8052/ (Press CTRL+C to quit)\n",
      "127.0.0.1 - - [21/Mar/2021 13:38:39] \"\u001b[37mGET / HTTP/1.1\u001b[0m\" 200 -\n",
      "127.0.0.1 - - [21/Mar/2021 13:38:39] \"\u001b[37mGET /_favicon.ico?v=1.19.0 HTTP/1.1\u001b[0m\" 200 -\n",
      "127.0.0.1 - - [21/Mar/2021 13:38:39] \"\u001b[37mGET /_dash-layout HTTP/1.1\u001b[0m\" 200 -\n",
      "127.0.0.1 - - [21/Mar/2021 13:38:39] \"\u001b[37mGET /_dash-dependencies HTTP/1.1\u001b[0m\" 200 -\n"
     ]
    }
   ],
   "source": [
    "app.run_server(host='0.0.0.0',port='8052') "
   ]
  },
  {
   "cell_type": "code",
   "execution_count": null,
   "metadata": {},
   "outputs": [],
   "source": []
  }
 ],
 "metadata": {
  "kernelspec": {
   "display_name": "Python 3",
   "language": "python",
   "name": "python3"
  },
  "language_info": {
   "codemirror_mode": {
    "name": "ipython",
    "version": 3
   },
   "file_extension": ".py",
   "mimetype": "text/x-python",
   "name": "python",
   "nbconvert_exporter": "python",
   "pygments_lexer": "ipython3",
   "version": "3.7.4"
  }
 },
 "nbformat": 4,
 "nbformat_minor": 4
}
