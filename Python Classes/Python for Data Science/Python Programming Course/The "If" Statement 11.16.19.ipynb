{
 "cells": [
  {
   "cell_type": "code",
   "execution_count": 1,
   "metadata": {},
   "outputs": [],
   "source": [
    "#---- -2 ---- -1 ----0 ---- 1 ---- 2 ----"
   ]
  },
  {
   "cell_type": "code",
   "execution_count": 6,
   "metadata": {},
   "outputs": [],
   "source": [
    "import numpy as np\n",
    "from numpy.random import randn"
   ]
  },
  {
   "cell_type": "code",
   "execution_count": 33,
   "metadata": {},
   "outputs": [
    {
     "data": {
      "text/plain": [
       "-0.7667561347149415"
      ]
     },
     "execution_count": 33,
     "metadata": {},
     "output_type": "execute_result"
    }
   ],
   "source": [
    "randn()"
   ]
  },
  {
   "cell_type": "code",
   "execution_count": 37,
   "metadata": {},
   "outputs": [
    {
     "name": "stdout",
     "output_type": "stream",
     "text": [
      "-1.1101198684378828\n",
      "Greater than 1\n"
     ]
    }
   ],
   "source": [
    "#---- -2 ---- -1 ----0 ---- 1 ---- 2 ----\n",
    "x=randn()\n",
    "if x > 1:\n",
    "    answer = \"Greater than 1\"\n",
    "print(x)\n",
    "print(answer)"
   ]
  },
  {
   "cell_type": "code",
   "execution_count": 38,
   "metadata": {},
   "outputs": [],
   "source": [
    "# first submission of code led to error - X was <= than 1 \n",
    "# upon first successful submission, you will get \"answer\"\n",
    "# another submission of x <=1, answer will not change\n",
    "# you need to prespecify value for answer"
   ]
  },
  {
   "cell_type": "code",
   "execution_count": 67,
   "metadata": {},
   "outputs": [
    {
     "name": "stdout",
     "output_type": "stream",
     "text": [
      "1.2781319025910383\n",
      "Greater than 1\n"
     ]
    }
   ],
   "source": [
    "#---- -2 ---- -1 ----0 ---- 1 ---- 2 ----\n",
    "answer=None\n",
    "#None is like NULL\n",
    "x=randn()\n",
    "if x > 1:\n",
    "    answer = \"Greater than 1\"\n",
    "print(x)\n",
    "print(answer)"
   ]
  },
  {
   "cell_type": "code",
   "execution_count": 98,
   "metadata": {},
   "outputs": [
    {
     "name": "stdout",
     "output_type": "stream",
     "text": [
      "2.5901443202882395\n",
      "Greater than 1\n"
     ]
    }
   ],
   "source": [
    "#---- -2 ---- -1 ----0 ---- 1 ---- 2 ----\n",
    "answer=None\n",
    "#None is like NULL\n",
    "x=randn()\n",
    "if x > 1:\n",
    "    answer = \"Greater than 1\"\n",
    "else:\n",
    "    answer = \"Less than 1\"\n",
    "print(x)\n",
    "print(answer)"
   ]
  },
  {
   "cell_type": "code",
   "execution_count": 110,
   "metadata": {},
   "outputs": [
    {
     "name": "stdout",
     "output_type": "stream",
     "text": [
      "-2.321617771554216\n",
      "Less than -1\n"
     ]
    }
   ],
   "source": [
    "#---- -2 ---- -1 ----0 ---- 1 ---- 2 ----\n",
    "#Nested statements\n",
    "answer=None\n",
    "#None is like NULL\n",
    "x=randn()\n",
    "if x > 1:\n",
    "    answer = \"Greater than 1\"\n",
    "#range that is being evaluated: X>1\n",
    "else:\n",
    "    if x>= -1:\n",
    "        answer = \"Between -1 and 1\"\n",
    "#range that is being evaluated -1<=X<=1\n",
    "    else:\n",
    "        answer = \"Less than -1\"\n",
    "#range that is being evaluated X<-1\n",
    "print(x)\n",
    "print(answer)"
   ]
  },
  {
   "cell_type": "code",
   "execution_count": 133,
   "metadata": {},
   "outputs": [
    {
     "name": "stdout",
     "output_type": "stream",
     "text": [
      "1.702944952493562\n",
      "Greater than 1\n"
     ]
    }
   ],
   "source": [
    "#---- -2 ---- -1 ----0 ---- 1 ---- 2 ----\n",
    "#Chained statements\n",
    "answer=None\n",
    "#None is like NULL\n",
    "x=randn()\n",
    "if x > 1:\n",
    "    answer = \"Greater than 1\"\n",
    "elif x>= -1:\n",
    "    answer = \"Between -1 and 1\"\n",
    "else:\n",
    "    answer = \"Less than -1\"\n",
    "print(x)\n",
    "print(answer)"
   ]
  }
 ],
 "metadata": {
  "kernelspec": {
   "display_name": "Python 3",
   "language": "python",
   "name": "python3"
  },
  "language_info": {
   "codemirror_mode": {
    "name": "ipython",
    "version": 3
   },
   "file_extension": ".py",
   "mimetype": "text/x-python",
   "name": "python",
   "nbconvert_exporter": "python",
   "pygments_lexer": "ipython3",
   "version": "3.7.4"
  }
 },
 "nbformat": 4,
 "nbformat_minor": 2
}
