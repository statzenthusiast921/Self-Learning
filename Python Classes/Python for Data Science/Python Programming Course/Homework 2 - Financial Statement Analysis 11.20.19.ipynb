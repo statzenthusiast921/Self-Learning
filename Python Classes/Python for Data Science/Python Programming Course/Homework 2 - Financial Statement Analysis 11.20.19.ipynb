{
 "cells": [
  {
   "cell_type": "code",
   "execution_count": 1,
   "metadata": {},
   "outputs": [],
   "source": [
    "#Scenario: You are a Data Scientist working for a consulting firm.\n",
    "#One of your colleagues from the Auditing dept. has asked you to \n",
    "#help them assess the financial statement of org. X.\n",
    "\n",
    "#You have been supplied with two lists of data: monthly revenue and\n",
    "#monthly expenses for the financial year in question.  Your task is\n",
    "#to calculate the following financial metrics:\n",
    "\n",
    "#profit for each month\n",
    "#profit after tax for each month (rate is 30%)\n",
    "#profit margin for each month - equals profit after tax/revenue\n",
    "#good months - profit after tax > mean for year\n",
    "#bad months - profit after tax < mean for year\n",
    "#best month - profit after tax was max for year\n",
    "#worst month - profit after tax was min for year\n",
    "\n",
    "#all results need to be presented as lists\n",
    "#results for $$$ need to be calculated with $0.01 precision, but \n",
    "#need to be presented in units of $1,000 with no decimal pts\n",
    "\n",
    "#results for profit margin ratio need to be presented in units\n",
    "# of % with no decimal pts\n",
    "\n",
    "#Note: Your colleague has warned you that it is okay for tax for\n",
    "#any given month to be negative (in accounting terms, negative\n",
    "#tax translates into a deferred tax asset)"
   ]
  },
  {
   "cell_type": "code",
   "execution_count": 65,
   "metadata": {},
   "outputs": [],
   "source": [
    "revenue = [14574.49, 7606.46, 8611.41, 9175.41, 8058.65, 8105.44, 11496.28, 9766.09, 10305.32, 14379.96, 10713.97, 15433.50]\n",
    "expenses = [12051.82, 5695.07, 12319.20, 12089.72, 8658.57, 840.20, 3285.73, 5821.12, 6976.93, 16618.61, 10054.37, 3803.96]\n",
    "import numpy as np"
   ]
  },
  {
   "cell_type": "code",
   "execution_count": 33,
   "metadata": {},
   "outputs": [],
   "source": [
    "#Calculate profit (revenue minus expenses)"
   ]
  },
  {
   "cell_type": "code",
   "execution_count": 67,
   "metadata": {},
   "outputs": [
    {
     "data": {
      "text/plain": [
       "[2522.67,\n",
       " 1911.3900000000003,\n",
       " -3707.790000000001,\n",
       " -2914.3099999999995,\n",
       " -599.9200000000001,\n",
       " 7265.24,\n",
       " 8210.550000000001,\n",
       " 3944.9700000000003,\n",
       " 3328.3899999999994,\n",
       " -2238.6500000000015,\n",
       " 659.5999999999985,\n",
       " 11629.54]"
      ]
     },
     "execution_count": 67,
     "metadata": {},
     "output_type": "execute_result"
    }
   ],
   "source": [
    "profit=list([])\n",
    "\n",
    "for i in range(0,len(revenue)):\n",
    "    profit.append(revenue[i]-expenses[i])\n",
    "profit"
   ]
  },
  {
   "cell_type": "code",
   "execution_count": 68,
   "metadata": {},
   "outputs": [
    {
     "data": {
      "text/plain": [
       "[756.8,\n",
       " 573.42,\n",
       " -1112.34,\n",
       " -874.29,\n",
       " -179.98,\n",
       " 2179.57,\n",
       " 2463.17,\n",
       " 1183.49,\n",
       " 998.52,\n",
       " -671.6,\n",
       " 197.88,\n",
       " 3488.86]"
      ]
     },
     "execution_count": 68,
     "metadata": {},
     "output_type": "execute_result"
    }
   ],
   "source": [
    "#Calculate tax (profit X 30%)\n",
    "tax=[round(i*0.3,2) for i in profit]\n",
    "tax"
   ]
  },
  {
   "cell_type": "code",
   "execution_count": 69,
   "metadata": {},
   "outputs": [
    {
     "data": {
      "text/plain": [
       "[1765.8700000000001,\n",
       " 1337.9700000000003,\n",
       " -2595.4500000000007,\n",
       " -2040.0199999999995,\n",
       " -419.94000000000005,\n",
       " 5085.67,\n",
       " 5747.380000000001,\n",
       " 2761.4800000000005,\n",
       " 2329.8699999999994,\n",
       " -1567.0500000000015,\n",
       " 461.71999999999855,\n",
       " 8140.68]"
      ]
     },
     "execution_count": 69,
     "metadata": {},
     "output_type": "execute_result"
    }
   ],
   "source": [
    "#Profit after tax\n",
    "profit_after_tax=list([])\n",
    "\n",
    "for i in range(0,len(profit)):\n",
    "    profit_after_tax.append(profit[i]-tax[i])\n",
    "profit_after_tax"
   ]
  },
  {
   "cell_type": "code",
   "execution_count": 70,
   "metadata": {},
   "outputs": [
    {
     "name": "stdout",
     "output_type": "stream",
     "text": [
      "[ 0.12  0.18 -0.3  -0.22 -0.05  0.63  0.5   0.28  0.23 -0.11  0.04  0.53]\n"
     ]
    }
   ],
   "source": [
    "#Profit Margin = PM after tax / revenue\n",
    "profit_margin=list([])\n",
    "for i in range(0, len(profit_after_tax)):\n",
    "    profit_margin.append(profit_after_tax[i]/revenue[i])\n",
    "profit_margin=np.round(profit_margin,2)\n",
    "print(profit_margin)"
   ]
  },
  {
   "cell_type": "code",
   "execution_count": 73,
   "metadata": {},
   "outputs": [
    {
     "name": "stdout",
     "output_type": "stream",
     "text": [
      "1750.6816666666666\n"
     ]
    }
   ],
   "source": [
    "#Calculate the Mean Profit After Tax for 12 months\n",
    "mean_pat=sum(profit_after_tax)/len(profit_after_tax)\n",
    "print(mean_pat)"
   ]
  },
  {
   "cell_type": "code",
   "execution_count": 77,
   "metadata": {},
   "outputs": [
    {
     "data": {
      "text/plain": [
       "[True, False, False, False, False, True, True, True, True, False, False, True]"
      ]
     },
     "execution_count": 77,
     "metadata": {},
     "output_type": "execute_result"
    }
   ],
   "source": [
    "#Find the Months With Above-Mean Profit After Tax (Good Months)\n",
    "good_months=list([])\n",
    "for i in range(0,len(profit_after_tax)):\n",
    "    good_months.append(profit_after_tax[i]>mean_pat)\n",
    "good_months\n"
   ]
  },
  {
   "cell_type": "code",
   "execution_count": 78,
   "metadata": {},
   "outputs": [
    {
     "data": {
      "text/plain": [
       "[False, True, True, True, True, False, False, False, False, True, True, False]"
      ]
     },
     "execution_count": 78,
     "metadata": {},
     "output_type": "execute_result"
    }
   ],
   "source": [
    "#Find the Months with Below-Mean Profit After Tax (Bad Months)\n",
    "bad_months=list([])\n",
    "for i in range(0,len(profit_after_tax)):\n",
    "    bad_months.append(profit_after_tax[i]<mean_pat)\n",
    "bad_months"
   ]
  },
  {
   "cell_type": "code",
   "execution_count": 80,
   "metadata": {},
   "outputs": [
    {
     "data": {
      "text/plain": [
       "[False, True, True, True, True, False, False, False, False, True, True, False]"
      ]
     },
     "execution_count": 80,
     "metadata": {},
     "output_type": "execute_result"
    }
   ],
   "source": [
    "#Alternative way to do this problem:\n",
    "bad_months=list([])\n",
    "for i in range(0,len(profit_after_tax)):\n",
    "    bad_months.append(not good_months[i])\n",
    "bad_months"
   ]
  },
  {
   "cell_type": "code",
   "execution_count": 82,
   "metadata": {},
   "outputs": [
    {
     "data": {
      "text/plain": [
       "[False,\n",
       " False,\n",
       " False,\n",
       " False,\n",
       " False,\n",
       " False,\n",
       " False,\n",
       " False,\n",
       " False,\n",
       " False,\n",
       " False,\n",
       " True]"
      ]
     },
     "execution_count": 82,
     "metadata": {},
     "output_type": "execute_result"
    }
   ],
   "source": [
    "#Best Month where Profit After Tax = Max\n",
    "best_month=list([])\n",
    "for i in range(0, len(profit_after_tax)):\n",
    "    best_month.append(profit_after_tax[i]==max(profit_after_tax))\n",
    "best_month"
   ]
  },
  {
   "cell_type": "code",
   "execution_count": 83,
   "metadata": {},
   "outputs": [
    {
     "data": {
      "text/plain": [
       "[False,\n",
       " False,\n",
       " True,\n",
       " False,\n",
       " False,\n",
       " False,\n",
       " False,\n",
       " False,\n",
       " False,\n",
       " False,\n",
       " False,\n",
       " False]"
      ]
     },
     "execution_count": 83,
     "metadata": {},
     "output_type": "execute_result"
    }
   ],
   "source": [
    "#Worst Month where Profit After Tax = Min\n",
    "worst_month=list([])\n",
    "for i in range(0, len(profit_after_tax)):\n",
    "    worst_month.append(profit_after_tax[i]==min(profit_after_tax))\n",
    "worst_month"
   ]
  },
  {
   "cell_type": "code",
   "execution_count": 101,
   "metadata": {},
   "outputs": [],
   "source": [
    "#Convert All Calculations to Units of 1000 Dollars\n",
    "revenue_1000=[round(i,2) for i in revenue]\n",
    "expenses_1000=[round(i,2) for i in expenses]\n",
    "profit_1000=[round(i,2) for i in profit]\n",
    "pat_1000=[round(i,2) for i in profit_after_tax]"
   ]
  },
  {
   "cell_type": "code",
   "execution_count": 105,
   "metadata": {},
   "outputs": [
    {
     "name": "stdout",
     "output_type": "stream",
     "text": [
      "[1765.87, 1337.97, -2595.45, -2040.02, -419.94, 5085.67, 5747.38, 2761.48, 2329.87, -1567.05, 461.72, 8140.68]\n"
     ]
    }
   ],
   "source": [
    "print(pat_1000)"
   ]
  },
  {
   "cell_type": "code",
   "execution_count": null,
   "metadata": {},
   "outputs": [],
   "source": []
  }
 ],
 "metadata": {
  "kernelspec": {
   "display_name": "Python 3",
   "language": "python",
   "name": "python3"
  },
  "language_info": {
   "codemirror_mode": {
    "name": "ipython",
    "version": 3
   },
   "file_extension": ".py",
   "mimetype": "text/x-python",
   "name": "python",
   "nbconvert_exporter": "python",
   "pygments_lexer": "ipython3",
   "version": "3.7.4"
  }
 },
 "nbformat": 4,
 "nbformat_minor": 2
}
