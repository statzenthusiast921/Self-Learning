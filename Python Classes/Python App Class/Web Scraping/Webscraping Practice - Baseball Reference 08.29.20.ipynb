{
 "cells": [
  {
   "cell_type": "code",
   "execution_count": 21,
   "metadata": {},
   "outputs": [],
   "source": [
    "from urllib.request import urlopen\n",
    "from lxml.html import fromstring\n"
   ]
  },
  {
   "cell_type": "code",
   "execution_count": 22,
   "metadata": {},
   "outputs": [],
   "source": [
    "url = \"https://www.baseball-reference.com/leagues/MLB/2018-standard-batting.shtml\"\n"
   ]
  },
  {
   "cell_type": "code",
   "execution_count": null,
   "metadata": {},
   "outputs": [],
   "source": [
    "\n",
    "content = str(urlopen(url).read())\n",
    "comment = content.replace(\"-->\",\"\").replace(\"<!--\",\"\")\n",
    "tree = fromstring(comment)\n",
    "for batter_row in tree.xpath('//table[contains(@class,\"stats_table\")]//tr[contains(@class,\"full_table\")]'):\n",
    "    csk = batter_row.xpath('.//td[@data-stat=\"player\"]/a')[0].text\n",
    "    print(csk)"
   ]
  }
 ],
 "metadata": {
  "kernelspec": {
   "display_name": "Python 3",
   "language": "python",
   "name": "python3"
  },
  "language_info": {
   "codemirror_mode": {
    "name": "ipython",
    "version": 3
   },
   "file_extension": ".py",
   "mimetype": "text/x-python",
   "name": "python",
   "nbconvert_exporter": "python",
   "pygments_lexer": "ipython3",
   "version": "3.7.4"
  }
 },
 "nbformat": 4,
 "nbformat_minor": 2
}
