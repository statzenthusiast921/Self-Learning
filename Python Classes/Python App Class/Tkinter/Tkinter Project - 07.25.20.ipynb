{
 "cells": [
  {
   "cell_type": "code",
   "execution_count": 10,
   "metadata": {},
   "outputs": [],
   "source": [
    "from tkinter import *"
   ]
  },
  {
   "cell_type": "code",
   "execution_count": 20,
   "metadata": {},
   "outputs": [],
   "source": [
    "#To make a button do something, add command parameter\n",
    "window=Tk()\n",
    "    \n",
    "def convert_nums():\n",
    "    grams=float(e1_value.get())*1000\n",
    "    pounds=float(e1_value.get())*2.20462\n",
    "    ounces=float(e1_value.get())*35.274\n",
    "\n",
    "    t1.delete(\"1.0\",END)\n",
    "    t1.insert(END,grams)\n",
    "    t2.delete(\"1.0\",END)\n",
    "    t2.insert(END,pounds)\n",
    "    t3.delete(\"1.0\",END)\n",
    "    t3.insert(END,ounces)\n",
    "\n",
    "    \n",
    "b1=Button(window,text=\"Convert\",command=convert_nums)\n",
    "#b1.pack()\n",
    "b1.grid(row=0,column=0)\n",
    "\n",
    "\n",
    "e1_value=StringVar()\n",
    "e1=Entry(window,textvariable=e1_value)\n",
    "e1.grid(row=0,column=1)\n",
    "\n",
    "t1=Text(window,height=1,width=20)\n",
    "t1.grid(row=1,column=1)\n",
    "\n",
    "t2=Text(window,height=1,width=20)\n",
    "t2.grid(row=1,column=2)\n",
    "\n",
    "t3=Text(window,height=1,width=20)\n",
    "t3.grid(row=1,column=3)\n",
    "\n",
    "window.mainloop()"
   ]
  },
  {
   "cell_type": "code",
   "execution_count": null,
   "metadata": {},
   "outputs": [],
   "source": []
  }
 ],
 "metadata": {
  "kernelspec": {
   "display_name": "Python 3",
   "language": "python",
   "name": "python3"
  },
  "language_info": {
   "codemirror_mode": {
    "name": "ipython",
    "version": 3
   },
   "file_extension": ".py",
   "mimetype": "text/x-python",
   "name": "python",
   "nbconvert_exporter": "python",
   "pygments_lexer": "ipython3",
   "version": "3.7.4"
  }
 },
 "nbformat": 4,
 "nbformat_minor": 2
}
