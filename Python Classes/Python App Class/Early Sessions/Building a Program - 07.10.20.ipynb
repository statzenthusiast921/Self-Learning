{
 "cells": [
  {
   "cell_type": "code",
   "execution_count": 1,
   "metadata": {},
   "outputs": [],
   "source": [
    "#Let's put all the core features together\n",
    "#Write a program that asks for input until you terminate it\n",
    "#outputs everything you inputted"
   ]
  },
  {
   "cell_type": "code",
   "execution_count": 3,
   "metadata": {},
   "outputs": [
    {
     "name": "stdout",
     "output_type": "stream",
     "text": [
      "Say something: Hey\n",
      "Say something: Man\n",
      "Say something: Whats up\n",
      "Say something: \\end\n"
     ]
    }
   ],
   "source": [
    "#My attempt first before watching the video\n",
    "while True:\n",
    "    input_text=input(\"Say something: \")\n",
    "    if input_text == \"\\end\":\n",
    "        break\n",
    "    else:\n",
    "        continue\n",
    "    "
   ]
  },
  {
   "cell_type": "code",
   "execution_count": 37,
   "metadata": {},
   "outputs": [
    {
     "name": "stdout",
     "output_type": "stream",
     "text": [
      "Say something: hello\n",
      "Say something: how are you\n",
      "Say something: fuck off\n",
      "Say something: why\n",
      "Say something: \\end\n",
      "Hello. How are you? Fuck off. Why?\n"
     ]
    }
   ],
   "source": [
    "def sentence_maker(phrase):\n",
    "    interrogatives = (\"how\",\"what\",\"why\",\"when\",\"who\",\"where\")\n",
    "    capitalized = phrase.capitalize()\n",
    "    if phrase.startswith(interrogatives):\n",
    "        return \"{}?\".format(capitalized)\n",
    "    else:\n",
    "        return \"{}.\".format(capitalized)\n",
    "\n",
    "results = []\n",
    "while True:\n",
    "    user_input=input(\"Say something: \")\n",
    "    if user_input ==\"\\end\":\n",
    "        break\n",
    "    else:\n",
    "        results.append(sentence_maker(user_input))\n",
    "\n",
    "print(\" \".join(results))"
   ]
  },
  {
   "cell_type": "code",
   "execution_count": null,
   "metadata": {},
   "outputs": [],
   "source": []
  }
 ],
 "metadata": {
  "kernelspec": {
   "display_name": "Python 3",
   "language": "python",
   "name": "python3"
  },
  "language_info": {
   "codemirror_mode": {
    "name": "ipython",
    "version": 3
   },
   "file_extension": ".py",
   "mimetype": "text/x-python",
   "name": "python",
   "nbconvert_exporter": "python",
   "pygments_lexer": "ipython3",
   "version": "3.7.4"
  }
 },
 "nbformat": 4,
 "nbformat_minor": 2
}
