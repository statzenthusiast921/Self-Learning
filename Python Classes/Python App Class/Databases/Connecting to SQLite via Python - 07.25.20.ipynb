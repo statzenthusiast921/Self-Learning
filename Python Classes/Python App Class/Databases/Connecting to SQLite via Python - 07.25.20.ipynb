{
 "cells": [
  {
   "cell_type": "code",
   "execution_count": 1,
   "metadata": {},
   "outputs": [],
   "source": [
    "import sqlite3"
   ]
  },
  {
   "cell_type": "code",
   "execution_count": 7,
   "metadata": {},
   "outputs": [],
   "source": [
    "#Step 1: Create a connection\n",
    "conn=sqlite3.connect(\"lite.db\")\n",
    "#Step 2: Create cursor object\n",
    "cur=conn.cursor()\n",
    "#Step 3: Execute\n",
    "cur.execute(\"CREATE TABLE IF NOT EXISTS store (item TEXT, quantity INTEGER, price REAL)\")\n",
    "#Step 4: Commit changes\n",
    "conn.commit()\n",
    "#Step 5: Close connection\n",
    "conn.close()"
   ]
  },
  {
   "cell_type": "code",
   "execution_count": 10,
   "metadata": {},
   "outputs": [],
   "source": [
    "#Add some data\n",
    "def create_table():\n",
    "    conn=sqlite3.connect(\"lite.db\")\n",
    "    cur=conn.cursor()\n",
    "    cur.execute(\"CREATE TABLE IF NOT EXISTS store (item TEXT, quantity INTEGER, price REAL)\")\n",
    "    conn.commit()\n",
    "    conn.close()\n",
    "    \n",
    "def insert(item,quantity,price):\n",
    "    conn=sqlite3.connect(\"lite.db\")\n",
    "    cur=conn.cursor()\n",
    "    cur.execute(\"INSERT INTO store VALUES (?,?,?)\",(item,quantity,price))\n",
    "    conn.commit()\n",
    "    conn.close()\n",
    "    \n",
    "insert(\"Coffee Cup\",12,6)\n",
    "\n",
    "\n"
   ]
  },
  {
   "cell_type": "code",
   "execution_count": 12,
   "metadata": {},
   "outputs": [],
   "source": [
    "#Let's look at the data\n",
    "\n",
    "def view():\n",
    "    conn=sqlite3.connect(\"lite.db\")\n",
    "    cur=conn.cursor()\n",
    "    cur.execute(\"SELECT * FROM store\")\n",
    "    rows=cur.fetchall()\n",
    "    conn.close()\n",
    "    return rows\n",
    "\n"
   ]
  },
  {
   "cell_type": "code",
   "execution_count": 13,
   "metadata": {},
   "outputs": [
    {
     "name": "stdout",
     "output_type": "stream",
     "text": [
      "[('Wine Glass', 8, 10.5), ('Water Glass', 10, 5.0), ('Coffee Cup', 12, 6.0)]\n"
     ]
    }
   ],
   "source": [
    "print(view())"
   ]
  },
  {
   "cell_type": "code",
   "execution_count": null,
   "metadata": {},
   "outputs": [],
   "source": []
  }
 ],
 "metadata": {
  "kernelspec": {
   "display_name": "Python 3",
   "language": "python",
   "name": "python3"
  },
  "language_info": {
   "codemirror_mode": {
    "name": "ipython",
    "version": 3
   },
   "file_extension": ".py",
   "mimetype": "text/x-python",
   "name": "python",
   "nbconvert_exporter": "python",
   "pygments_lexer": "ipython3",
   "version": "3.7.4"
  }
 },
 "nbformat": 4,
 "nbformat_minor": 2
}
