{
 "cells": [
  {
   "cell_type": "code",
   "execution_count": 1,
   "metadata": {},
   "outputs": [],
   "source": [
    "import psycopg2"
   ]
  },
  {
   "cell_type": "code",
   "execution_count": null,
   "metadata": {},
   "outputs": [],
   "source": [
    "def create_table():\n",
    "    conn=sqlite3.connect(\"lite.db\")\n",
    "    cur=conn.cursor()\n",
    "    cur.execute(\"CREATE TABLE IF NOT EXISTS store (item TEXT, quantity INTEGER, price REAL)\")\n",
    "    conn.commit()\n",
    "    conn.close()\n",
    "    \n",
    "def insert(item,quantity,price):\n",
    "    conn=sqlite3.connect(\"lite.db\")\n",
    "    cur=conn.cursor()\n",
    "    cur.execute(\"INSERT INTO store VALUES (?,?,?)\",(item,quantity,price))\n",
    "    conn.commit()\n",
    "    conn.close()\n",
    "    \n",
    "    \n",
    "def view():\n",
    "    conn=sqlite3.connect(\"lite.db\")\n",
    "    cur=conn.cursor()\n",
    "    cur.execute(\"SELECT * FROM store\")\n",
    "    rows=cur.fetchall()\n",
    "    conn.close()\n",
    "    return rows\n",
    "\n",
    "\n",
    "def delete(item):\n",
    "    conn=sqlite3.connect(\"lite.db\")\n",
    "    cur=conn.cursor()\n",
    "    cur.execute(\"DELETE FROM store WHERE item=?\", (item,))\n",
    "    conn.commit()\n",
    "    conn.close()\n",
    "    \n",
    "    \n",
    "def update(quantity,price,item):\n",
    "    conn=sqlite3.connect(\"lite.db\")\n",
    "    cur=conn.cursor()\n",
    "    cur.execute(\"UPDATE store SET quantity=?, price=? WHERE item=?\", (quantity,price,item))\n",
    "    conn.commit()\n",
    "    conn.close()"
   ]
  }
 ],
 "metadata": {
  "kernelspec": {
   "display_name": "Python 3",
   "language": "python",
   "name": "python3"
  },
  "language_info": {
   "codemirror_mode": {
    "name": "ipython",
    "version": 3
   },
   "file_extension": ".py",
   "mimetype": "text/x-python",
   "name": "python",
   "nbconvert_exporter": "python",
   "pygments_lexer": "ipython3",
   "version": "3.7.4"
  }
 },
 "nbformat": 4,
 "nbformat_minor": 2
}
