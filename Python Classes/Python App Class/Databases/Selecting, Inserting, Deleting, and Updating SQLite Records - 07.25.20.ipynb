{
 "cells": [
  {
   "cell_type": "code",
   "execution_count": 1,
   "metadata": {},
   "outputs": [],
   "source": [
    "import sqlite3"
   ]
  },
  {
   "cell_type": "code",
   "execution_count": 7,
   "metadata": {},
   "outputs": [],
   "source": [
    "#Add some data\n",
    "def create_table():\n",
    "    conn=sqlite3.connect(\"lite.db\")\n",
    "    cur=conn.cursor()\n",
    "    cur.execute(\"CREATE TABLE IF NOT EXISTS store (item TEXT, quantity INTEGER, price REAL)\")\n",
    "    conn.commit()\n",
    "    conn.close()\n",
    "    \n",
    "def insert(item,quantity,price):\n",
    "    conn=sqlite3.connect(\"lite.db\")\n",
    "    cur=conn.cursor()\n",
    "    cur.execute(\"INSERT INTO store VALUES (?,?,?)\",(item,quantity,price))\n",
    "    conn.commit()\n",
    "    conn.close()\n",
    "    \n",
    "insert(\"Coffee Cup\",12,6)\n",
    "\n",
    "\n"
   ]
  },
  {
   "cell_type": "code",
   "execution_count": 8,
   "metadata": {},
   "outputs": [],
   "source": [
    "#Let's look at the data\n",
    "\n",
    "def view():\n",
    "    conn=sqlite3.connect(\"lite.db\")\n",
    "    cur=conn.cursor()\n",
    "    cur.execute(\"SELECT * FROM store\")\n",
    "    rows=cur.fetchall()\n",
    "    conn.close()\n",
    "    return rows\n"
   ]
  },
  {
   "cell_type": "code",
   "execution_count": 9,
   "metadata": {},
   "outputs": [
    {
     "data": {
      "text/plain": [
       "[('Wine Glass', 8, 10.5),\n",
       " ('Water Glass', 10, 5.0),\n",
       " ('Coffee Cup', 12, 6.0),\n",
       " ('Coffee Cup', 12, 6.0),\n",
       " ('Coffee Cup', 12, 6.0)]"
      ]
     },
     "execution_count": 9,
     "metadata": {},
     "output_type": "execute_result"
    }
   ],
   "source": [
    "view()"
   ]
  },
  {
   "cell_type": "code",
   "execution_count": 13,
   "metadata": {},
   "outputs": [],
   "source": [
    "#Let's delete a row\n",
    "def delete(item):\n",
    "    conn=sqlite3.connect(\"lite.db\")\n",
    "    cur=conn.cursor()\n",
    "    cur.execute(\"DELETE FROM store WHERE item=?\", (item,))\n",
    "    conn.commit()\n",
    "    conn.close()\n"
   ]
  },
  {
   "cell_type": "code",
   "execution_count": 14,
   "metadata": {},
   "outputs": [],
   "source": [
    "delete(\"Wine Glass\")"
   ]
  },
  {
   "cell_type": "code",
   "execution_count": 15,
   "metadata": {},
   "outputs": [
    {
     "data": {
      "text/plain": [
       "[('Water Glass', 10, 5.0),\n",
       " ('Coffee Cup', 12, 6.0),\n",
       " ('Coffee Cup', 12, 6.0),\n",
       " ('Coffee Cup', 12, 6.0)]"
      ]
     },
     "execution_count": 15,
     "metadata": {},
     "output_type": "execute_result"
    }
   ],
   "source": [
    "view()"
   ]
  },
  {
   "cell_type": "code",
   "execution_count": 16,
   "metadata": {},
   "outputs": [],
   "source": [
    "#Updating data\n",
    "def update(quantity,price,item):\n",
    "    conn=sqlite3.connect(\"lite.db\")\n",
    "    cur=conn.cursor()\n",
    "    cur.execute(\"UPDATE store SET quantity=?, price=? WHERE item=?\", (quantity,price,item))\n",
    "    conn.commit()\n",
    "    conn.close()\n"
   ]
  },
  {
   "cell_type": "code",
   "execution_count": 17,
   "metadata": {},
   "outputs": [],
   "source": [
    "update(11,6,\"Water Glass\")"
   ]
  },
  {
   "cell_type": "code",
   "execution_count": 18,
   "metadata": {},
   "outputs": [
    {
     "data": {
      "text/plain": [
       "[('Water Glass', 11, 6.0),\n",
       " ('Coffee Cup', 12, 6.0),\n",
       " ('Coffee Cup', 12, 6.0),\n",
       " ('Coffee Cup', 12, 6.0)]"
      ]
     },
     "execution_count": 18,
     "metadata": {},
     "output_type": "execute_result"
    }
   ],
   "source": [
    "view()"
   ]
  },
  {
   "cell_type": "code",
   "execution_count": null,
   "metadata": {},
   "outputs": [],
   "source": []
  }
 ],
 "metadata": {
  "kernelspec": {
   "display_name": "Python 3",
   "language": "python",
   "name": "python3"
  },
  "language_info": {
   "codemirror_mode": {
    "name": "ipython",
    "version": 3
   },
   "file_extension": ".py",
   "mimetype": "text/x-python",
   "name": "python",
   "nbconvert_exporter": "python",
   "pygments_lexer": "ipython3",
   "version": "3.7.4"
  }
 },
 "nbformat": 4,
 "nbformat_minor": 2
}
