{
 "cells": [
  {
   "cell_type": "code",
   "execution_count": 1,
   "metadata": {},
   "outputs": [],
   "source": [
    "#Stock Price Time Series Example"
   ]
  },
  {
   "cell_type": "code",
   "execution_count": 7,
   "metadata": {},
   "outputs": [],
   "source": [
    "from bokeh.plotting import figure, output_file, show\n",
    "import pandas\n",
    "\n",
    "df=pandas.read_csv(\"adbe.csv\",parse_dates=[\"Date\"])"
   ]
  },
  {
   "cell_type": "code",
   "execution_count": 8,
   "metadata": {},
   "outputs": [
    {
     "data": {
      "text/html": [
       "<div>\n",
       "<style scoped>\n",
       "    .dataframe tbody tr th:only-of-type {\n",
       "        vertical-align: middle;\n",
       "    }\n",
       "\n",
       "    .dataframe tbody tr th {\n",
       "        vertical-align: top;\n",
       "    }\n",
       "\n",
       "    .dataframe thead th {\n",
       "        text-align: right;\n",
       "    }\n",
       "</style>\n",
       "<table border=\"1\" class=\"dataframe\">\n",
       "  <thead>\n",
       "    <tr style=\"text-align: right;\">\n",
       "      <th></th>\n",
       "      <th>Date</th>\n",
       "      <th>Open</th>\n",
       "      <th>High</th>\n",
       "      <th>Low</th>\n",
       "      <th>Close</th>\n",
       "      <th>Volume</th>\n",
       "    </tr>\n",
       "  </thead>\n",
       "  <tbody>\n",
       "    <tr>\n",
       "      <td>0</td>\n",
       "      <td>2012-08-02</td>\n",
       "      <td>30.46</td>\n",
       "      <td>30.83</td>\n",
       "      <td>30.25</td>\n",
       "      <td>30.58</td>\n",
       "      <td>2639980</td>\n",
       "    </tr>\n",
       "    <tr>\n",
       "      <td>1</td>\n",
       "      <td>2012-08-01</td>\n",
       "      <td>31.05</td>\n",
       "      <td>31.17</td>\n",
       "      <td>30.64</td>\n",
       "      <td>30.69</td>\n",
       "      <td>2738740</td>\n",
       "    </tr>\n",
       "    <tr>\n",
       "      <td>2</td>\n",
       "      <td>2012-07-31</td>\n",
       "      <td>30.99</td>\n",
       "      <td>31.27</td>\n",
       "      <td>30.84</td>\n",
       "      <td>30.88</td>\n",
       "      <td>2662853</td>\n",
       "    </tr>\n",
       "    <tr>\n",
       "      <td>3</td>\n",
       "      <td>2012-07-30</td>\n",
       "      <td>31.89</td>\n",
       "      <td>31.95</td>\n",
       "      <td>30.92</td>\n",
       "      <td>31.01</td>\n",
       "      <td>4261193</td>\n",
       "    </tr>\n",
       "    <tr>\n",
       "      <td>4</td>\n",
       "      <td>2012-07-27</td>\n",
       "      <td>31.26</td>\n",
       "      <td>32.00</td>\n",
       "      <td>31.17</td>\n",
       "      <td>31.90</td>\n",
       "      <td>3312890</td>\n",
       "    </tr>\n",
       "  </tbody>\n",
       "</table>\n",
       "</div>"
      ],
      "text/plain": [
       "        Date   Open   High    Low  Close   Volume\n",
       "0 2012-08-02  30.46  30.83  30.25  30.58  2639980\n",
       "1 2012-08-01  31.05  31.17  30.64  30.69  2738740\n",
       "2 2012-07-31  30.99  31.27  30.84  30.88  2662853\n",
       "3 2012-07-30  31.89  31.95  30.92  31.01  4261193\n",
       "4 2012-07-27  31.26  32.00  31.17  31.90  3312890"
      ]
     },
     "execution_count": 8,
     "metadata": {},
     "output_type": "execute_result"
    }
   ],
   "source": [
    "df.head()"
   ]
  },
  {
   "cell_type": "code",
   "execution_count": 17,
   "metadata": {},
   "outputs": [],
   "source": [
    "p=figure(width=500,height=250,x_axis_type=\"datetime\",sizing_mode=\"scale_both\")\n",
    "p.line(df[\"Date\"],df[\"Close\"],color=\"Orange\",alpha=0.5)\n",
    "\n",
    "output_file(\"TimeSeries.html\")\n",
    "show(p)"
   ]
  },
  {
   "cell_type": "code",
   "execution_count": null,
   "metadata": {},
   "outputs": [],
   "source": []
  }
 ],
 "metadata": {
  "kernelspec": {
   "display_name": "Python 3",
   "language": "python",
   "name": "python3"
  },
  "language_info": {
   "codemirror_mode": {
    "name": "ipython",
    "version": 3
   },
   "file_extension": ".py",
   "mimetype": "text/x-python",
   "name": "python",
   "nbconvert_exporter": "python",
   "pygments_lexer": "ipython3",
   "version": "3.7.4"
  }
 },
 "nbformat": 4,
 "nbformat_minor": 2
}
