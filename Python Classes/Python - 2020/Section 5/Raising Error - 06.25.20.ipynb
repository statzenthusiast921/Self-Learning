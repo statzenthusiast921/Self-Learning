{
 "cells": [
  {
   "cell_type": "code",
   "execution_count": 1,
   "metadata": {},
   "outputs": [
    {
     "name": "stdout",
     "output_type": "stream",
     "text": [
      "This method is a work in progress.\n",
      "0\n"
     ]
    }
   ],
   "source": [
    "class Garage:\n",
    "    def __init__(self):\n",
    "        self.cars=[]\n",
    "    def __len__(self):\n",
    "        return len(self.cars)\n",
    "    def add_car(self,car):\n",
    "        print('This method is a work in progress.')\n",
    "        \n",
    "        \n",
    "ford = Garage()\n",
    "ford.add_car('Fiesta')\n",
    "print(len(ford))\n",
    "\n",
    "#This will work no matter what --> we want something to stop this"
   ]
  },
  {
   "cell_type": "code",
   "execution_count": 2,
   "metadata": {},
   "outputs": [
    {
     "ename": "NotImplementedError",
     "evalue": "We cant add cars to the garage yet.",
     "output_type": "error",
     "traceback": [
      "\u001b[0;31m---------------------------------------------------------------------------\u001b[0m",
      "\u001b[0;31mNotImplementedError\u001b[0m                       Traceback (most recent call last)",
      "\u001b[0;32m<ipython-input-2-95287819a7d3>\u001b[0m in \u001b[0;36m<module>\u001b[0;34m\u001b[0m\n\u001b[1;32m      8\u001b[0m \u001b[0;34m\u001b[0m\u001b[0m\n\u001b[1;32m      9\u001b[0m \u001b[0mford\u001b[0m \u001b[0;34m=\u001b[0m \u001b[0mGarage\u001b[0m\u001b[0;34m(\u001b[0m\u001b[0;34m)\u001b[0m\u001b[0;34m\u001b[0m\u001b[0;34m\u001b[0m\u001b[0m\n\u001b[0;32m---> 10\u001b[0;31m \u001b[0mford\u001b[0m\u001b[0;34m.\u001b[0m\u001b[0madd_car\u001b[0m\u001b[0;34m(\u001b[0m\u001b[0;34m'Fiesta'\u001b[0m\u001b[0;34m)\u001b[0m\u001b[0;34m\u001b[0m\u001b[0;34m\u001b[0m\u001b[0m\n\u001b[0m\u001b[1;32m     11\u001b[0m \u001b[0mprint\u001b[0m\u001b[0;34m(\u001b[0m\u001b[0mlen\u001b[0m\u001b[0;34m(\u001b[0m\u001b[0mford\u001b[0m\u001b[0;34m)\u001b[0m\u001b[0;34m)\u001b[0m\u001b[0;34m\u001b[0m\u001b[0;34m\u001b[0m\u001b[0m\n",
      "\u001b[0;32m<ipython-input-2-95287819a7d3>\u001b[0m in \u001b[0;36madd_car\u001b[0;34m(self, car)\u001b[0m\n\u001b[1;32m      5\u001b[0m         \u001b[0;32mreturn\u001b[0m \u001b[0mlen\u001b[0m\u001b[0;34m(\u001b[0m\u001b[0mself\u001b[0m\u001b[0;34m.\u001b[0m\u001b[0mcars\u001b[0m\u001b[0;34m)\u001b[0m\u001b[0;34m\u001b[0m\u001b[0;34m\u001b[0m\u001b[0m\n\u001b[1;32m      6\u001b[0m     \u001b[0;32mdef\u001b[0m \u001b[0madd_car\u001b[0m\u001b[0;34m(\u001b[0m\u001b[0mself\u001b[0m\u001b[0;34m,\u001b[0m\u001b[0mcar\u001b[0m\u001b[0;34m)\u001b[0m\u001b[0;34m:\u001b[0m\u001b[0;34m\u001b[0m\u001b[0;34m\u001b[0m\u001b[0m\n\u001b[0;32m----> 7\u001b[0;31m         \u001b[0;32mraise\u001b[0m \u001b[0mNotImplementedError\u001b[0m\u001b[0;34m(\u001b[0m\u001b[0;34m'We cant add cars to the garage yet.'\u001b[0m\u001b[0;34m)\u001b[0m\u001b[0;34m\u001b[0m\u001b[0;34m\u001b[0m\u001b[0m\n\u001b[0m\u001b[1;32m      8\u001b[0m \u001b[0;34m\u001b[0m\u001b[0m\n\u001b[1;32m      9\u001b[0m \u001b[0mford\u001b[0m \u001b[0;34m=\u001b[0m \u001b[0mGarage\u001b[0m\u001b[0;34m(\u001b[0m\u001b[0;34m)\u001b[0m\u001b[0;34m\u001b[0m\u001b[0;34m\u001b[0m\u001b[0m\n",
      "\u001b[0;31mNotImplementedError\u001b[0m: We cant add cars to the garage yet."
     ]
    }
   ],
   "source": [
    "class Garage:\n",
    "    def __init__(self):\n",
    "        self.cars=[]\n",
    "    def __len__(self):\n",
    "        return len(self.cars)\n",
    "    def add_car(self,car):\n",
    "        raise NotImplementedError('We cant add cars to the garage yet.')\n",
    "        \n",
    "ford = Garage()\n",
    "ford.add_car('Fiesta')\n",
    "print(len(ford))"
   ]
  },
  {
   "cell_type": "code",
   "execution_count": 7,
   "metadata": {},
   "outputs": [
    {
     "ename": "SyntaxError",
     "evalue": "invalid syntax (<ipython-input-7-9dd9da91476b>, line 16)",
     "output_type": "error",
     "traceback": [
      "\u001b[0;36m  File \u001b[0;32m\"<ipython-input-7-9dd9da91476b>\"\u001b[0;36m, line \u001b[0;32m16\u001b[0m\n\u001b[0;31m    raise TypeError(f'Tried to add a '{car.__class__.__name__}'to the garage, but you can only add CAR objects.')\u001b[0m\n\u001b[0m                                      ^\u001b[0m\n\u001b[0;31mSyntaxError\u001b[0m\u001b[0;31m:\u001b[0m invalid syntax\n"
     ]
    }
   ],
   "source": [
    "class Car:\n",
    "    def __init__(self,make,model):\n",
    "        self.make = make\n",
    "        self.model = model\n",
    "    def __repr__(self):\n",
    "        return str(Car)+str(\":\")+str(self.make)+str(self.model)\n",
    "    \n",
    "    \n",
    "class Garage:\n",
    "    def __init__(self):\n",
    "        self.cars=[]\n",
    "        \n",
    "    def __len__(self):\n",
    "        return len(self.cars)\n",
    "    \n",
    "    def add_car(self,car):\n",
    "        if not isinstance(car,Car):\n",
    "            raise TypeError(f'Tried to add a '{car.__class__.__name__}'to the garage, but you can only add CAR objects.')\n",
    "        self.cars.append(car)\n",
    "                                                                                   \n",
    "                                                                                   \n",
    "ford = Garage()\n",
    "#ford.add_car('Fiesta')\n",
    "car=Car('Ford','Fiesta')\n",
    "ford.add_car(car)\n",
    "print(len(ford))"
   ]
  },
  {
   "cell_type": "code",
   "execution_count": null,
   "metadata": {},
   "outputs": [],
   "source": []
  }
 ],
 "metadata": {
  "kernelspec": {
   "display_name": "Python 3",
   "language": "python",
   "name": "python3"
  },
  "language_info": {
   "codemirror_mode": {
    "name": "ipython",
    "version": 3
   },
   "file_extension": ".py",
   "mimetype": "text/x-python",
   "name": "python",
   "nbconvert_exporter": "python",
   "pygments_lexer": "ipython3",
   "version": "3.7.4"
  }
 },
 "nbformat": 4,
 "nbformat_minor": 2
}
