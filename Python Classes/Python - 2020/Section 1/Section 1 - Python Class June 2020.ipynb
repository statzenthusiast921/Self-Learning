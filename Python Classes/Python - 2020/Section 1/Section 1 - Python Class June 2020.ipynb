{
 "cells": [
  {
   "cell_type": "code",
   "execution_count": 1,
   "metadata": {},
   "outputs": [
    {
     "name": "stdout",
     "output_type": "stream",
     "text": [
      "Hello world\n"
     ]
    }
   ],
   "source": [
    "print(\"Hello world\")\n"
   ]
  },
  {
   "cell_type": "code",
   "execution_count": 3,
   "metadata": {},
   "outputs": [
    {
     "name": "stdout",
     "output_type": "stream",
     "text": [
      "30\n",
      "30\n"
     ]
    }
   ],
   "source": [
    "age=30\n",
    "print(age)\n",
    "print(30)\n"
   ]
  },
  {
   "cell_type": "code",
   "execution_count": 5,
   "metadata": {},
   "outputs": [
    {
     "name": "stdout",
     "output_type": "stream",
     "text": [
      "20\n"
     ]
    },
    {
     "data": {
      "text/plain": [
       "1.5"
      ]
     },
     "execution_count": 5,
     "metadata": {},
     "output_type": "execute_result"
    }
   ],
   "source": [
    "name_underscore=20\n",
    "print(name_underscore)\n",
    "\n",
    "age/name_underscore\n",
    "\n"
   ]
  },
  {
   "cell_type": "code",
   "execution_count": 6,
   "metadata": {},
   "outputs": [
    {
     "name": "stdout",
     "output_type": "stream",
     "text": [
      "5.0\n",
      "2\n"
     ]
    }
   ],
   "source": [
    "#INTEGERS\n",
    "age=35\n",
    "#FLOAT\n",
    "PI=3.14159\n",
    "\n",
    "\n",
    "math_operations = 1 +3 * 4 /2 -2\n",
    "\n",
    "\n",
    "#Division always results in a float\n",
    "print(math_operations)\n",
    "\n",
    "\n",
    "#Gets rid of decimal\n",
    "integer_division = 12 //3\n",
    "integer_division\n",
    "\n",
    "integer_division = 13//5\n",
    "\n",
    "print(integer_division)"
   ]
  },
  {
   "cell_type": "code",
   "execution_count": 8,
   "metadata": {},
   "outputs": [
    {
     "name": "stdout",
     "output_type": "stream",
     "text": [
      "3\n"
     ]
    }
   ],
   "source": [
    "#how to get the remainder\n",
    "remainder = 13 % 5 # (%) percent sign is the modulus\n",
    "remainder\n",
    "print(remainder)"
   ]
  },
  {
   "cell_type": "code",
   "execution_count": 9,
   "metadata": {},
   "outputs": [
    {
     "data": {
      "text/plain": [
       "2.6"
      ]
     },
     "execution_count": 9,
     "metadata": {},
     "output_type": "execute_result"
    }
   ],
   "source": [
    "13/5"
   ]
  },
  {
   "cell_type": "code",
   "execution_count": 10,
   "metadata": {},
   "outputs": [
    {
     "name": "stdout",
     "output_type": "stream",
     "text": [
      "1\n"
     ]
    }
   ],
   "source": [
    "#Check if number is odd/even\n",
    "x=37\n",
    "remainder = x % 2\n",
    "print(remainder)"
   ]
  },
  {
   "cell_type": "code",
   "execution_count": 11,
   "metadata": {},
   "outputs": [
    {
     "name": "stdout",
     "output_type": "stream",
     "text": [
      "Hello, world!\n",
      "Hello, it's me\n",
      "He said \"You are amazing!\"\n",
      "\n",
      "My name is Jon.  Welcome to my program.\n",
      "\n"
     ]
    }
   ],
   "source": [
    "my_string=\"Hello, world!\"\n",
    "print(my_string)\n",
    "\n",
    "string_with_quotes=\"Hello, it's me\"\n",
    "print(string_with_quotes)\n",
    "\n",
    "another_example='He said \"You are amazing!\"'\n",
    "print(another_example)\n",
    "\n",
    "multiline=\"\"\"\n",
    "My name is Jon.  Welcome to my program.\n",
    "\"\"\"\n",
    "print(multiline)"
   ]
  },
  {
   "cell_type": "code",
   "execution_count": 12,
   "metadata": {},
   "outputs": [
    {
     "name": "stdout",
     "output_type": "stream",
     "text": [
      "My name is Jon.  Welcome to my program\n",
      "Hello, Jon\n",
      "You are 34\n",
      "You are 34\n"
     ]
    }
   ],
   "source": [
    "multi=\"My name is Jon.  Welcome to my program\"\n",
    "print(multi)\n",
    "\n",
    "name=\"Jon\"\n",
    "print(\"Hello, \"+name)\n",
    "\n",
    "\n",
    "age=34\n",
    "age_as_str=str(age)\n",
    "print(\"You are \"+age_as_str)\n",
    "\n",
    "print(f\"You are {age}\")\n"
   ]
  },
  {
   "cell_type": "code",
   "execution_count": 13,
   "metadata": {},
   "outputs": [
    {
     "name": "stdout",
     "output_type": "stream",
     "text": [
      "How are, Jon?\n"
     ]
    }
   ],
   "source": [
    "name = \"Jon\"\n",
    "greeting = f\"How are, {name}?\"\n",
    "print(greeting)\n",
    "\n"
   ]
  },
  {
   "cell_type": "code",
   "execution_count": 14,
   "metadata": {},
   "outputs": [
    {
     "data": {
      "text/plain": [
       "'How are you, Jon'"
      ]
     },
     "execution_count": 14,
     "metadata": {},
     "output_type": "execute_result"
    }
   ],
   "source": [
    "greeting=\"How are you, \"\n",
    "greeting+ name"
   ]
  },
  {
   "cell_type": "code",
   "execution_count": 15,
   "metadata": {},
   "outputs": [
    {
     "name": "stdout",
     "output_type": "stream",
     "text": [
      "How are you, Jessica?\n"
     ]
    }
   ],
   "source": [
    "name=\"Jessica\"\n",
    "final_greeting = \"How are you, {}?\"\n",
    "jon_greeting = final_greeting.format(name)\n",
    "print(jon_greeting)"
   ]
  },
  {
   "cell_type": "code",
   "execution_count": 16,
   "metadata": {},
   "outputs": [
    {
     "name": "stdout",
     "output_type": "stream",
     "text": [
      "How are you, Jessica?\n"
     ]
    }
   ],
   "source": [
    "name=\"Jessica\"\n",
    "final_greeting = \"How are you, {}?\"\n",
    "jon_greeting = final_greeting.format(name)\n",
    "print(jon_greeting)"
   ]
  },
  {
   "cell_type": "code",
   "execution_count": 17,
   "metadata": {},
   "outputs": [
    {
     "name": "stdout",
     "output_type": "stream",
     "text": [
      "Enter your name: Amelia\n",
      "Hello Amelia. My name is Jon\n"
     ]
    }
   ],
   "source": [
    "my_name=\"Jon\"\n",
    "your_name=input(\"Enter your name: \")\n",
    "print(\"Hello \"+your_name+\". My name is \"+ my_name) "
   ]
  },
  {
   "cell_type": "code",
   "execution_count": 18,
   "metadata": {},
   "outputs": [
    {
     "name": "stdout",
     "output_type": "stream",
     "text": [
      "Enter your age: 30\n",
      "You have lived for 360 months\n"
     ]
    }
   ],
   "source": [
    "age=input(\"Enter your age: \")\n",
    "age_num=int(age)\n",
    "print(\"You have lived for \"+str((age_num*12))+\" months\")\n"
   ]
  },
  {
   "cell_type": "code",
   "execution_count": 19,
   "metadata": {},
   "outputs": [
    {
     "name": "stdout",
     "output_type": "stream",
     "text": [
      "Enter your age: 30\n",
      "You have lived for 360 months\n"
     ]
    }
   ],
   "source": [
    "#INPUT executed first and then numeric conversion\n",
    "age=int(input(\"Enter your age: \"))\n",
    "print(\"You have lived for \"+str(age*12)+\" months\")"
   ]
  },
  {
   "cell_type": "code",
   "execution_count": 20,
   "metadata": {},
   "outputs": [
    {
     "name": "stdout",
     "output_type": "stream",
     "text": [
      "Enter your age: 30\n",
      "You have lived for 360 months\n"
     ]
    }
   ],
   "source": [
    "age=int(input(\"Enter your age: \"))\n",
    "months=age*12\n",
    "print(\"You have lived for \"+str(age*12)+\" months\")"
   ]
  },
  {
   "cell_type": "code",
   "execution_count": 21,
   "metadata": {},
   "outputs": [
    {
     "name": "stdout",
     "output_type": "stream",
     "text": [
      "Enter your age: 30\n",
      "30\n"
     ]
    }
   ],
   "source": [
    "age=int(input(\"Enter your age: \"))\n",
    "print(age)"
   ]
  },
  {
   "cell_type": "code",
   "execution_count": 22,
   "metadata": {},
   "outputs": [],
   "source": [
    "truthy=True\n",
    "fasly=False"
   ]
  },
  {
   "cell_type": "code",
   "execution_count": 23,
   "metadata": {},
   "outputs": [
    {
     "name": "stdout",
     "output_type": "stream",
     "text": [
      "True\n",
      "False\n",
      "True\n"
     ]
    }
   ],
   "source": [
    "age=20\n",
    "is_over_age = age >=10\n",
    "print(is_over_age)\n",
    "\n",
    "is_under_age = age <10\n",
    "print(is_under_age)\n",
    "\n",
    "is_twenty = age==20\n",
    "print(is_twenty)\n"
   ]
  },
  {
   "cell_type": "code",
   "execution_count": 25,
   "metadata": {},
   "outputs": [
    {
     "name": "stdout",
     "output_type": "stream",
     "text": [
      "Enter a number: 2\n",
      "You got it right: False\n"
     ]
    }
   ],
   "source": [
    "my_number = 5\n",
    "user_number = int(input(\"Enter a number: \"))\n",
    "matches=my_number==user_number\n",
    "print(\"You got it right: \"+ str(matches))"
   ]
  },
  {
   "cell_type": "code",
   "execution_count": 27,
   "metadata": {},
   "outputs": [
    {
     "name": "stdout",
     "output_type": "stream",
     "text": [
      "Enter your age: 200\n",
      "You can learn programming: False\n"
     ]
    }
   ],
   "source": [
    "age=int(input(\"Enter your age: \"))\n",
    "can_learn_programming = str(age >0 and age < 150)\n",
    "print(\"You can learn programming: \"+can_learn_programming)\n"
   ]
  },
  {
   "cell_type": "code",
   "execution_count": 28,
   "metadata": {},
   "outputs": [
    {
     "name": "stdout",
     "output_type": "stream",
     "text": [
      "Enter your age: 70\n",
      "At 70, you are usually working: False\n"
     ]
    }
   ],
   "source": [
    "age=int(input(\"Enter your age: \"))\n",
    "usually_working = age >= 18 and age <= 65\n",
    "print(\"At \"+ str(age)+\", you are usually working: \"+ str(usually_working))"
   ]
  },
  {
   "cell_type": "code",
   "execution_count": 29,
   "metadata": {},
   "outputs": [
    {
     "name": "stdout",
     "output_type": "stream",
     "text": [
      "True\n",
      "False\n",
      "False\n"
     ]
    }
   ],
   "source": [
    "print(bool(35))\n",
    "print(bool(\"\"))\n",
    "print(bool(0))"
   ]
  },
  {
   "cell_type": "code",
   "execution_count": 30,
   "metadata": {},
   "outputs": [
    {
     "name": "stdout",
     "output_type": "stream",
     "text": [
      "False\n",
      "0\n"
     ]
    }
   ],
   "source": [
    "x=True and False\n",
    "print(x)\n",
    "\n",
    "x=35 and 0\n",
    "print(x)"
   ]
  },
  {
   "cell_type": "code",
   "execution_count": 31,
   "metadata": {},
   "outputs": [
    {
     "name": "stdout",
     "output_type": "stream",
     "text": [
      "Enter your name: Jon\n",
      "Enter your surname: Zimmerman\n",
      "Jon\n"
     ]
    }
   ],
   "source": [
    "name =input(\"Enter your name: \")\n",
    "surname=input(\"Enter your surname: \")\n",
    "greeting=name or \"Mr. \"+ surname\n",
    "print(greeting)"
   ]
  },
  {
   "cell_type": "code",
   "execution_count": 32,
   "metadata": {},
   "outputs": [
    {
     "name": "stdout",
     "output_type": "stream",
     "text": [
      "False\n",
      "True\n"
     ]
    }
   ],
   "source": [
    "print(not True)\n",
    "print(not False)\n"
   ]
  },
  {
   "cell_type": "code",
   "execution_count": 33,
   "metadata": {},
   "outputs": [
    {
     "name": "stdout",
     "output_type": "stream",
     "text": [
      "Rolf\n",
      "Bob\n",
      "Anne\n"
     ]
    }
   ],
   "source": [
    "#Lists\n",
    "friend1=\"Rolf\"\n",
    "friend2=\"Bob\"\n",
    "friend3=\"Anne\"\n",
    "print(friend1)\n",
    "print(friend2)\n",
    "print(friend3)\n",
    "#this is not the best way to do this"
   ]
  },
  {
   "cell_type": "code",
   "execution_count": 34,
   "metadata": {},
   "outputs": [
    {
     "name": "stdout",
     "output_type": "stream",
     "text": [
      "['Rolf', 'Bob', 'Anne']\n",
      "Rolf\n",
      "Bob\n"
     ]
    }
   ],
   "source": [
    "#better if you create a list\n",
    "friends1 = [\"Rolf\",\"Bob\",\"Anne\"]\n",
    "print(friends1)\n",
    "print(friends1[0])\n",
    "print(friends1[1])"
   ]
  },
  {
   "cell_type": "code",
   "execution_count": 35,
   "metadata": {},
   "outputs": [
    {
     "name": "stdout",
     "output_type": "stream",
     "text": [
      "['Rolf', 24]\n",
      "30\n",
      "Anne\n"
     ]
    }
   ],
   "source": [
    "friends2=[[\"Rolf\",24],[\"Bob\",30],[\"Anne\",27]]\n",
    "print(friends2[0])\n",
    "print(friends2[1][1])\n",
    "print(friends2[2][0])"
   ]
  },
  {
   "cell_type": "code",
   "execution_count": 36,
   "metadata": {},
   "outputs": [
    {
     "name": "stdout",
     "output_type": "stream",
     "text": [
      "['Rolf', 'Bob', 'Anne', 'Jen']\n"
     ]
    }
   ],
   "source": [
    "#to add to a list\n",
    "friends1.append(\"Jen\")\n",
    "print(friends1)"
   ]
  },
  {
   "cell_type": "code",
   "execution_count": 37,
   "metadata": {},
   "outputs": [
    {
     "name": "stdout",
     "output_type": "stream",
     "text": [
      "['Rolf', 'Bob', 'Anne', 'Jen']\n"
     ]
    }
   ],
   "source": [
    "#friends1.remove(\"Bob\")\n",
    "print(friends1)"
   ]
  },
  {
   "cell_type": "code",
   "execution_count": 38,
   "metadata": {},
   "outputs": [
    {
     "name": "stdout",
     "output_type": "stream",
     "text": [
      "[['Rolf', 24], ['Bob', 30], ['Anne', 27]]\n"
     ]
    }
   ],
   "source": [
    "\n",
    "#friends2.remove([\"Anne\",27])\n",
    "print(friends2)"
   ]
  },
  {
   "cell_type": "code",
   "execution_count": 43,
   "metadata": {},
   "outputs": [],
   "source": [
    "#TUPLES\n",
    "short_tuple=\"Rolf\",\"Bob\"\n",
    "a_bit_clearer=(\"Rolf\",\"Bob\")\n",
    "tuple_in_List=[(\"Rolf\",\"Bob\")]\n",
    "not_a_tuple=\"Rolf\"\n",
    "not_a_tuple=\"Rolf\""
   ]
  },
  {
   "cell_type": "code",
   "execution_count": 44,
   "metadata": {},
   "outputs": [
    {
     "ename": "AttributeError",
     "evalue": "'tuple' object has no attribute 'append'",
     "output_type": "error",
     "traceback": [
      "\u001b[0;31m---------------------------------------------------------------------------\u001b[0m",
      "\u001b[0;31mAttributeError\u001b[0m                            Traceback (most recent call last)",
      "\u001b[0;32m<ipython-input-44-eaf9d1fcd741>\u001b[0m in \u001b[0;36m<module>\u001b[0;34m\u001b[0m\n\u001b[1;32m      1\u001b[0m \u001b[0mfriends\u001b[0m\u001b[0;34m=\u001b[0m\u001b[0;34m(\u001b[0m\u001b[0;34m\"Rolf\"\u001b[0m\u001b[0;34m,\u001b[0m\u001b[0;34m\"Bob\"\u001b[0m\u001b[0;34m,\u001b[0m\u001b[0;34m\"Anne\"\u001b[0m\u001b[0;34m)\u001b[0m\u001b[0;34m\u001b[0m\u001b[0;34m\u001b[0m\u001b[0m\n\u001b[0;32m----> 2\u001b[0;31m \u001b[0mfriends\u001b[0m\u001b[0;34m.\u001b[0m\u001b[0mappend\u001b[0m\u001b[0;34m(\u001b[0m\u001b[0;34m\"Jen\"\u001b[0m\u001b[0;34m)\u001b[0m\u001b[0;34m\u001b[0m\u001b[0;34m\u001b[0m\u001b[0m\n\u001b[0m",
      "\u001b[0;31mAttributeError\u001b[0m: 'tuple' object has no attribute 'append'"
     ]
    }
   ],
   "source": [
    "friends=(\"Rolf\",\"Bob\",\"Anne\")\n",
    "friends.append(\"Jen\")\n",
    "#can not append to a tuple"
   ]
  },
  {
   "cell_type": "code",
   "execution_count": 48,
   "metadata": {},
   "outputs": [
    {
     "name": "stdout",
     "output_type": "stream",
     "text": [
      "('Rolf', 'Bob', 'Anne')\n",
      "('Rolf', 'Bob', 'Anne', 'Jen')\n"
     ]
    }
   ],
   "source": [
    "#to work around this --> add 2 tuples together\n",
    "friends=(\"Rolf\",\"Bob\",\"Anne\")\n",
    "print(friends)\n",
    "friends=friends+(\"Jen\",)\n",
    "print(friends)"
   ]
  },
  {
   "cell_type": "code",
   "execution_count": 60,
   "metadata": {},
   "outputs": [
    {
     "name": "stdout",
     "output_type": "stream",
     "text": [
      "{'Anne', 'Rolf'}\n",
      "{'Jen', 'Anne', 'Rolf'}\n"
     ]
    }
   ],
   "source": [
    "#SETS\n",
    "#sets do not hold order, do not have duplicates\n",
    "art_friends={\"Rolf\",\"Anne\"}\n",
    "print(art_friends)\n",
    "science_friends={\"Jen\",\"Charlie\"}\n",
    "art_friends.add(\"Jen\")\n",
    "print(art_friends)"
   ]
  },
  {
   "cell_type": "code",
   "execution_count": 61,
   "metadata": {},
   "outputs": [
    {
     "name": "stdout",
     "output_type": "stream",
     "text": [
      "{'Anne', 'Rolf'}\n"
     ]
    }
   ],
   "source": [
    "art_friends.remove(\"Jen\")\n",
    "print(art_friends)"
   ]
  },
  {
   "cell_type": "code",
   "execution_count": 63,
   "metadata": {},
   "outputs": [
    {
     "name": "stdout",
     "output_type": "stream",
     "text": [
      "{'Anne', 'Rolf'}\n",
      "{'Charlie'}\n"
     ]
    }
   ],
   "source": [
    "art_friends={\"Rolf\",\"Anne\",\"Jen\"}\n",
    "science_friends={\"Jen\",\"Charlie\"}\n",
    "\n",
    "art_but_not_science = art_friends.difference(science_friends)\n",
    "print(art_but_not_science)\n",
    "\n",
    "science_but_not_art = science_friends.difference(art_friends)\n",
    "print(science_but_not_art)"
   ]
  },
  {
   "cell_type": "code",
   "execution_count": 64,
   "metadata": {},
   "outputs": [
    {
     "name": "stdout",
     "output_type": "stream",
     "text": [
      "{'Charlie', 'Anne', 'Rolf'}\n"
     ]
    }
   ],
   "source": [
    "not_in_both=art_friends.symmetric_difference(science_friends)\n",
    "print(not_in_both)"
   ]
  },
  {
   "cell_type": "code",
   "execution_count": 67,
   "metadata": {},
   "outputs": [
    {
     "name": "stdout",
     "output_type": "stream",
     "text": [
      "{'Jen'}\n"
     ]
    }
   ],
   "source": [
    "art_and_science=art_friends.intersection(science_friends)\n",
    "print(art_and_science)"
   ]
  },
  {
   "cell_type": "code",
   "execution_count": 69,
   "metadata": {},
   "outputs": [
    {
     "name": "stdout",
     "output_type": "stream",
     "text": [
      "{'Jen', 'Anne', 'Charlie', 'Rolf'}\n"
     ]
    }
   ],
   "source": [
    "all_friends=art_friends.union(science_friends)\n",
    "print(all_friends)"
   ]
  },
  {
   "cell_type": "code",
   "execution_count": 82,
   "metadata": {},
   "outputs": [
    {
     "name": "stdout",
     "output_type": "stream",
     "text": [
      "24\n",
      "27\n"
     ]
    }
   ],
   "source": [
    "#Dictionaries\n",
    "#allows you to store keys and values\n",
    "\n",
    "friend_ages={\"Rolf\":24,\"Adam\":30,\"Anne\":27}\n",
    "#Key: Rolf\n",
    "#Value: 24\n",
    "\n",
    "print(friend_ages[\"Rolf\"])\n",
    "print(friend_ages[\"Anne\"])"
   ]
  },
  {
   "cell_type": "code",
   "execution_count": 84,
   "metadata": {},
   "outputs": [
    {
     "data": {
      "text/plain": [
       "{'Rolf': 24, 'Adam': 30, 'Anne': 27, 'Bob': 20}"
      ]
     },
     "execution_count": 84,
     "metadata": {},
     "output_type": "execute_result"
    }
   ],
   "source": [
    "#Assign a value to a key in the dictionary (even if it doesnt exist yet)\n",
    "friend_ages[\"Bob\"]=20\n",
    "friend_ages"
   ]
  },
  {
   "cell_type": "code",
   "execution_count": 85,
   "metadata": {},
   "outputs": [
    {
     "data": {
      "text/plain": [
       "{'Rolf': 25, 'Adam': 30, 'Anne': 27, 'Bob': 20}"
      ]
     },
     "execution_count": 85,
     "metadata": {},
     "output_type": "execute_result"
    }
   ],
   "source": [
    "#Change a key in dictionary\n",
    "friend_ages[\"Rolf\"] = 25\n",
    "friend_ages\n",
    "#Difference between dictionaries and sets --> dictionaries keep order, but still cant have dups\n"
   ]
  },
  {
   "cell_type": "code",
   "execution_count": 86,
   "metadata": {},
   "outputs": [
    {
     "data": {
      "text/plain": [
       "({'name': 'Rolf Smith', 'age': 24},\n",
       " {'name': 'Adam Wool', 'age': 30},\n",
       " {'name': 'Anne Pun', 'age': 27})"
      ]
     },
     "execution_count": 86,
     "metadata": {},
     "output_type": "execute_result"
    }
   ],
   "source": [
    "#Good Use Case for Dictionaries --> store information in a way that is easily retrievable\n",
    "\n",
    "friends = (\n",
    "    {\"name\": \"Rolf Smith\",\"age\":24},\n",
    "    {\"name\": \"Adam Wool\",\"age\":30},\n",
    "    {\"name\": \"Anne Pun\",\"age\":27},\n",
    "\n",
    ")\n",
    "\n",
    "friends"
   ]
  },
  {
   "cell_type": "code",
   "execution_count": 88,
   "metadata": {},
   "outputs": [
    {
     "name": "stdout",
     "output_type": "stream",
     "text": [
      "Rolf Smith\n"
     ]
    }
   ],
   "source": [
    "#the above setup allows us to do this--> access first element, name\n",
    "print(friends[0][\"name\"])"
   ]
  },
  {
   "cell_type": "code",
   "execution_count": 89,
   "metadata": {},
   "outputs": [
    {
     "name": "stdout",
     "output_type": "stream",
     "text": [
      "27\n"
     ]
    }
   ],
   "source": [
    "print(friends[2][\"age\"])"
   ]
  },
  {
   "cell_type": "code",
   "execution_count": 94,
   "metadata": {},
   "outputs": [
    {
     "name": "stdout",
     "output_type": "stream",
     "text": [
      "[('Rolf', 24), ('Adam', 30), ('Anne', 27)]\n",
      "{'Rolf': 24, 'Adam': 30, 'Anne': 27}\n",
      "<class 'list'>\n",
      "<class 'dict'>\n"
     ]
    }
   ],
   "source": [
    "#Convert to dictionary\n",
    "friends=[(\"Rolf\",24),(\"Adam\",30),(\"Anne\",27)]\n",
    "friend_ages=dict(friends)\n",
    "print(friends)\n",
    "print(friend_ages)\n",
    "print(type(friends))\n",
    "print(type(friend_ages))\n"
   ]
  },
  {
   "cell_type": "code",
   "execution_count": 96,
   "metadata": {},
   "outputs": [
    {
     "name": "stdout",
     "output_type": "stream",
     "text": [
      "345\n"
     ]
    }
   ],
   "source": [
    "#Length and Sum\n",
    "grades=[80, 75, 90, 100]\n",
    "total = sum(grades)\n",
    "print(total)"
   ]
  },
  {
   "cell_type": "code",
   "execution_count": 99,
   "metadata": {},
   "outputs": [
    {
     "name": "stdout",
     "output_type": "stream",
     "text": [
      "4\n"
     ]
    }
   ],
   "source": [
    "length=len(grades)\n",
    "print(length)"
   ]
  },
  {
   "cell_type": "code",
   "execution_count": 100,
   "metadata": {},
   "outputs": [
    {
     "name": "stdout",
     "output_type": "stream",
     "text": [
      "86.25\n"
     ]
    }
   ],
   "source": [
    "average=total/length\n",
    "print(average)"
   ]
  },
  {
   "cell_type": "code",
   "execution_count": 101,
   "metadata": {},
   "outputs": [],
   "source": [
    "#Which of these data structures is less ideal for grades?\n",
    "grades=[80,75,90,100]#LIST\n",
    "grades=(80,75,90,100)#TUPLE\n",
    "grades={80,75,90,100}#SET"
   ]
  },
  {
   "cell_type": "code",
   "execution_count": 102,
   "metadata": {},
   "outputs": [],
   "source": [
    "#tuple --> can not add new grades over time\n",
    "#set --> worst choice, can not have duplicate values, cant have 2 100s\n",
    "#GO WITH THE LIST!"
   ]
  },
  {
   "cell_type": "code",
   "execution_count": 127,
   "metadata": {},
   "outputs": [
    {
     "name": "stdout",
     "output_type": "stream",
     "text": [
      "Player Jon Zimmerman got 4 numbers right.\n",
      "Player Amelia Ayoob got 5 numbers right.\n"
     ]
    }
   ],
   "source": [
    "lottery_numbers = {13, 21, 22, 5, 8}\n",
    "\n",
    "players=[\n",
    "    {\"name\": \"Jon Zimmerman\", \"numbers\": {13,21,22,5,69}},\n",
    "    {\"name\": \"Amelia Ayoob\", \"numbers\": {13,21,22,5,8}}\n",
    "]\n",
    "     \n",
    "print(\"Player \"+players[0][\"name\"]+\" got \"+ str(len(lottery_numbers.intersection(players[0][\"numbers\"])))+\" numbers right.\")\n",
    "print(\"Player \"+players[1][\"name\"]+\" got \"+ str(len(lottery_numbers.intersection(players[1][\"numbers\"])))+\" numbers right.\")"
   ]
  },
  {
   "cell_type": "code",
   "execution_count": null,
   "metadata": {},
   "outputs": [],
   "source": []
  },
  {
   "cell_type": "code",
   "execution_count": 129,
   "metadata": {},
   "outputs": [
    {
     "name": "stdout",
     "output_type": "stream",
     "text": [
      "My friends are ['Rolf', 'Anne', 'Charlie']\n"
     ]
    }
   ],
   "source": [
    "#JOINS\n",
    "friends=[\"Rolf\",\"Anne\",\"Charlie\"]\n",
    "print(\"My friends are \"+ str(friends))"
   ]
  },
  {
   "cell_type": "code",
   "execution_count": null,
   "metadata": {},
   "outputs": [],
   "source": []
  },
  {
   "cell_type": "code",
   "execution_count": 133,
   "metadata": {},
   "outputs": [
    {
     "name": "stdout",
     "output_type": "stream",
     "text": [
      "Rolf, Anne, Charlie\n",
      "My friends are Rolf, Anne, Charlie\n"
     ]
    }
   ],
   "source": [
    "comma_separated=\", \".join(friends)\n",
    "print(comma_separated)\n",
    "print(\"My friends are \"+comma_separated)"
   ]
  },
  {
   "cell_type": "code",
   "execution_count": null,
   "metadata": {},
   "outputs": [],
   "source": []
  },
  {
   "cell_type": "code",
   "execution_count": 134,
   "metadata": {},
   "outputs": [
    {
     "name": "stdout",
     "output_type": "stream",
     "text": [
      "Rolf& Anne& Charlie\n",
      "My friends are Rolf& Anne& Charlie\n"
     ]
    }
   ],
   "source": [
    "comma_separated=\"& \".join(friends)\n",
    "print(comma_separated)\n",
    "print(\"My friends are \"+comma_separated)"
   ]
  },
  {
   "cell_type": "code",
   "execution_count": null,
   "metadata": {},
   "outputs": [],
   "source": []
  }
 ],
 "metadata": {
  "kernelspec": {
   "display_name": "Python 3",
   "language": "python",
   "name": "python3"
  },
  "language_info": {
   "codemirror_mode": {
    "name": "ipython",
    "version": 3
   },
   "file_extension": ".py",
   "mimetype": "text/x-python",
   "name": "python",
   "nbconvert_exporter": "python",
   "pygments_lexer": "ipython3",
   "version": "3.7.4"
  }
 },
 "nbformat": 4,
 "nbformat_minor": 2
}
