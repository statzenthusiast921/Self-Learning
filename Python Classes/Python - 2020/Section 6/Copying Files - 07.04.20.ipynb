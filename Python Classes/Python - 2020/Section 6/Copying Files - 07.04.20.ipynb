{
 "cells": [
  {
   "cell_type": "code",
   "execution_count": 50,
   "metadata": {},
   "outputs": [],
   "source": [
    "#Ask the user for a list of 3 friends\n",
    "#For each friend, we'll tell the user whether they are nearby\n",
    "#For each nearby friend, we'll save their name to 'nearby_friends.txt'"
   ]
  },
  {
   "cell_type": "code",
   "execution_count": 51,
   "metadata": {},
   "outputs": [
    {
     "name": "stdout",
     "output_type": "stream",
     "text": [
      "Enter three friend name, separated by commas (no spaces): Jon,Amelia,Dave\n"
     ]
    }
   ],
   "source": [
    "friends = input('Enter three friend name, separated by commas (no spaces): ').split(',')"
   ]
  },
  {
   "cell_type": "code",
   "execution_count": 52,
   "metadata": {},
   "outputs": [
    {
     "name": "stdout",
     "output_type": "stream",
     "text": [
      "['Jon', 'Amelia', 'Dave']\n"
     ]
    }
   ],
   "source": [
    "print(friends)"
   ]
  },
  {
   "cell_type": "code",
   "execution_count": 53,
   "metadata": {},
   "outputs": [],
   "source": [
    "people = open('people.txt','r')\n",
    "people_nearby = [line.strip() for line in people.readlines()]"
   ]
  },
  {
   "cell_type": "code",
   "execution_count": 54,
   "metadata": {},
   "outputs": [],
   "source": [
    "#dont need to keep it open anymore\n",
    "people.close()"
   ]
  },
  {
   "cell_type": "code",
   "execution_count": 55,
   "metadata": {},
   "outputs": [],
   "source": [
    "friends_set = set(friends)\n",
    "people_nearby_set = set(people_nearby)"
   ]
  },
  {
   "cell_type": "code",
   "execution_count": 56,
   "metadata": {},
   "outputs": [],
   "source": [
    "friends_nearby_set = friends_set.intersection(people_nearby_set)"
   ]
  },
  {
   "cell_type": "code",
   "execution_count": 57,
   "metadata": {},
   "outputs": [],
   "source": [
    "nearby_friends_file = open('nearby_friends.txt','w')"
   ]
  },
  {
   "cell_type": "code",
   "execution_count": 58,
   "metadata": {},
   "outputs": [
    {
     "name": "stdout",
     "output_type": "stream",
     "text": [
      "Amelia is nearby! Meet up with them.\n",
      "Dave is nearby! Meet up with them.\n",
      "Jon is nearby! Meet up with them.\n"
     ]
    }
   ],
   "source": [
    "#this will write the intersection results to the file\n",
    "for friend in friends_nearby_set:\n",
    "    print(f'{friend} is nearby! Meet up with them.')\n",
    "    nearby_friends_file.write(f'{friend}\\n')"
   ]
  },
  {
   "cell_type": "code",
   "execution_count": 59,
   "metadata": {},
   "outputs": [],
   "source": [
    "nearby_friends_file.close()"
   ]
  },
  {
   "cell_type": "code",
   "execution_count": null,
   "metadata": {},
   "outputs": [],
   "source": []
  }
 ],
 "metadata": {
  "kernelspec": {
   "display_name": "Python 3",
   "language": "python",
   "name": "python3"
  },
  "language_info": {
   "codemirror_mode": {
    "name": "ipython",
    "version": 3
   },
   "file_extension": ".py",
   "mimetype": "text/x-python",
   "name": "python",
   "nbconvert_exporter": "python",
   "pygments_lexer": "ipython3",
   "version": "3.7.4"
  }
 },
 "nbformat": 4,
 "nbformat_minor": 2
}
