{
 "cells": [
  {
   "cell_type": "code",
   "execution_count": 4,
   "metadata": {},
   "outputs": [
    {
     "name": "stdout",
     "output_type": "stream",
     "text": [
      "Enter three friend names, separated by commas (no spaces, please): Jon,Amelia,Dave\n"
     ]
    }
   ],
   "source": [
    "# Ask the user for a list of 3 friends\n",
    "# For each friend, we'll tell the user whether they are nearby\n",
    "# For each nearby friend, we'll save their name to `nearby_friends.txt`\n",
    "\n",
    "friends = input('Enter three friend names, separated by commas (no spaces, please): ').split(',')\n",
    "\n"
   ]
  },
  {
   "cell_type": "code",
   "execution_count": 8,
   "metadata": {},
   "outputs": [
    {
     "data": {
      "text/plain": [
       "['Jon',\n",
       " 'Rolf',\n",
       " 'Jose',\n",
       " 'Chris',\n",
       " 'Anna',\n",
       " 'Charlie',\n",
       " 'Amelia',\n",
       " 'David',\n",
       " 'Dave',\n",
       " 'Annie',\n",
       " 'Marcell',\n",
       " 'Jonie',\n",
       " 'Rebecca',\n",
       " 'Sam']"
      ]
     },
     "execution_count": 8,
     "metadata": {},
     "output_type": "execute_result"
    }
   ],
   "source": [
    "people = open('people.txt', 'r')\n",
    "people_nearby = [line.strip() for line in people.readlines()]\n",
    "people_nearby"
   ]
  },
  {
   "cell_type": "code",
   "execution_count": 9,
   "metadata": {},
   "outputs": [],
   "source": [
    "people.close()"
   ]
  },
  {
   "cell_type": "code",
   "execution_count": 10,
   "metadata": {},
   "outputs": [],
   "source": [
    "friends_set = set(friends)\n",
    "people_nearby_set = set(people_nearby)"
   ]
  },
  {
   "cell_type": "code",
   "execution_count": 11,
   "metadata": {},
   "outputs": [],
   "source": [
    "friends_nearby_set = friends_set.intersection(people_nearby_set)"
   ]
  },
  {
   "cell_type": "code",
   "execution_count": 12,
   "metadata": {},
   "outputs": [],
   "source": [
    "nearby_friends_file = open('nearby_friends.txt', 'w')"
   ]
  },
  {
   "cell_type": "code",
   "execution_count": 13,
   "metadata": {},
   "outputs": [
    {
     "name": "stdout",
     "output_type": "stream",
     "text": [
      "Dave is nearby! Meet up with them.\n",
      "Jon is nearby! Meet up with them.\n",
      "Amelia is nearby! Meet up with them.\n"
     ]
    }
   ],
   "source": [
    "for friend in friends_nearby_set:\n",
    "    print(f'{friend} is nearby! Meet up with them.')\n",
    "    nearby_friends_file.write(f'{friend}\\n')\n",
    "\n"
   ]
  },
  {
   "cell_type": "code",
   "execution_count": 14,
   "metadata": {},
   "outputs": [],
   "source": [
    "nearby_friends_file.close()"
   ]
  },
  {
   "cell_type": "code",
   "execution_count": null,
   "metadata": {},
   "outputs": [],
   "source": []
  }
 ],
 "metadata": {
  "kernelspec": {
   "display_name": "Python 3",
   "language": "python",
   "name": "python3"
  }
 },
 "nbformat": 4,
 "nbformat_minor": 2
}
