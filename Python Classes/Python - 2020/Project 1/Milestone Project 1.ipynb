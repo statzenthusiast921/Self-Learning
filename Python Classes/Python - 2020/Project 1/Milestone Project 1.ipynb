{
 "cells": [
  {
   "cell_type": "code",
   "execution_count": 1,
   "metadata": {},
   "outputs": [],
   "source": [
    "#Movie Collection App\n",
    "\n",
    "#USER STORY:\n",
    "\n",
    "#As a user I would like to be able to:\n",
    "# 1.) Add new movies to my collection\n",
    "#    so I can keep track of all my movies\n",
    "# 2.) List all the movies in my collection\n",
    "#    so I can see what movies I already have\n",
    "# 3.) Find a movie by using the movie title\n",
    "#.   so I can locate a specific movie easily when the collection grows\n",
    "\n",
    "\n"
   ]
  },
  {
   "cell_type": "code",
   "execution_count": 2,
   "metadata": {},
   "outputs": [],
   "source": [
    "#Implementation Tasks\n",
    "#1.) Decide where to store movies in code\n",
    "#2.) Decide what data we want to store for each movie\n",
    "#3.) Show the user a menu and let them pick an option\n",
    "#4.) Implement each requirement in turn, each as a separate function\n",
    "#5.) Stop running the program when they type 'q' in the menu\n",
    "\n"
   ]
  },
  {
   "cell_type": "code",
   "execution_count": 3,
   "metadata": {},
   "outputs": [],
   "source": [
    "#1.) Where to store movies --> normally a database, but for this we will store in Python list\n",
    "#eg: movies=[]"
   ]
  },
  {
   "cell_type": "code",
   "execution_count": 4,
   "metadata": {},
   "outputs": [],
   "source": [
    "#2.) What to store for each movie --> we'll create a dictionary (movie title, director, release year)\n",
    "#eg: title=input(\"Enter movie title: \")\n",
    "#eg: director=input(\"Enter movie director: \")\n",
    "#eg: year=input(\"Enter movie release year: \")\n",
    "\n",
    "#movies.append({\n",
    "#'title' : title,\n",
    "#'director' : director,\n",
    "#'year' : year\n",
    "#})"
   ]
  },
  {
   "cell_type": "code",
   "execution_count": 5,
   "metadata": {},
   "outputs": [],
   "source": [
    "#3.) Show the user a menu\n",
    "# we need user input\n",
    "# run a loop and get their input again at the end"
   ]
  },
  {
   "cell_type": "code",
   "execution_count": 6,
   "metadata": {},
   "outputs": [],
   "source": [
    "#4.) Implement each requirement in turn"
   ]
  },
  {
   "cell_type": "code",
   "execution_count": null,
   "metadata": {},
   "outputs": [
    {
     "name": "stdout",
     "output_type": "stream",
     "text": [
      "\n",
      "Enter 'a' to add a movie, 'l' to see your movies, 'f' to find a movie by title, or 'q' to quit: a\n",
      "Enter the movie title: It\n",
      "Enter the movie director: Someone\n",
      "Enter the movie release year: 2017\n",
      "\n",
      "Enter 'a' to add a movie, 'l' to see your movies, 'f' to find a movie by title, or 'q' to quit: a\n",
      "Enter the movie title: It 2\n",
      "Enter the movie director: Someone\n",
      "Enter the movie release year: 2019\n",
      "\n",
      "Enter 'a' to add a movie, 'l' to see your movies, 'f' to find a movie by title, or 'q' to quit: l\n",
      "Title: It\n",
      "Director: Someone\n",
      "Release year: 2017\n",
      "Title: It 2\n",
      "Director: Someone\n",
      "Release year: 2019\n",
      "\n",
      "Enter 'a' to add a movie, 'l' to see your movies, 'f' to find a movie by title, or 'q' to quit: f\n",
      "Enter movie title you're looking for: It\n",
      "Title: It\n",
      "Director: Someone\n",
      "Release year: 2017\n"
     ]
    }
   ],
   "source": [
    "MENU_PROMPT = \"\\nEnter 'a' to add a movie, 'l' to see your movies, 'f' to find a movie by title, or 'q' to quit: \"\n",
    "movies = []\n",
    "\n",
    "\n",
    "def add_movie():\n",
    "    title = input(\"Enter the movie title: \")\n",
    "    director = input(\"Enter the movie director: \")\n",
    "    year = input(\"Enter the movie release year: \")\n",
    "\n",
    "    movies.append({\n",
    "        'title': title,\n",
    "        'director': director,\n",
    "        'year': year\n",
    "    })\n",
    "\n",
    "\n",
    "def show_movies():\n",
    "    for movie in movies:\n",
    "        print_movie(movie)\n",
    "\n",
    "\n",
    "def print_movie(movie):\n",
    "    print(\"Title: \"+ str(movie['title']))\n",
    "    print(\"Director: \"+str(movie['director']))\n",
    "    print(\"Release year: \"+str(movie['year']))\n",
    "\n",
    "\n",
    "def find_movie():\n",
    "    search_title = input(\"Enter movie title you're looking for: \")\n",
    "\n",
    "    for movie in movies:\n",
    "        if movie[\"title\"] == search_title:\n",
    "            print_movie(movie)\n",
    "\n",
    "\n",
    "user_options = {\n",
    "    \"a\": add_movie,\n",
    "    \"l\": show_movies,\n",
    "    \"f\": find_movie\n",
    "}\n",
    "\n",
    "\n",
    "def menu():\n",
    "    selection = input(MENU_PROMPT)\n",
    "    while selection != 'q':\n",
    "        if selection in user_options:\n",
    "            selected_function = user_options[selection]\n",
    "            selected_function()\n",
    "        else:\n",
    "            print('Unknown command. Please try again.')\n",
    "\n",
    "        selection = input(MENU_PROMPT)\n",
    "\n",
    "\n",
    "menu()"
   ]
  },
  {
   "cell_type": "code",
   "execution_count": null,
   "metadata": {},
   "outputs": [],
   "source": []
  }
 ],
 "metadata": {
  "kernelspec": {
   "display_name": "Python 3",
   "language": "python",
   "name": "python3"
  },
  "language_info": {
   "codemirror_mode": {
    "name": "ipython",
    "version": 3
   },
   "file_extension": ".py",
   "mimetype": "text/x-python",
   "name": "python",
   "nbconvert_exporter": "python",
   "pygments_lexer": "ipython3",
   "version": "3.7.4"
  }
 },
 "nbformat": 4,
 "nbformat_minor": 2
}
