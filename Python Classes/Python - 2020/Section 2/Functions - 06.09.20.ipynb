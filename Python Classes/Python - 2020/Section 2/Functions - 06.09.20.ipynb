{
 "cells": [
  {
   "cell_type": "code",
   "execution_count": 1,
   "metadata": {},
   "outputs": [
    {
     "name": "stdout",
     "output_type": "stream",
     "text": [
      "Enter your name: Jon\n",
      "Hello, Jon!\n"
     ]
    }
   ],
   "source": [
    "#Functions\n",
    "def greet():\n",
    "    name = input(\"Enter your name: \")\n",
    "    print(\"Hello, \"+str(name)+\"!\")\n",
    "\n",
    "\n",
    "greet()\n",
    "\n",
    "\n",
    "#calling is the same thing as executing a function\n",
    "#you can only call a function after it has been defined\n",
    "#greet() won't work if you call it before defining it\n"
   ]
  },
  {
   "cell_type": "code",
   "execution_count": null,
   "metadata": {},
   "outputs": [],
   "source": []
  }
 ],
 "metadata": {
  "kernelspec": {
   "display_name": "Python 3",
   "language": "python",
   "name": "python3"
  },
  "language_info": {
   "codemirror_mode": {
    "name": "ipython",
    "version": 3
   },
   "file_extension": ".py",
   "mimetype": "text/x-python",
   "name": "python",
   "nbconvert_exporter": "python",
   "pygments_lexer": "ipython3",
   "version": "3.7.4"
  }
 },
 "nbformat": 4,
 "nbformat_minor": 2
}
