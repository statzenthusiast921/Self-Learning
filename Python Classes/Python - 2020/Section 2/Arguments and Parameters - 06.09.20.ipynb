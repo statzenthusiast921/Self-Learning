{
 "cells": [
  {
   "cell_type": "code",
   "execution_count": 1,
   "metadata": {},
   "outputs": [
    {
     "name": "stdout",
     "output_type": "stream",
     "text": [
      "Ford Fiesta does 50.0 miles per gallon.\n"
     ]
    }
   ],
   "source": [
    "car = {\n",
    "    \"make\":\"Ford\",\n",
    "    \"model\":\"Fiesta\",\n",
    "    \"mileage\":23000,\n",
    "    \"fuel_consumed\":460\n",
    "}\n",
    "mpg=car[\"mileage\"]/car[\"fuel_consumed\"]\n",
    "name=str(car['make'])+\" \"+str(car['model'])\n",
    "print(str(name)+\" does \"+str(mpg)+\" miles per gallon.\")\n",
    "\n"
   ]
  },
  {
   "cell_type": "code",
   "execution_count": 2,
   "metadata": {},
   "outputs": [
    {
     "name": "stdout",
     "output_type": "stream",
     "text": [
      "Ford Fiesta\n",
      "{'make': 'Ford', 'model': 'Fiesta', 'mileage': 23000, 'fuel_consumed': 460}\n",
      "<class 'dict'>\n",
      "50.0\n"
     ]
    }
   ],
   "source": [
    "print(name)\n",
    "print(car)\n",
    "print(type(car))\n",
    "print(mpg)"
   ]
  },
  {
   "cell_type": "code",
   "execution_count": 3,
   "metadata": {},
   "outputs": [
    {
     "name": "stdout",
     "output_type": "stream",
     "text": [
      "Ford Fiesta does 50.0 miles per gallon.\n"
     ]
    }
   ],
   "source": [
    "#we can make this easier by using these as arguments in function\n",
    "def calculate_mpg():\n",
    "    car = {\n",
    "    \"make\":\"Ford\",\n",
    "    \"model\":\"Fiesta\",\n",
    "    \"mileage\":23000,\n",
    "    \"fuel_consumed\":460\n",
    "    }\n",
    "    mpg=car[\"mileage\"]/car[\"fuel_consumed\"]\n",
    "    name=str(car['make'])+\" \"+str(car['model'])\n",
    "    print(str(name)+\" does \"+str(mpg)+\" miles per gallon.\")\n",
    "\n",
    "\n",
    "calculate_mpg()"
   ]
  },
  {
   "cell_type": "code",
   "execution_count": 4,
   "metadata": {},
   "outputs": [
    {
     "name": "stdout",
     "output_type": "stream",
     "text": [
      "Ford Fiesta does 50.0 miles per gallon.\n"
     ]
    }
   ],
   "source": [
    "#let's standardize the function so we can use it for different data\n",
    "def calculate_mpg(car_to_calculate):\n",
    "    mpg=car_to_calculate[\"mileage\"]/car_to_calculate[\"fuel_consumed\"]\n",
    "    name=str(car_to_calculate['make'])+\" \"+str(car_to_calculate['model'])\n",
    "    print(str(name)+\" does \"+str(mpg)+\" miles per gallon.\")\n",
    "   \n",
    "   \n",
    "calculate_mpg({\n",
    "    \"make\":\"Ford\",\n",
    "    \"model\":\"Fiesta\",\n",
    "    \"mileage\":23000,\n",
    "    \"fuel_consumed\":460\n",
    "})"
   ]
  },
  {
   "cell_type": "code",
   "execution_count": 5,
   "metadata": {},
   "outputs": [
    {
     "name": "stdout",
     "output_type": "stream",
     "text": [
      "Mazda MX-5 does 54.44444444444444 miles per gallon.\n"
     ]
    }
   ],
   "source": [
    "#let's get a list of cars\n",
    "cars=[\n",
    "    {\"make\":\"Ford\",\"model\":\"Fiesta\",\"mileage\":23000,\"fuel_consumed\":460},\n",
    "    {\"make\":\"Ford\",\"model\":\"Focus\",\"mileage\":17000,\"fuel_consumed\":350},\n",
    "    {\"make\":\"Mazda\",\"model\":\"MX-5\",\"mileage\":49000,\"fuel_consumed\":900},\n",
    "    {\"make\":\"Mini\",\"model\":\"Cooper\",\"mileage\":31000,\"fuel_consumed\":235}\n",
    "]\n",
    "\n",
    "def calculate_mpg(car_var):\n",
    "    mpg=car_var[\"mileage\"]/car_var[\"fuel_consumed\"]\n",
    "    name=str(car_var['make'])+\" \"+str(car_var['model'])\n",
    "    print(str(name)+\" does \"+str(mpg)+\" miles per gallon.\")\n",
    "   \n",
    "calculate_mpg(cars[2])\n",
    "\n",
    "\n"
   ]
  },
  {
   "cell_type": "code",
   "execution_count": 6,
   "metadata": {},
   "outputs": [
    {
     "name": "stdout",
     "output_type": "stream",
     "text": [
      "Ford Fiesta does 50.0 miles per gallon.\n",
      "Ford Focus does 48.57142857142857 miles per gallon.\n",
      "Mazda MX-5 does 54.44444444444444 miles per gallon.\n",
      "Mini Cooper does 131.91489361702128 miles per gallon.\n"
     ]
    }
   ],
   "source": [
    "for car in cars:\n",
    "    calculate_mpg(car)"
   ]
  },
  {
   "cell_type": "code",
   "execution_count": 7,
   "metadata": {},
   "outputs": [],
   "source": [
    "#FUNCTIONS AND RETURN VALUES"
   ]
  },
  {
   "cell_type": "code",
   "execution_count": 8,
   "metadata": {},
   "outputs": [
    {
     "name": "stdout",
     "output_type": "stream",
     "text": [
      "Ford Fiesta does 50.0 miles per gallon.\n",
      "Ford Focus does 48.57142857142857 miles per gallon.\n",
      "Mazda MX-5 does 54.44444444444444 miles per gallon.\n",
      "Mini Cooper does 131.91489361702128 miles per gallon.\n"
     ]
    }
   ],
   "source": [
    "cars=[\n",
    "    {\"make\":\"Ford\",\"model\":\"Fiesta\",\"mileage\":23000,\"fuel_consumed\":460},\n",
    "    {\"make\":\"Ford\",\"model\":\"Focus\",\"mileage\":17000,\"fuel_consumed\":350},\n",
    "    {\"make\":\"Mazda\",\"model\":\"MX-5\",\"mileage\":49000,\"fuel_consumed\":900},\n",
    "    {\"make\":\"Mini\",\"model\":\"Cooper\",\"mileage\":31000,\"fuel_consumed\":235}\n",
    "]\n",
    "def calculate_mpg(car):\n",
    "    mpg=car[\"mileage\"]/car[\"fuel_consumed\"]\n",
    "    return mpg\n",
    "def car_name(car):\n",
    "    name=str(car['make'])+\" \"+str(car['model'])\n",
    "    return name   \n",
    "def print_car_info(car):\n",
    "    name = car_name(car)\n",
    "    mpg=calculate_mpg(car)\n",
    "    print(str(name)+\" does \"+str(mpg)+\" miles per gallon.\")\n",
    "   \n",
    "for car in cars:\n",
    "    print_car_info(car)\n"
   ]
  },
  {
   "cell_type": "code",
   "execution_count": 9,
   "metadata": {},
   "outputs": [
    {
     "name": "stdout",
     "output_type": "stream",
     "text": [
      "1.3333333333333333\n",
      "You tried to divide by zero!\n",
      "0.0\n"
     ]
    }
   ],
   "source": [
    "def divide(x,y):\n",
    "    if y==0:\n",
    "        return \"You tried to divide by zero!\"\n",
    "    else:\n",
    "        return x/y\n",
    "\n",
    "print(divide(4,3))\n",
    "print(divide(5,0))\n",
    "print(divide(0,1))"
   ]
  },
  {
   "cell_type": "code",
   "execution_count": null,
   "metadata": {},
   "outputs": [],
   "source": []
  }
 ],
 "metadata": {
  "kernelspec": {
   "display_name": "Python 3",
   "language": "python",
   "name": "python3"
  },
  "language_info": {
   "codemirror_mode": {
    "name": "ipython",
    "version": 3
   },
   "file_extension": ".py",
   "mimetype": "text/x-python",
   "name": "python",
   "nbconvert_exporter": "python",
   "pygments_lexer": "ipython3",
   "version": "3.7.4"
  }
 },
 "nbformat": 4,
 "nbformat_minor": 2
}
