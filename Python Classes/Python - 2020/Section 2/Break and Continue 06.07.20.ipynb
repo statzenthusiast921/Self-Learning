{
 "cells": [
  {
   "cell_type": "code",
   "execution_count": 1,
   "metadata": {},
   "outputs": [
    {
     "name": "stdout",
     "output_type": "stream",
     "text": [
      "This car is ok.\n",
      "This car is ok.\n",
      "This car is ok.\n",
      "This car is faulty.\n",
      "This car is ok.\n",
      "This car is ok.\n"
     ]
    }
   ],
   "source": [
    "cars=[\"ok\",\"ok\",\"ok\",\"faulty\",\"ok\",\"ok\"]\n",
    "\n",
    "for status in cars:\n",
    "    print(\"This car is \"+str(status)+\".\")"
   ]
  },
  {
   "cell_type": "code",
   "execution_count": 4,
   "metadata": {},
   "outputs": [
    {
     "name": "stdout",
     "output_type": "stream",
     "text": [
      "This car is ok.\n",
      "This car is ok.\n",
      "This car is ok.\n",
      "Stopping the production line!\n"
     ]
    }
   ],
   "source": [
    "#If we have a faulty car --> need to stop execution of code (stop loop)\n",
    "for status in cars:\n",
    "    if status ==\"faulty\":\n",
    "        print(\"Stopping the production line!\")\n",
    "        break\n",
    "    print(\"This car is \"+str(status)+\".\")"
   ]
  },
  {
   "cell_type": "code",
   "execution_count": 6,
   "metadata": {},
   "outputs": [
    {
     "name": "stdout",
     "output_type": "stream",
     "text": [
      "This car is ok.\n",
      "Shipping new car to customer!\n",
      "This car is ok.\n",
      "Shipping new car to customer!\n",
      "This car is ok.\n",
      "Shipping new car to customer!\n",
      "Found faulty car, skipping...\n",
      "This car is ok.\n",
      "Shipping new car to customer!\n",
      "This car is ok.\n",
      "Shipping new car to customer!\n"
     ]
    }
   ],
   "source": [
    "#Instead of stopping --> let's say we just want to skip this car\n",
    "for status in cars:\n",
    "    if status ==\"faulty\":\n",
    "        print(\"Found faulty car, skipping...\")\n",
    "        continue # continue iterates to next item (goe back up)\n",
    "    print(\"This car is \"+str(status)+\".\")\n",
    "    print(\"Shipping new car to customer!\")"
   ]
  },
  {
   "cell_type": "code",
   "execution_count": null,
   "metadata": {},
   "outputs": [],
   "source": []
  }
 ],
 "metadata": {
  "kernelspec": {
   "display_name": "Python 3",
   "language": "python",
   "name": "python3"
  },
  "language_info": {
   "codemirror_mode": {
    "name": "ipython",
    "version": 3
   },
   "file_extension": ".py",
   "mimetype": "text/x-python",
   "name": "python",
   "nbconvert_exporter": "python",
   "pygments_lexer": "ipython3",
   "version": "3.7.4"
  }
 },
 "nbformat": 4,
 "nbformat_minor": 2
}
