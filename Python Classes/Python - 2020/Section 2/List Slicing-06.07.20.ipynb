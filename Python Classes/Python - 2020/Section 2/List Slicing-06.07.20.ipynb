{
 "cells": [
  {
   "cell_type": "code",
   "execution_count": 1,
   "metadata": {},
   "outputs": [],
   "source": [
    "friends=[\"Rolf\",\"Charlie\",\"Anna\",\"Bob\",\"Jen\"]"
   ]
  },
  {
   "cell_type": "code",
   "execution_count": 2,
   "metadata": {},
   "outputs": [
    {
     "name": "stdout",
     "output_type": "stream",
     "text": [
      "['Anna', 'Bob']\n"
     ]
    }
   ],
   "source": [
    "print(friends[2:4])\n",
    "#first number = inclusive\n",
    "#last number = non-inclusive"
   ]
  },
  {
   "cell_type": "code",
   "execution_count": 3,
   "metadata": {},
   "outputs": [
    {
     "name": "stdout",
     "output_type": "stream",
     "text": [
      "['Charlie', 'Anna', 'Bob', 'Jen']\n"
     ]
    }
   ],
   "source": [
    "#all friends except first one\n",
    "print(friends[1:])"
   ]
  },
  {
   "cell_type": "code",
   "execution_count": 5,
   "metadata": {},
   "outputs": [
    {
     "name": "stdout",
     "output_type": "stream",
     "text": [
      "['Rolf', 'Charlie', 'Anna', 'Bob']\n"
     ]
    }
   ],
   "source": [
    "#all friends except last one\n",
    "print(friends[:4])"
   ]
  },
  {
   "cell_type": "code",
   "execution_count": 6,
   "metadata": {},
   "outputs": [
    {
     "name": "stdout",
     "output_type": "stream",
     "text": [
      "['Bob', 'Jen']\n"
     ]
    }
   ],
   "source": [
    "#only want last 2\n",
    "print(friends[3:])"
   ]
  },
  {
   "cell_type": "code",
   "execution_count": 26,
   "metadata": {},
   "outputs": [
    {
     "name": "stdout",
     "output_type": "stream",
     "text": [
      "['Rolf', 'Charlie', 'Anna', 'Bob', 'Jen']\n"
     ]
    }
   ],
   "source": [
    "#will get all elements --> but not exactly the same list\n",
    "print(friends[:])"
   ]
  },
  {
   "cell_type": "code",
   "execution_count": 34,
   "metadata": {},
   "outputs": [
    {
     "name": "stdout",
     "output_type": "stream",
     "text": [
      "['Anna', 'Bob', 'Jen']\n",
      "['Jen']\n",
      "['Anna', 'Bob']\n",
      "['Rolf', 'Charlie', 'Anna']\n"
     ]
    }
   ],
   "source": [
    "#start counting from the end and read to the right\n",
    "friends=[\"Rolf\",\"Charlie\",\"Anna\",\"Bob\",\"Jen\"]\n",
    "print(friends[-3:])\n",
    "print(friends[-1:])\n",
    "print(friends[-3:4])\n",
    "#all friends but last two\n",
    "print(friends[:-2])"
   ]
  },
  {
   "cell_type": "code",
   "execution_count": 35,
   "metadata": {},
   "outputs": [
    {
     "name": "stdout",
     "output_type": "stream",
     "text": [
      "['Anna', 'Bob']\n"
     ]
    }
   ],
   "source": [
    "#start from the 3rd element from end up to 1st element on the end\n",
    "print(friends[-3:-1])"
   ]
  },
  {
   "cell_type": "code",
   "execution_count": null,
   "metadata": {},
   "outputs": [],
   "source": []
  }
 ],
 "metadata": {
  "kernelspec": {
   "display_name": "Python 3",
   "language": "python",
   "name": "python3"
  },
  "language_info": {
   "codemirror_mode": {
    "name": "ipython",
    "version": 3
   },
   "file_extension": ".py",
   "mimetype": "text/x-python",
   "name": "python",
   "nbconvert_exporter": "python",
   "pygments_lexer": "ipython3",
   "version": "3.7.4"
  }
 },
 "nbformat": 4,
 "nbformat_minor": 2
}
