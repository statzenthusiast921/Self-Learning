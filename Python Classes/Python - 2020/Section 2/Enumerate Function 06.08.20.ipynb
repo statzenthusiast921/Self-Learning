{
 "cells": [
  {
   "cell_type": "code",
   "execution_count": 1,
   "metadata": {},
   "outputs": [
    {
     "name": "stdout",
     "output_type": "stream",
     "text": [
      "0\n",
      "Rolf\n",
      "1\n",
      "Bob\n",
      "2\n",
      "Jen\n",
      "3\n",
      "Anne\n"
     ]
    }
   ],
   "source": [
    "friends=[\"Rolf\",\"Bob\",\"Jen\",\"Anne\"]\n",
    "\n",
    "counter=0\n",
    "\n",
    "for friend in friends:\n",
    "    print(counter)\n",
    "    print(friend)\n",
    "    counter=counter+1\n",
    "\n",
    "\n"
   ]
  },
  {
   "cell_type": "code",
   "execution_count": 2,
   "metadata": {},
   "outputs": [
    {
     "name": "stdout",
     "output_type": "stream",
     "text": [
      "0\n",
      "Rolf\n",
      "1\n",
      "Bob\n",
      "2\n",
      "Jen\n",
      "3\n",
      "Anne\n"
     ]
    }
   ],
   "source": [
    "for counter, friend in enumerate(friends):\n",
    "    print(counter)\n",
    "    print(friend)"
   ]
  },
  {
   "cell_type": "code",
   "execution_count": 3,
   "metadata": {},
   "outputs": [
    {
     "name": "stdout",
     "output_type": "stream",
     "text": [
      "[(0, 'Rolf'), (1, 'Bob'), (2, 'Jen'), (3, 'Anne')]\n",
      "[(0, 'Rolf'), (1, 'Bob'), (2, 'Jen'), (3, 'Anne')]\n"
     ]
    }
   ],
   "source": [
    "#list of tuples\n",
    "print(list(enumerate(friends)))\n",
    "#this is the same thing as doing\n",
    "print(list(zip([0,1,2,3],friends)))"
   ]
  },
  {
   "cell_type": "code",
   "execution_count": 4,
   "metadata": {},
   "outputs": [
    {
     "name": "stdout",
     "output_type": "stream",
     "text": [
      "[(0, 'Rolf'), (1, 'Bob'), (2, 'Jen'), (3, 'Anne')]\n",
      "{0: 'Rolf', 1: 'Bob', 2: 'Jen', 3: 'Anne'}\n"
     ]
    }
   ],
   "source": [
    "print(list(enumerate(friends)))\n",
    "print(dict(enumerate(friends)))"
   ]
  },
  {
   "cell_type": "code",
   "execution_count": 5,
   "metadata": {},
   "outputs": [
    {
     "name": "stdout",
     "output_type": "stream",
     "text": [
      "[0, 1, 2, 3, 4, 5, 6, 7, 8, 9]\n",
      "[0, 2, 4, 6, 8, 10, 12, 14, 16, 18]\n"
     ]
    }
   ],
   "source": [
    "numbers = list(range(10))\n",
    "doubled = [n*2 for n in numbers]\n",
    "print(numbers)\n",
    "print(doubled)"
   ]
  },
  {
   "cell_type": "code",
   "execution_count": null,
   "metadata": {},
   "outputs": [],
   "source": []
  }
 ],
 "metadata": {
  "kernelspec": {
   "display_name": "Python 3",
   "language": "python",
   "name": "python3"
  },
  "language_info": {
   "codemirror_mode": {
    "name": "ipython",
    "version": 3
   },
   "file_extension": ".py",
   "mimetype": "text/x-python",
   "name": "python",
   "nbconvert_exporter": "python",
   "pygments_lexer": "ipython3",
   "version": "3.7.4"
  }
 },
 "nbformat": 4,
 "nbformat_minor": 2
}
