{
 "cells": [
  {
   "cell_type": "code",
   "execution_count": 1,
   "metadata": {},
   "outputs": [],
   "source": [
    "#LAMBDA FUNCTIONS\n",
    "#used to get inputs, do small amount of processing, and return outputs"
   ]
  },
  {
   "cell_type": "code",
   "execution_count": 2,
   "metadata": {},
   "outputs": [
    {
     "data": {
      "text/plain": [
       "3.3333333333333335"
      ]
     },
     "execution_count": 2,
     "metadata": {},
     "output_type": "execute_result"
    }
   ],
   "source": [
    "def divide(x,y):\n",
    "    return x/y\n",
    "\n",
    "divide(10,3)"
   ]
  },
  {
   "cell_type": "code",
   "execution_count": 3,
   "metadata": {},
   "outputs": [
    {
     "name": "stdout",
     "output_type": "stream",
     "text": [
      "5.0\n"
     ]
    }
   ],
   "source": [
    "#this is a lambda function version of above function\n",
    "divide_function = lambda x,y: x/y\n",
    "\n",
    "print(divide_function(15,3))"
   ]
  },
  {
   "cell_type": "code",
   "execution_count": 4,
   "metadata": {},
   "outputs": [
    {
     "data": {
      "text/plain": [
       "5.0"
      ]
     },
     "execution_count": 4,
     "metadata": {},
     "output_type": "execute_result"
    }
   ],
   "source": [
    "#What if we don't assign a name to a lambda function?\n",
    "(lambda x,y: x/y)(15,3)\n"
   ]
  },
  {
   "cell_type": "code",
   "execution_count": 5,
   "metadata": {},
   "outputs": [
    {
     "name": "stdout",
     "output_type": "stream",
     "text": [
      "88.0\n",
      "76.0\n",
      "95.5\n",
      "98.75\n"
     ]
    }
   ],
   "source": [
    "#so why use a lambda functions? --> they can make things simpler\n",
    "#here's an example:\n",
    "def average(sequence):\n",
    "    return sum(sequence)/len(sequence)\n",
    "students = [\n",
    "    {\"name\": \"Rolf\", \"grades\": (67,90,95,100)},\n",
    "    {\"name\": \"Bob\", \"grades\": (56,78,80,90)},\n",
    "    {\"name\": \"Jenn\", \"grades\": (98,90,95,99)},\n",
    "    {\"name\": \"Anne\", \"grades\": (100,100,95,100)}\n",
    "]\n",
    "for student in students:\n",
    "    print(average(student[\"grades\"]))"
   ]
  },
  {
   "cell_type": "code",
   "execution_count": 6,
   "metadata": {},
   "outputs": [
    {
     "name": "stdout",
     "output_type": "stream",
     "text": [
      "88.0\n",
      "76.0\n",
      "95.5\n",
      "98.75\n"
     ]
    }
   ],
   "source": [
    "#here's another way you could write this\n",
    "average = lambda sequence: sum(sequence)/len(sequence)\n",
    "students = [\n",
    "    {\"name\": \"Rolf\", \"grades\": (67,90,95,100)},\n",
    "    {\"name\": \"Bob\", \"grades\": (56,78,80,90)},\n",
    "    {\"name\": \"Jenn\", \"grades\": (98,90,95,99)},\n",
    "    {\"name\": \"Anne\", \"grades\": (100,100,95,100)}\n",
    "]\n",
    "for student in students:\n",
    "    print(average(student[\"grades\"]))\n"
   ]
  },
  {
   "cell_type": "code",
   "execution_count": null,
   "metadata": {},
   "outputs": [],
   "source": []
  }
 ],
 "metadata": {
  "kernelspec": {
   "display_name": "Python 3",
   "language": "python",
   "name": "python3"
  },
  "language_info": {
   "codemirror_mode": {
    "name": "ipython",
    "version": 3
   },
   "file_extension": ".py",
   "mimetype": "text/x-python",
   "name": "python",
   "nbconvert_exporter": "python",
   "pygments_lexer": "ipython3",
   "version": "3.7.4"
  }
 },
 "nbformat": 4,
 "nbformat_minor": 2
}
