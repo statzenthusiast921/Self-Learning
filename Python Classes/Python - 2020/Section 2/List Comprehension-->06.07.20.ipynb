{
 "cells": [
  {
   "cell_type": "code",
   "execution_count": 2,
   "metadata": {},
   "outputs": [
    {
     "name": "stdout",
     "output_type": "stream",
     "text": [
      "[0, 2, 4, 6, 8]\n"
     ]
    }
   ],
   "source": [
    "#If you want to double the numbers in a list --> this is what you would want to do\n",
    "numbers=[0,1,2,3,4]\n",
    "doubled_numbers=[]\n",
    "\n",
    "for number in numbers:\n",
    "    doubled_numbers.append(number*2)\n",
    "print(doubled_numbers)"
   ]
  },
  {
   "cell_type": "code",
   "execution_count": 4,
   "metadata": {},
   "outputs": [
    {
     "name": "stdout",
     "output_type": "stream",
     "text": [
      "[0, 2, 4, 6, 8]\n"
     ]
    }
   ],
   "source": [
    "#instead of this --> do list comprehension (much shorter, easier to read)\n",
    "doubled_numbers=[number*2 for number in numbers]\n",
    "print(doubled_numbers)"
   ]
  },
  {
   "cell_type": "code",
   "execution_count": 5,
   "metadata": {},
   "outputs": [
    {
     "name": "stdout",
     "output_type": "stream",
     "text": [
      "[0, 2, 4, 6, 8]\n"
     ]
    }
   ],
   "source": [
    "doubled_numbers=[number*2 for number in range(5)]\n",
    "print(doubled_numbers)"
   ]
  },
  {
   "cell_type": "code",
   "execution_count": 9,
   "metadata": {},
   "outputs": [
    {
     "name": "stdout",
     "output_type": "stream",
     "text": [
      "['My friend is 22 years old.', 'My friend is 31 years old.', 'My friend is 35 years old.', 'My friend is 37 years old.']\n"
     ]
    }
   ],
   "source": [
    "friends_ages=[22,31,35,37]\n",
    "age_strings=[\"My friend is \"+str(age)+\" years old.\" for age in friends_ages]\n",
    "print(age_strings)"
   ]
  },
  {
   "cell_type": "code",
   "execution_count": 10,
   "metadata": {},
   "outputs": [
    {
     "name": "stdout",
     "output_type": "stream",
     "text": [
      "['rolf', 'bob', 'jen']\n"
     ]
    }
   ],
   "source": [
    "names=[\"Rolf\",\"Bob\",\"Jen\"]\n",
    "lower=[name.lower() for name in names]\n",
    "print(lower)"
   ]
  },
  {
   "cell_type": "code",
   "execution_count": 27,
   "metadata": {},
   "outputs": [
    {
     "name": "stdout",
     "output_type": "stream",
     "text": [
      "Enter your friend's name: ANNE\n",
      "Anne is one of your friends.\n"
     ]
    }
   ],
   "source": [
    "#This example is case-insensitive (doesn't matter if its capital or not)\n",
    "friend=input(\"Enter your friend's name: \")\n",
    "friends=[\"Rolf\",\"Bob\",\"Jen\",\"Charlie\",\"Anne\"]\n",
    "friends_lower=[name.lower() for name in friends]\n",
    "\n",
    "if friend.lower() in friends_lower:\n",
    "    print(str(friend.title())+\" is one of your friends.\")\n",
    "    "
   ]
  },
  {
   "cell_type": "code",
   "execution_count": null,
   "metadata": {},
   "outputs": [],
   "source": []
  }
 ],
 "metadata": {
  "kernelspec": {
   "display_name": "Python 3",
   "language": "python",
   "name": "python3"
  },
  "language_info": {
   "codemirror_mode": {
    "name": "ipython",
    "version": 3
   },
   "file_extension": ".py",
   "mimetype": "text/x-python",
   "name": "python",
   "nbconvert_exporter": "python",
   "pygments_lexer": "ipython3",
   "version": "3.7.4"
  }
 },
 "nbformat": 4,
 "nbformat_minor": 2
}
