{
 "cells": [
  {
   "cell_type": "code",
   "execution_count": 5,
   "metadata": {},
   "outputs": [
    {
     "name": "stdout",
     "output_type": "stream",
     "text": [
      "This car is ok.\n",
      "Shipping new car to customer.\n",
      "This car is ok.\n",
      "Shipping new car to customer.\n",
      "This car is ok.\n",
      "Shipping new car to customer.\n",
      "This car is ok.\n",
      "Shipping new car to customer.\n",
      "This car is ok.\n",
      "Shipping new car to customer.\n",
      "All cars built successfuly.  No faulty cars.\n"
     ]
    }
   ],
   "source": [
    "#cars=[\"ok\",\"ok\",\"ok\",\"faulty\",\"ok\",\"ok\"]\n",
    "cars=[\"ok\",\"ok\",\"ok\",\"ok\",\"ok\"]\n",
    "\n",
    "\n",
    "#if loop runs through all elements with break or error, then it will run\n",
    "#last print line\n",
    "for status in cars:\n",
    "    if status ==\"faulty\":\n",
    "        print(\"Stopping the production line!\")\n",
    "        break\n",
    "    print(\"This car is \"+str(status)+\".\")\n",
    "    print(\"Shipping new car to customer.\")\n",
    "else:\n",
    "    print(\"All cars built successfuly.  No faulty cars.\")"
   ]
  },
  {
   "cell_type": "code",
   "execution_count": null,
   "metadata": {},
   "outputs": [],
   "source": []
  }
 ],
 "metadata": {
  "kernelspec": {
   "display_name": "Python 3",
   "language": "python",
   "name": "python3"
  },
  "language_info": {
   "codemirror_mode": {
    "name": "ipython",
    "version": 3
   },
   "file_extension": ".py",
   "mimetype": "text/x-python",
   "name": "python",
   "nbconvert_exporter": "python",
   "pygments_lexer": "ipython3",
   "version": "3.7.4"
  }
 },
 "nbformat": 4,
 "nbformat_minor": 2
}
