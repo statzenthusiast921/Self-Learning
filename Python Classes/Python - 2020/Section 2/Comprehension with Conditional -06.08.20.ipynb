{
 "cells": [
  {
   "cell_type": "code",
   "execution_count": 2,
   "metadata": {},
   "outputs": [
    {
     "name": "stdout",
     "output_type": "stream",
     "text": [
      "[22, 35, 27, 21, 20]\n",
      "[35, 27, 21]\n"
     ]
    }
   ],
   "source": [
    "#only want odd ages\n",
    "ages=[22,35,27,21,20]\n",
    "print(ages)\n",
    "\n",
    "\n",
    "odds=[age for age in ages if age % 2 ==1]\n",
    "print(odds)\n",
    "\n",
    "\n",
    "\n",
    "\n"
   ]
  },
  {
   "cell_type": "code",
   "execution_count": 3,
   "metadata": {},
   "outputs": [
    {
     "name": "stdout",
     "output_type": "stream",
     "text": [
      "['rolf', 'ruth', 'charlie', 'jen']\n",
      "['jose', 'bob', 'rolf', 'charlie', 'michael']\n"
     ]
    }
   ],
   "source": [
    "#be careful --> if it gets too complicated,\n",
    "#split things up and just use a for loop\n",
    "\n",
    "\n",
    "\n",
    "friends=[\"Rolf\",\"ruth\",\"charlie\",\"Jen\"]\n",
    "guests=[\"jose\",\"Bob\",\"Rolf\",\"Charlie\",\"michael\"]\n",
    "\n",
    "friends_lower=[f.lower() for f in friends]\n",
    "guests_lower=[g.lower() for g in guests]\n",
    "\n",
    "print(friends_lower)\n",
    "print(guests_lower)\n",
    "\n"
   ]
  },
  {
   "cell_type": "code",
   "execution_count": 4,
   "metadata": {},
   "outputs": [
    {
     "name": "stdout",
     "output_type": "stream",
     "text": [
      "{'charlie', 'rolf'}\n"
     ]
    }
   ],
   "source": [
    "\n",
    "\n",
    "#make friends_lower and guests_lower into sets so you can directly compare\n",
    "friends_lower=set([f.lower() for f in friends])\n",
    "guests_lower=set([g.lower() for g in guests])\n",
    "\n",
    "print(friends_lower.intersection(guests_lower))"
   ]
  },
  {
   "cell_type": "code",
   "execution_count": 5,
   "metadata": {},
   "outputs": [
    {
     "name": "stdout",
     "output_type": "stream",
     "text": [
      "['Rolf', 'Charlie']\n"
     ]
    }
   ],
   "source": [
    "\n",
    "present_friends=[\n",
    "    name.title() \n",
    "    for name in guests \n",
    "    if name.lower() in friends_lower\n",
    "]\n",
    "print(present_friends)\n"
   ]
  },
  {
   "cell_type": "code",
   "execution_count": null,
   "metadata": {},
   "outputs": [],
   "source": []
  }
 ],
 "metadata": {
  "kernelspec": {
   "display_name": "Python 3",
   "language": "python",
   "name": "python3"
  },
  "language_info": {
   "codemirror_mode": {
    "name": "ipython",
    "version": 3
   },
   "file_extension": ".py",
   "mimetype": "text/x-python",
   "name": "python",
   "nbconvert_exporter": "python",
   "pygments_lexer": "ipython3",
   "version": "3.7.4"
  }
 },
 "nbformat": 4,
 "nbformat_minor": 2
}
