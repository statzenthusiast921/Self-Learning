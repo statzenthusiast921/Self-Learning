{
 "cells": [
  {
   "cell_type": "code",
   "execution_count": 1,
   "metadata": {},
   "outputs": [],
   "source": [
    "\n",
    "import random\n",
    "\n",
    "# This line creates a set with 6 random numbers\n",
    "lottery_numbers = set(random.sample(range(22), 6))\n",
    "\n",
    "# Here are your players; find out who has the most numbers matching lottery_numbers!\n",
    "players = [\n",
    "    {'name': 'Rolf', 'numbers': {1, 3, 5, 7, 9, 11}},\n",
    "    {'name': 'Charlie', 'numbers': {2, 7, 9, 22, 10, 5}},\n",
    "    {'name': 'Anna', 'numbers': {13, 14, 15, 16, 17, 18}},\n",
    "    {'name': 'Jen', 'numbers': {19, 20, 12, 7, 3, 5}}\n",
    "]\n",
    "\n",
    "# Then, print out a line such as \"Jen won 1000.\".\n",
    "# The winnings are calculated with the formula:\n",
    "# 100 ** len(numbers_matched)"
   ]
  },
  {
   "cell_type": "code",
   "execution_count": 3,
   "metadata": {},
   "outputs": [
    {
     "name": "stdout",
     "output_type": "stream",
     "text": [
      "{2, 5, 10, 13, 16, 21}\n",
      "[{'name': 'Rolf', 'numbers': {1, 3, 5, 7, 9, 11}}, {'name': 'Charlie', 'numbers': {2, 5, 7, 9, 10, 22}}, {'name': 'Anna', 'numbers': {13, 14, 15, 16, 17, 18}}, {'name': 'Jen', 'numbers': {3, 5, 7, 12, 19, 20}}]\n",
      "{'name': 'Rolf', 'numbers': {1, 3, 5, 7, 9, 11}}\n",
      "Charlie won 1000000.\n",
      "{1, 3, 5, 7, 9, 11}\n"
     ]
    }
   ],
   "source": [
    "print(lottery_numbers)\n",
    "\n",
    "\n",
    "# In[8]:\n",
    "\n",
    "\n",
    "print(players)\n",
    "print(players[0])\n",
    "\n",
    "\n",
    "# In[22]:\n",
    "\n",
    "\n",
    "#len(lottery_numbers)\n",
    "#guests_lower=set([g.lower() for g in guests])\n",
    "top_player = players[0]  # start by saying \"the top matching player is the first one\"\n",
    " \n",
    "for player in players:  # Go over each player\n",
    "    matched_numbers = len(player[\"numbers\"].intersection(lottery_numbers))  # Calculate how many numbers they matched\n",
    "    if matched_numbers > len(top_player[\"numbers\"].intersection(lottery_numbers)):  # If they matched more than the current top player...\n",
    "        top_player = player  # Say this player is the new top player\n",
    " \n",
    "# Calculate their winnings using the formula!\n",
    "winnings = 100 ** len(top_player[\"numbers\"].intersection(lottery_numbers))\n",
    " \n",
    "# Then print out—here in Udemy we have to use .format, but normally you'd want to use f-strings.\n",
    "print(f\"{top_player['name']} won {winnings}.\")\n",
    "\n",
    "\n",
    "# In[16]:\n",
    "\n",
    "\n",
    "print(set(players[0][\"numbers\"]))\n",
    "\n",
    "\n",
    "\n"
   ]
  },
  {
   "cell_type": "code",
   "execution_count": null,
   "metadata": {},
   "outputs": [],
   "source": []
  }
 ],
 "metadata": {
  "kernelspec": {
   "display_name": "Python 3",
   "language": "python",
   "name": "python3"
  },
  "language_info": {
   "codemirror_mode": {
    "name": "ipython",
    "version": 3
   },
   "file_extension": ".py",
   "mimetype": "text/x-python",
   "name": "python",
   "nbconvert_exporter": "python",
   "pygments_lexer": "ipython3",
   "version": "3.7.4"
  }
 },
 "nbformat": 4,
 "nbformat_minor": 2
}
