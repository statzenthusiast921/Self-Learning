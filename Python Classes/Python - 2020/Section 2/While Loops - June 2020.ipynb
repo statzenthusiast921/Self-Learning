{
 "cells": [
  {
   "cell_type": "code",
   "execution_count": 2,
   "metadata": {},
   "outputs": [
    {
     "name": "stdout",
     "output_type": "stream",
     "text": [
      "You're learning!\n"
     ]
    }
   ],
   "source": [
    "#Infinite Loop\n",
    "is_learning=True\n",
    "while is_learning:\n",
    "    print(\"You're learning!\")\n"
   ]
  },
  {
   "cell_type": "code",
   "execution_count": 3,
   "metadata": {},
   "outputs": [
    {
     "name": "stdout",
     "output_type": "stream",
     "text": [
      "You're learning!\n"
     ]
    }
   ],
   "source": [
    "#This will only run once\n",
    "is_learning=True\n",
    "while is_learning:\n",
    "    print(\"You're learning!\")\n",
    "    is_learning=False"
   ]
  },
  {
   "cell_type": "code",
   "execution_count": 4,
   "metadata": {},
   "outputs": [
    {
     "name": "stdout",
     "output_type": "stream",
     "text": [
      "You're learning!\n",
      "Are you still learning? Yes\n",
      "You're learning!\n",
      "Are you still learning? \n"
     ]
    }
   ],
   "source": [
    "is_learning=True\n",
    "while is_learning:\n",
    "    print(\"You're learning!\")\n",
    "    is_learning=input(\"Are you still learning? \")\n"
   ]
  },
  {
   "cell_type": "code",
   "execution_count": 5,
   "metadata": {},
   "outputs": [
    {
     "name": "stdout",
     "output_type": "stream",
     "text": [
      "You're learning!\n",
      "Are you still learning? yes\n",
      "You're learning!\n",
      "Are you still learning? no\n"
     ]
    }
   ],
   "source": [
    "is_learning=True\n",
    "while is_learning:\n",
    "    print(\"You're learning!\")\n",
    "    user_input=input(\"Are you still learning? \")\n",
    "    is_learning=user_input==\"yes\"\n"
   ]
  },
  {
   "cell_type": "code",
   "execution_count": 9,
   "metadata": {},
   "outputs": [
    {
     "name": "stdout",
     "output_type": "stream",
     "text": [
      "Do you wish to run this program? (yes/no): yes\n",
      "We're running!\n",
      "Do you wish to run the program? (yes/no): yes\n",
      "We're running!\n",
      "Do you wish to run the program? (yes/no): no\n",
      "We stopped running.\n"
     ]
    }
   ],
   "source": [
    "#User Menu Example\n",
    "user_input = input(\"Do you wish to run this program? (yes/no): \")\n",
    "\n",
    "while user_input ==\"yes\":\n",
    "    print(\"We're running!\")\n",
    "    user_input = input(\"Do you wish to run the program? (yes/no): \")\n",
    "print(\"We stopped running.\")"
   ]
  },
  {
   "cell_type": "code",
   "execution_count": 11,
   "metadata": {},
   "outputs": [
    {
     "name": "stdout",
     "output_type": "stream",
     "text": [
      "Make a selection: (p/q) p\n",
      "Hello\n",
      "Enter q or p: p\n",
      "Hello\n",
      "Enter q or p: p\n",
      "Hello\n",
      "Enter q or p: q\n"
     ]
    }
   ],
   "source": [
    "user_input = input(\"Make a selection: (p/q) \")\n",
    " \n",
    "# Now we must repeat until they type 'q':\n",
    "while user_input ==\"p\":\n",
    "    # Inside our loop, check if they typed 'p'. If they did, print \"Hello\"\n",
    "    if user_input == \"p\":\n",
    "        print(\"Hello\")\n",
    "    # Now we must ask the user for their input again—otherwise we would be in an infinite loop!\n",
    "    user_input = input(\"Enter q or p: \")"
   ]
  },
  {
   "cell_type": "code",
   "execution_count": null,
   "metadata": {},
   "outputs": [],
   "source": []
  }
 ],
 "metadata": {
  "kernelspec": {
   "display_name": "Python 3",
   "language": "python",
   "name": "python3"
  },
  "language_info": {
   "codemirror_mode": {
    "name": "ipython",
    "version": 3
   },
   "file_extension": ".py",
   "mimetype": "text/x-python",
   "name": "python",
   "nbconvert_exporter": "python",
   "pygments_lexer": "ipython3",
   "version": "3.7.4"
  }
 },
 "nbformat": 4,
 "nbformat_minor": 2
}
