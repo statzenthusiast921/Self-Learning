{
 "cells": [
  {
   "cell_type": "code",
   "execution_count": 1,
   "metadata": {},
   "outputs": [
    {
     "name": "stdout",
     "output_type": "stream",
     "text": [
      "{'rolf', 'charlie'}\n"
     ]
    }
   ],
   "source": [
    "\n",
    "friends=[\"Rolf\",\"ruth\",\"charlie\",\"Jen\"]\n",
    "guests=[\"jose\",\"Bob\",\"Rolf\",\"Charlie\",\"michael\"]\n",
    "\n",
    "friends_lower=set([n.lower() for n in friends])\n",
    "guests_lower=set([n.lower() for n in guests])\n",
    "\n",
    "print(friends_lower.intersection(guests_lower))"
   ]
  },
  {
   "cell_type": "code",
   "execution_count": 2,
   "metadata": {},
   "outputs": [
    {
     "name": "stdout",
     "output_type": "stream",
     "text": [
      "{'Rolf', 'Charlie'}\n"
     ]
    }
   ],
   "source": [
    "\n",
    "friends_lower={n.lower() for n in friends}\n",
    "guests_lower={n.lower() for n in guests}\n",
    "\n",
    "present_friends = friends_lower.intersection(guests_lower)\n",
    "present_friends = {name.title() for name in present_friends}\n",
    "print(present_friends)"
   ]
  },
  {
   "cell_type": "code",
   "execution_count": null,
   "metadata": {},
   "outputs": [],
   "source": []
  },
  {
   "cell_type": "code",
   "execution_count": 3,
   "metadata": {},
   "outputs": [],
   "source": [
    "friends=[\"Rolf\",\"Bob\",\"Jen\",\"Anne\"]\n",
    "time_since_seen=[3,7,15,11]"
   ]
  },
  {
   "cell_type": "code",
   "execution_count": 4,
   "metadata": {},
   "outputs": [
    {
     "name": "stdout",
     "output_type": "stream",
     "text": [
      "{'Rolf': 3, 'Bob': 7, 'Jen': 15, 'Anne': 11}\n"
     ]
    }
   ],
   "source": [
    "#This will create a dictionary\n",
    "long_timers={\n",
    "    friends[i]: time_since_seen[i]\n",
    "    for i in range(len(friends))\n",
    "}\n",
    "print(long_timers)\n"
   ]
  },
  {
   "cell_type": "code",
   "execution_count": 5,
   "metadata": {},
   "outputs": [
    {
     "name": "stdout",
     "output_type": "stream",
     "text": [
      "{'Bob': 7, 'Jen': 15, 'Anne': 11}\n"
     ]
    }
   ],
   "source": [
    "#Let's add a conditional statement\n",
    "long_timers={\n",
    "    friends[i]: time_since_seen[i]\n",
    "    for i in range(len(friends))\n",
    "    if time_since_seen[i]>5\n",
    "}\n",
    "print(long_timers)\n",
    "\n"
   ]
  },
  {
   "cell_type": "code",
   "execution_count": null,
   "metadata": {},
   "outputs": [],
   "source": []
  }
 ],
 "metadata": {
  "kernelspec": {
   "display_name": "Python 3",
   "language": "python",
   "name": "python3"
  },
  "language_info": {
   "codemirror_mode": {
    "name": "ipython",
    "version": 3
   },
   "file_extension": ".py",
   "mimetype": "text/x-python",
   "name": "python",
   "nbconvert_exporter": "python",
   "pygments_lexer": "ipython3",
   "version": "3.7.4"
  }
 },
 "nbformat": 4,
 "nbformat_minor": 2
}
