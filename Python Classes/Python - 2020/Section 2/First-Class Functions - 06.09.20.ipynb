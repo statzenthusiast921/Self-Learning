{
 "cells": [
  {
   "cell_type": "code",
   "execution_count": 1,
   "metadata": {},
   "outputs": [
    {
     "data": {
      "text/plain": [
       "<function __main__.greet()>"
      ]
     },
     "execution_count": 1,
     "metadata": {},
     "output_type": "execute_result"
    }
   ],
   "source": [
    "def greet():\n",
    "    print(\"Hello\")\n",
    "   \n",
    "\n",
    "#no output like this below   \n",
    "greet"
   ]
  },
  {
   "cell_type": "code",
   "execution_count": 2,
   "metadata": {},
   "outputs": [
    {
     "name": "stdout",
     "output_type": "stream",
     "text": [
      "<function greet at 0x1047c3440>\n",
      "Hello\n"
     ]
    }
   ],
   "source": [
    "hello=greet\n",
    "print(hello)\n",
    "hello()"
   ]
  },
  {
   "cell_type": "code",
   "execution_count": 3,
   "metadata": {},
   "outputs": [],
   "source": [
    "def average(seq):\n",
    "    return sum(seq)/len(seq)"
   ]
  },
  {
   "cell_type": "code",
   "execution_count": 5,
   "metadata": {},
   "outputs": [
    {
     "data": {
      "text/plain": [
       "1.5"
      ]
     },
     "execution_count": 5,
     "metadata": {},
     "output_type": "execute_result"
    }
   ],
   "source": [
    "list=[0,1,2,3]\n",
    "average(list)"
   ]
  },
  {
   "cell_type": "code",
   "execution_count": 6,
   "metadata": {},
   "outputs": [
    {
     "name": "stdout",
     "output_type": "stream",
     "text": [
      "Student: {'name': 'Rolf', 'grades': (67, 90, 95, 100)}\n",
      "Enter 'average', 'total', or 'top': top\n",
      "100\n",
      "Student: {'name': 'Bob', 'grades': (56, 78, 80, 90)}\n",
      "Enter 'average', 'total', or 'top': average\n",
      "76.0\n",
      "Student: {'name': 'Jenn', 'grades': (98, 90, 95, 99)}\n",
      "Enter 'average', 'total', or 'top': total\n",
      "382\n",
      "Student: {'name': 'Anne', 'grades': (100, 100, 95, 100)}\n",
      "Enter 'average', 'total', or 'top': total\n",
      "395\n"
     ]
    }
   ],
   "source": [
    "#RECREATE AS LAMBDA FUNCTION\n",
    "#avg = lambda seq: sum(seq) / len(seq)\n",
    "#total = lambda seq: sum(seq)\n",
    "#top = lambda seq: max(seq)\n",
    "operations= {\n",
    "    \"average\": lambda seq: sum(seq) / len(seq),\n",
    "    \"total\": lambda seq: sum(seq),\n",
    "    \"top\": max\n",
    "}\n",
    "\n",
    "students = [\n",
    "    {\"name\": \"Rolf\", \"grades\": (67,90,95,100)},\n",
    "    {\"name\": \"Bob\", \"grades\": (56,78,80,90)},\n",
    "    {\"name\": \"Jenn\", \"grades\": (98,90,95,99)},\n",
    "    {\"name\": \"Anne\", \"grades\": (100,100,95,100)}\n",
    "]\n",
    "for student in students:\n",
    "    name = student[\"name\"]\n",
    "    grades=student[\"grades\"]\n",
    "   \n",
    "    print(\"Student: \"+ str(student))\n",
    "    operation=input(\"Enter 'average', 'total', or 'top': \")\n",
    "   \n",
    "    operations_function = operations[operation]\n",
    "    print(operations_function(grades))\n"
   ]
  },
  {
   "cell_type": "code",
   "execution_count": null,
   "metadata": {},
   "outputs": [],
   "source": []
  }
 ],
 "metadata": {
  "kernelspec": {
   "display_name": "Python 3",
   "language": "python",
   "name": "python3"
  },
  "language_info": {
   "codemirror_mode": {
    "name": "ipython",
    "version": 3
   },
   "file_extension": ".py",
   "mimetype": "text/x-python",
   "name": "python",
   "nbconvert_exporter": "python",
   "pygments_lexer": "ipython3",
   "version": "3.7.4"
  }
 },
 "nbformat": 4,
 "nbformat_minor": 2
}
