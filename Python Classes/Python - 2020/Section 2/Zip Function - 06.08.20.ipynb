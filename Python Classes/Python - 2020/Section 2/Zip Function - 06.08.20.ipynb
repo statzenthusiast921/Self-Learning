{
 "cells": [
  {
   "cell_type": "code",
   "execution_count": 1,
   "metadata": {},
   "outputs": [
    {
     "name": "stdout",
     "output_type": "stream",
     "text": [
      "{'Rolf': 3, 'Bob': 7, 'Jen': 15, 'Anne': 11}\n"
     ]
    }
   ],
   "source": [
    "friends=[\"Rolf\",\"Bob\",\"Jen\",\"Anne\"]\n",
    "time_since_seen=[3,7,15,11]\n",
    "\n",
    "long_timers={\n",
    "    friends[i]: time_since_seen[i]\n",
    "    for i in range(len(friends))\n",
    "}\n",
    "print(long_timers)\n"
   ]
  },
  {
   "cell_type": "code",
   "execution_count": 2,
   "metadata": {},
   "outputs": [
    {
     "name": "stdout",
     "output_type": "stream",
     "text": [
      "{'Rolf': 3, 'Bob': 7, 'Jen': 15, 'Anne': 11}\n"
     ]
    }
   ],
   "source": [
    "\n",
    "#zip function will combine two lists or more into one list\n",
    "#zip will ignore any elements that don't match up\n",
    "#if you wanted to add a third list with 5 elements, only first 4 elements would be used b/c\n",
    "#friends and time_since_seen each only have 4 elements\n",
    "long_timers=dict(zip(friends,time_since_seen))\n",
    "print(long_timers)"
   ]
  },
  {
   "cell_type": "code",
   "execution_count": null,
   "metadata": {},
   "outputs": [],
   "source": []
  }
 ],
 "metadata": {
  "kernelspec": {
   "display_name": "Python 3",
   "language": "python",
   "name": "python3"
  },
  "language_info": {
   "codemirror_mode": {
    "name": "ipython",
    "version": 3
   },
   "file_extension": ".py",
   "mimetype": "text/x-python",
   "name": "python",
   "nbconvert_exporter": "python",
   "pygments_lexer": "ipython3",
   "version": "3.7.4"
  }
 },
 "nbformat": 4,
 "nbformat_minor": 2
}
