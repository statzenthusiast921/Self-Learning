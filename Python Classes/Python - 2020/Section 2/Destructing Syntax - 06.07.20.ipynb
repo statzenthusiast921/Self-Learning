{
 "cells": [
  {
   "cell_type": "code",
   "execution_count": 3,
   "metadata": {},
   "outputs": [
    {
     "name": "stdout",
     "output_type": "stream",
     "text": [
      "0.8 1.2\n",
      "0.8\n"
     ]
    }
   ],
   "source": [
    "#Destructing\n",
    "#Take first value put it into usd and second value into eur\n",
    "currencies = (0.8,1.2)\n",
    "usd,eur=currencies\n",
    "print(usd,eur)\n",
    "print(usd)"
   ]
  },
  {
   "cell_type": "code",
   "execution_count": 4,
   "metadata": {},
   "outputs": [],
   "source": [
    "friends = [(\"Rolf\",25),(\"Anne\",37),(\"Charlie\",31),(\"Bob\",22)]"
   ]
  },
  {
   "cell_type": "code",
   "execution_count": 5,
   "metadata": {},
   "outputs": [
    {
     "name": "stdout",
     "output_type": "stream",
     "text": [
      "('Rolf', 25)\n",
      "('Anne', 37)\n",
      "('Charlie', 31)\n",
      "('Bob', 22)\n"
     ]
    }
   ],
   "source": [
    "for friend in friends:\n",
    "    print(friend)"
   ]
  },
  {
   "cell_type": "code",
   "execution_count": 9,
   "metadata": {},
   "outputs": [
    {
     "name": "stdout",
     "output_type": "stream",
     "text": [
      "Rolf 25\n",
      "Rolf is 25 years old.\n",
      "Anne 37\n",
      "Anne is 37 years old.\n",
      "Charlie 31\n",
      "Charlie is 31 years old.\n",
      "Bob 22\n",
      "Bob is 22 years old.\n"
     ]
    }
   ],
   "source": [
    "for name, age in friends:\n",
    "    print(name,age)\n",
    "    print(str(name)+\" is \"+str(age)+\" years old.\")"
   ]
  },
  {
   "cell_type": "code",
   "execution_count": null,
   "metadata": {},
   "outputs": [],
   "source": []
  }
 ],
 "metadata": {
  "kernelspec": {
   "display_name": "Python 3",
   "language": "python",
   "name": "python3"
  },
  "language_info": {
   "codemirror_mode": {
    "name": "ipython",
    "version": 3
   },
   "file_extension": ".py",
   "mimetype": "text/x-python",
   "name": "python",
   "nbconvert_exporter": "python",
   "pygments_lexer": "ipython3",
   "version": "3.7.4"
  }
 },
 "nbformat": 4,
 "nbformat_minor": 2
}
