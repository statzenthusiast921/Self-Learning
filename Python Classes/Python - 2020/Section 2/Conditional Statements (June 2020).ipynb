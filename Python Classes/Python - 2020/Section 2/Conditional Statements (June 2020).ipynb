{
 "cells": [
  {
   "cell_type": "code",
   "execution_count": 5,
   "metadata": {},
   "outputs": [
    {
     "name": "stdout",
     "output_type": "stream",
     "text": [
      "Enter your name: Jon\n"
     ]
    }
   ],
   "source": [
    "friend=\"Jon\"\n",
    "user_name=input(\"Enter your name: \")"
   ]
  },
  {
   "cell_type": "code",
   "execution_count": 6,
   "metadata": {},
   "outputs": [
    {
     "name": "stdout",
     "output_type": "stream",
     "text": [
      "Hello, friend!\n",
      "This runs too.\n",
      "This runs always.\n"
     ]
    }
   ],
   "source": [
    "#CONDITIONAL STATEMENTS\n",
    "if user_name==friend:\n",
    "    print(\"Hello, friend!\")\n",
    "    print(\"This runs too.\")\n",
    "    \n",
    "print(\"This runs always.\")\n",
    "#you have to indent"
   ]
  },
  {
   "cell_type": "code",
   "execution_count": 8,
   "metadata": {},
   "outputs": [
    {
     "name": "stdout",
     "output_type": "stream",
     "text": [
      "Enter your name: Jon\n",
      "Hello, friend!\n"
     ]
    }
   ],
   "source": [
    "friend=\"Jon\"\n",
    "user_name=input(\"Enter your name: \")\n",
    "if user_name==friend:\n",
    "    print(\"Hello, friend!\")\n",
    "else:\n",
    "    print(\"Hello, stranger!\")"
   ]
  },
  {
   "cell_type": "code",
   "execution_count": null,
   "metadata": {},
   "outputs": [],
   "source": []
  },
  {
   "cell_type": "code",
   "execution_count": 11,
   "metadata": {},
   "outputs": [],
   "source": [
    "if 5:\n",
    "    print(\"Runs\")\n",
    "\n",
    "#non-zero numbers all = True"
   ]
  },
  {
   "cell_type": "code",
   "execution_count": 21,
   "metadata": {},
   "outputs": [
    {
     "name": "stdout",
     "output_type": "stream",
     "text": [
      "Enter your name: Jon\n",
      "We know your name.\n"
     ]
    }
   ],
   "source": [
    "name=input(\"Enter your name: \")\n",
    "if name:\n",
    "    print(\"We know your name.\")"
   ]
  },
  {
   "cell_type": "code",
   "execution_count": null,
   "metadata": {},
   "outputs": [],
   "source": []
  },
  {
   "cell_type": "code",
   "execution_count": 20,
   "metadata": {},
   "outputs": [
    {
     "name": "stdout",
     "output_type": "stream",
     "text": [
      "Enter your name: Amelia\n",
      "I don't know you.\n"
     ]
    }
   ],
   "source": [
    "friends=[\"Rolf\",'Bob',\"Anne\"]\n",
    "family=[\"Jen\",\"Charlie\"]\n",
    "user_name=input(\"Enter your name: \")\n",
    "\n",
    "if user_name in friends:\n",
    "    print(\"Hello, friend!\")\n",
    "elif user_name in family:\n",
    "    print(\"Hello, family!\")\n",
    "else:\n",
    "    print(\"I don't know you.\")"
   ]
  },
  {
   "cell_type": "code",
   "execution_count": null,
   "metadata": {},
   "outputs": [],
   "source": []
  }
 ],
 "metadata": {
  "kernelspec": {
   "display_name": "Python 3",
   "language": "python",
   "name": "python3"
  },
  "language_info": {
   "codemirror_mode": {
    "name": "ipython",
    "version": 3
   },
   "file_extension": ".py",
   "mimetype": "text/x-python",
   "name": "python",
   "nbconvert_exporter": "python",
   "pygments_lexer": "ipython3",
   "version": "3.7.4"
  }
 },
 "nbformat": 4,
 "nbformat_minor": 2
}
