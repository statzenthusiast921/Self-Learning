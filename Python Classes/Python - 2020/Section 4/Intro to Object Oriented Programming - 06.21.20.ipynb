{
 "cells": [
  {
   "cell_type": "code",
   "execution_count": 2,
   "metadata": {},
   "outputs": [],
   "source": [
    "my_student = {\n",
    "    'name': 'Rolf Smith',\n",
    "    'grades': [70,88,90,99]\n",
    "}"
   ]
  },
  {
   "cell_type": "code",
   "execution_count": 7,
   "metadata": {},
   "outputs": [
    {
     "name": "stdout",
     "output_type": "stream",
     "text": [
      "70\n",
      "Rolf Smith\n"
     ]
    }
   ],
   "source": [
    "print(my_student['grades'][0])\n",
    "print(my_student['name'])\n"
   ]
  },
  {
   "cell_type": "code",
   "execution_count": 14,
   "metadata": {},
   "outputs": [],
   "source": [
    "#Make an average function\n",
    "def average_grade(student):\n",
    "    return sum(student['grades'])/len(student['grades'])"
   ]
  },
  {
   "cell_type": "code",
   "execution_count": 15,
   "metadata": {},
   "outputs": [
    {
     "name": "stdout",
     "output_type": "stream",
     "text": [
      "86.75\n"
     ]
    }
   ],
   "source": [
    "print(average_grade(my_student))"
   ]
  },
  {
   "cell_type": "code",
   "execution_count": 18,
   "metadata": {},
   "outputs": [],
   "source": [
    "#There's a flaw in the design of this code\n",
    "#would be easier if function could live inside the dictionary\n",
    "my_student = {\n",
    "    'name': 'Rolf Smith',\n",
    "    'grades': [70,88,90,99]#,\n",
    "    #'average': something that calculate the average\n",
    "}\n",
    "\n",
    "#dictionary will not allow us to put function inside dictionary that allows\n",
    "#us to perform operations on stuff in the dictionary\n",
    "\n",
    "#we need to use objects instead\n"
   ]
  },
  {
   "cell_type": "code",
   "execution_count": 27,
   "metadata": {},
   "outputs": [
    {
     "name": "stdout",
     "output_type": "stream",
     "text": [
      "Rolf Smith\n",
      "88\n",
      "<class '__main__.Student'>\n",
      "Jose\n",
      "Rolf Smith\n"
     ]
    }
   ],
   "source": [
    "#Let's define an object - something that can store data, we tell it what to store\n",
    "class Student:\n",
    "        #these functions with two underscores before and after are \"dunder\" funcs\n",
    "    def __init__(self,new_name,new_grade):\n",
    "        self.name = new_name\n",
    "        self.grades = new_grade\n",
    "        \n",
    "        def average(self):\n",
    "            return sum(self.grades)/len(self.grades)\n",
    "\n",
    "student_one = Student('Rolf Smith', [70,88,90,99])\n",
    "\n",
    "print(student_one.name)\n",
    "print(student_one.grades[1])\n",
    "print(student_one.__class__)\n",
    "\n",
    "student_two = Student('Jose',[50,60,99,100])\n",
    "print(student_two.name)\n",
    "print(student_one.name)\n",
    "\n"
   ]
  },
  {
   "cell_type": "code",
   "execution_count": 35,
   "metadata": {},
   "outputs": [],
   "source": [
    "#More about Classes and Objects\n",
    "class Student:\n",
    "    def __init__(self, new_name, new_grades):\n",
    "        self.name = new_name\n",
    "        self.grades = new_grades\n",
    "        \n",
    "    def average(self):\n",
    "        return sum(self.grades)/len(self.grades)\n",
    "    \n",
    "student_one = Student('Rolf Smith', [70,88,90,99])\n",
    "student_two = Student('Jose',[50,60,99,100])\n"
   ]
  },
  {
   "cell_type": "code",
   "execution_count": 42,
   "metadata": {},
   "outputs": [
    {
     "name": "stdout",
     "output_type": "stream",
     "text": [
      "86.75\n",
      "77.25\n",
      "[70, 88, 90, 99]\n"
     ]
    }
   ],
   "source": [
    "print(student_one.average())\n",
    "print(Student.average(student_two))\n",
    "print(student_one.grades)"
   ]
  },
  {
   "cell_type": "code",
   "execution_count": 41,
   "metadata": {},
   "outputs": [
    {
     "name": "stdout",
     "output_type": "stream",
     "text": [
      "86.75\n"
     ]
    }
   ],
   "source": [
    "def average(student):\n",
    "    return sum(student.grades)/len(student.grades)\n",
    "print(average(student_one))"
   ]
  },
  {
   "cell_type": "code",
   "execution_count": 45,
   "metadata": {},
   "outputs": [
    {
     "name": "stdout",
     "output_type": "stream",
     "text": [
      "The Matrix\n",
      "The Matrix\n"
     ]
    }
   ],
   "source": [
    "#Parameter Naming in Python\n",
    "class Movie:\n",
    "    def __init__(self,name,year):\n",
    "        self.name = name\n",
    "        self.year = year\n",
    "        \n",
    "#name on left (self.name) is a property (property of self) --> \n",
    "#the name on the right is the new variable\n",
    "\n",
    "print(Movie(\"The Matrix\",1994).name)\n",
    "matrix=Movie(\"The Matrix\",1994)\n",
    "print(matrix.name)"
   ]
  },
  {
   "cell_type": "code",
   "execution_count": 47,
   "metadata": {},
   "outputs": [],
   "source": [
    "#Magic Methods"
   ]
  },
  {
   "cell_type": "code",
   "execution_count": 49,
   "metadata": {},
   "outputs": [
    {
     "name": "stdout",
     "output_type": "stream",
     "text": [
      "<class 'list'>\n",
      "<class 'str'>\n"
     ]
    }
   ],
   "source": [
    "class Student:\n",
    "    def __init__(self,name):\n",
    "        self.name = name\n",
    "        \n",
    "movies = ['Matrix','Finding Nemo']\n",
    "print(movies.__class__)\n",
    "print(\"hi\".__class__)"
   ]
  },
  {
   "cell_type": "code",
   "execution_count": 50,
   "metadata": {},
   "outputs": [
    {
     "name": "stdout",
     "output_type": "stream",
     "text": [
      "2\n"
     ]
    }
   ],
   "source": [
    "#Everything we do with list we can do with class\n",
    "print(len(movies))"
   ]
  },
  {
   "cell_type": "code",
   "execution_count": 86,
   "metadata": {},
   "outputs": [
    {
     "name": "stdout",
     "output_type": "stream",
     "text": [
      "['Fiesta', 'Focus']\n",
      "2\n",
      "Fiesta\n",
      "---------\n",
      "Fiesta\n",
      "Focus\n",
      "---------\n",
      "Garage with 2 cars.\n"
     ]
    }
   ],
   "source": [
    "#Assign special functions to objects\n",
    "class Garage:\n",
    "    def __init__(self):\n",
    "        self.cars=[]\n",
    "        \n",
    "    def __len__(self):\n",
    "        return len(self.cars)\n",
    "    \n",
    "    def __getitem__(self,i):\n",
    "        return self.cars[i]\n",
    "    \n",
    "    #def __repr__(self):\n",
    "       # return \"Garage \"+str(self.cars)\n",
    "    \n",
    "    def __str__(self):\n",
    "        return \"Garage with \"+ str(len(self))+str(\" cars.\")\n",
    "        \n",
    "\n",
    "ford=Garage()\n",
    "ford.cars.append('Fiesta')\n",
    "ford.cars.append('Focus')\n",
    "print(ford.cars)\n",
    "print(len(ford))\n",
    "print(ford[0])\n",
    "\n",
    "print(\"---------\")\n",
    "\n",
    "for car in ford:\n",
    "    print(car)\n",
    "    \n",
    "print(\"---------\")\n",
    "\n",
    "print(ford)\n"
   ]
  },
  {
   "cell_type": "code",
   "execution_count": 95,
   "metadata": {},
   "outputs": [],
   "source": [
    "# We have a class called Club, and it is initialized like this (no need to change):\n",
    "class Club:\n",
    "    def __init__(self, name):\n",
    "        self.name = name\n",
    "        self.players = []\n",
    "\n",
    "    # define a method that allows us to access the i-th player in the club directly via indexing.\n",
    "    # for example, if some_club is an object of Club class,\n",
    "    # we can access the i-th player in some_club like this (you may assume i is always valid):\n",
    "    # some_club[i]\n",
    "    def __getitem__(self,i):\n",
    "        return self.players[i]\n",
    "\n",
    "    # define a method that returns a string representation of this object,\n",
    "    # which can be used to recreate this object.\n",
    "    # The return value should be in such format (beware of the spacing):\n",
    "    # Club {club_name}: {list_of_players}\n",
    "    # the club_name and list_of_players should be replaced by the according value of current object\n",
    "    def __repr__(self):\n",
    "        return \"Club \"+ str(self.name)+\":\"+str(self.players)\n",
    "\n",
    "    # define a method that returns a readable string representation of this object for the user.\n",
    "    # The return value should be in such format (beware of the spacing):\n",
    "    # Club {club_name} with {count_of_players} players\n",
    "    # the club_name and count_of_players should be replaced by the according value of current object\n",
    "\n",
    "    def __str__(self):\n",
    "        return \"Club \"+str(self.name)+\" with \"+str(len(self))+\" players\"\n",
    "\n",
    "\n",
    "\n",
    "\n",
    "# You only need to finish the methods, we will take care of the object creation and call those methods for you!\n"
   ]
  },
  {
   "cell_type": "code",
   "execution_count": 96,
   "metadata": {},
   "outputs": [],
   "source": [
    "#Inheritance"
   ]
  },
  {
   "cell_type": "code",
   "execution_count": 112,
   "metadata": {},
   "outputs": [],
   "source": [
    "class Student:\n",
    "    def __init__(self,name,school):\n",
    "        self.name = name\n",
    "        self.school = school\n",
    "        self.marks = []\n",
    "        \n",
    "    def average(self):\n",
    "        return sum(self.marks) / len(self.marks)\n",
    "        \n",
    "#class WorkingStudent:\n",
    "#    def __init__(self, name, school, salary):\n",
    " #       self.name = name\n",
    " #       self.school = school\n",
    " #       self.marks = []\n",
    " #       self.salary = salary\n",
    "        \n",
    "  #      def average(self):\n",
    "   #         return sum(self.marks) / len(self.marks)"
   ]
  },
  {
   "cell_type": "code",
   "execution_count": 110,
   "metadata": {},
   "outputs": [],
   "source": [
    "#Let's use inheritance to reduce duplication"
   ]
  },
  {
   "cell_type": "code",
   "execution_count": 114,
   "metadata": {},
   "outputs": [
    {
     "name": "stdout",
     "output_type": "stream",
     "text": [
      "15.5\n",
      "78.0\n",
      "581.25\n"
     ]
    }
   ],
   "source": [
    "class WorkingStudent(Student):\n",
    "    def __init__(self, name, school, salary):\n",
    "        super().__init__(name, school)\n",
    "        self.salary = salary\n",
    "    \n",
    "    def weekly_salary(self):\n",
    "        return self.salary*37.5\n",
    "    \n",
    "rolf = WorkingStudent('Rolf','MIT',15.50)      \n",
    "print(rolf.salary)\n",
    "rolf.marks.append(57)\n",
    "rolf.marks.append(99)\n",
    "print(rolf.average())\n",
    "print(rolf.weekly_salary())"
   ]
  },
  {
   "cell_type": "code",
   "execution_count": 115,
   "metadata": {},
   "outputs": [],
   "source": [
    "anna=Student('Anna','Oxford')"
   ]
  },
  {
   "cell_type": "code",
   "execution_count": 116,
   "metadata": {},
   "outputs": [
    {
     "ename": "AttributeError",
     "evalue": "'Student' object has no attribute 'weekly_salary'",
     "output_type": "error",
     "traceback": [
      "\u001b[0;31m---------------------------------------------------------------------------\u001b[0m",
      "\u001b[0;31mAttributeError\u001b[0m                            Traceback (most recent call last)",
      "\u001b[0;32m<ipython-input-116-4fff6a1043ee>\u001b[0m in \u001b[0;36m<module>\u001b[0;34m\u001b[0m\n\u001b[0;32m----> 1\u001b[0;31m \u001b[0mprint\u001b[0m\u001b[0;34m(\u001b[0m\u001b[0manna\u001b[0m\u001b[0;34m.\u001b[0m\u001b[0mweekly_salary\u001b[0m\u001b[0;34m(\u001b[0m\u001b[0;34m)\u001b[0m\u001b[0;34m)\u001b[0m\u001b[0;34m\u001b[0m\u001b[0;34m\u001b[0m\u001b[0m\n\u001b[0m",
      "\u001b[0;31mAttributeError\u001b[0m: 'Student' object has no attribute 'weekly_salary'"
     ]
    }
   ],
   "source": [
    "print(anna.weekly_salary())"
   ]
  },
  {
   "cell_type": "code",
   "execution_count": 117,
   "metadata": {},
   "outputs": [],
   "source": [
    "####"
   ]
  },
  {
   "cell_type": "code",
   "execution_count": 118,
   "metadata": {},
   "outputs": [],
   "source": [
    "#Properties"
   ]
  },
  {
   "cell_type": "code",
   "execution_count": 119,
   "metadata": {},
   "outputs": [
    {
     "name": "stdout",
     "output_type": "stream",
     "text": [
      "<bound method WorkingStudent.weekly_salary of <__main__.WorkingStudent object at 0x106ea5990>>\n"
     ]
    }
   ],
   "source": [
    "print(rolf.weekly_salary)"
   ]
  },
  {
   "cell_type": "code",
   "execution_count": 123,
   "metadata": {},
   "outputs": [
    {
     "name": "stdout",
     "output_type": "stream",
     "text": [
      "581.25\n"
     ]
    }
   ],
   "source": [
    "#If we want to use the method like above (as a property)\n",
    "#we need to use a decorator\n",
    "\n",
    "\n",
    "class WorkingStudent(Student):\n",
    "    def __init__(self, name, school, salary):\n",
    "        super().__init__(name, school)\n",
    "        self.salary = salary\n",
    "    \n",
    "    @property\n",
    "    def weekly_salary(self):\n",
    "        return self.salary*37.5\n",
    "    \n",
    "    \n",
    "rolf = WorkingStudent('Rolf','MIT',15.50)          \n",
    "print(rolf.weekly_salary)"
   ]
  },
  {
   "cell_type": "code",
   "execution_count": 124,
   "metadata": {},
   "outputs": [],
   "source": []
  }
 ],
 "metadata": {
  "kernelspec": {
   "display_name": "Python 3",
   "language": "python",
   "name": "python3"
  },
  "language_info": {
   "codemirror_mode": {
    "name": "ipython",
    "version": 3
   },
   "file_extension": ".py",
   "mimetype": "text/x-python",
   "name": "python",
   "nbconvert_exporter": "python",
   "pygments_lexer": "ipython3",
   "version": "3.7.4"
  }
 },
 "nbformat": 4,
 "nbformat_minor": 2
}
