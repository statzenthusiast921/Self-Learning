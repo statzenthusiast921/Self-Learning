{
  "nbformat": 4,
  "nbformat_minor": 0,
  "metadata": {
    "colab": {
      "name": "Codealong_TokenizationNLTK.ipynb",
      "provenance": []
    },
    "kernelspec": {
      "name": "python3",
      "display_name": "Python 3"
    }
  },
  "cells": [
    {
      "cell_type": "markdown",
      "metadata": {
        "id": "uiL2nmB1WAQd"
      },
      "source": [
        "# <font color='#fd79a8'> Tokenization Methods Using NLTK<font/>"
      ]
    },
    {
      "cell_type": "code",
      "metadata": {
        "id": "TKFaFq4vrvH4"
      },
      "source": [
        "import nltk #importing nltk package "
      ],
      "execution_count": null,
      "outputs": []
    },
    {
      "cell_type": "code",
      "metadata": {
        "id": "698RpQucr79J"
      },
      "source": [
        ""
      ],
      "execution_count": null,
      "outputs": []
    },
    {
      "cell_type": "markdown",
      "metadata": {
        "id": "VgVZGbhouyyK"
      },
      "source": [
        "<font color= #fd79a8 > NLTK Module **tokenize()** "
      ]
    },
    {
      "cell_type": "markdown",
      "metadata": {
        "id": "NImBGS2cvHgO"
      },
      "source": [
        "<font color= #fd79a8 > NLTK Module **word_tokenize()** method"
      ]
    },
    {
      "cell_type": "code",
      "metadata": {
        "id": "C2_BTyTCsbHN"
      },
      "source": [
        "sentence = \"He's a German Shepherd. They are some of the smartest dogs!\""
      ],
      "execution_count": null,
      "outputs": []
    },
    {
      "cell_type": "code",
      "metadata": {
        "id": "js5ny_-UsgJ3"
      },
      "source": [
        ""
      ],
      "execution_count": null,
      "outputs": []
    },
    {
      "cell_type": "markdown",
      "metadata": {
        "id": "ZQlt1TFkEvjp"
      },
      "source": [
        "<font color= #fd79a8 > **sent_tokenization()** <font/> "
      ]
    },
    {
      "cell_type": "code",
      "metadata": {
        "id": "CwlgelVzwvBg"
      },
      "source": [
        "article = '''Did you know that World War 1 brought German Shepherds to the Western Hemisphere? Rin Tin Tin was a German Shepherd rescued from WWI. They are some of the smartest dogs!'''"
      ],
      "execution_count": null,
      "outputs": []
    },
    {
      "cell_type": "code",
      "metadata": {
        "id": "oEJq6wS4s1L7"
      },
      "source": [
        ""
      ],
      "execution_count": null,
      "outputs": []
    },
    {
      "cell_type": "code",
      "metadata": {
        "id": "lLPPgGrvtCHU"
      },
      "source": [
        ""
      ],
      "execution_count": null,
      "outputs": []
    }
  ]
}