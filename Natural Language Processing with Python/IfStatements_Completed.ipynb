{
  "nbformat": 4,
  "nbformat_minor": 0,
  "metadata": {
    "colab": {
      "name": "IfStatements.ipynb",
      "provenance": []
    },
    "kernelspec": {
      "name": "python3",
      "display_name": "Python 3"
    },
    "language_info": {
      "name": "python"
    }
  },
  "cells": [
    {
      "cell_type": "markdown",
      "metadata": {
        "id": "7WlCi85ysrSd"
      },
      "source": [
        "#<font color=\"#78e08f\" > If, Elif, Else statements <br> <font color=\"#82ccdd\" > Logic Conditions<br>\n",
        "<font color=\"#60a3bc\" >a == b <br> a !=b <br> a < b <br> a <= b <br> a > b <br> a >= b"
      ]
    },
    {
      "cell_type": "code",
      "metadata": {
        "colab": {
          "base_uri": "https://localhost:8080/"
        },
        "id": "X00yVt6isnTh",
        "outputId": "2aeb9325-6174-4411-e318-92f105bbc835"
      },
      "source": [
        " wallet = 55\n",
        " ticket = 50\n",
        " if wallet > ticket:\n",
        "   print(\"my wallet has enough money, I can go to the theatre\")"
      ],
      "execution_count": 1,
      "outputs": [
        {
          "output_type": "stream",
          "text": [
            "my wallet has enough money, I can go to the theatre\n"
          ],
          "name": "stdout"
        }
      ]
    },
    {
      "cell_type": "code",
      "metadata": {
        "colab": {
          "base_uri": "https://localhost:8080/"
        },
        "id": "EmTPh5PcygBL",
        "outputId": "87b74da6-f0b0-4ccd-e371-c8acab9b686a"
      },
      "source": [
        " wallet = 55\n",
        " ticket = 50\n",
        " if wallet >= ticket:\n",
        "   print(\"my wallet has enough money, I can go to the theatre\")\n",
        " elif wallet == 40:\n",
        "   print(\"my wallet has $40, I would go to the grocery store\")\n",
        " else:\n",
        "   print (\"I am going home\")\n"
      ],
      "execution_count": 2,
      "outputs": [
        {
          "output_type": "stream",
          "text": [
            "my wallet has enough money, I can go to the theatre\n"
          ],
          "name": "stdout"
        }
      ]
    },
    {
      "cell_type": "code",
      "metadata": {
        "colab": {
          "base_uri": "https://localhost:8080/"
        },
        "id": "lOw0XeCH0CK1",
        "outputId": "617bb1f9-853a-402b-f0ce-1f6df934c371"
      },
      "source": [
        " wallet = 40\n",
        " ticket = 50\n",
        " if wallet >= ticket:\n",
        "   print(\"my wallet has enough money, I can go to the theatre\")\n",
        " elif wallet == 40:\n",
        "   print(\"my wallet has $40, I would go to the grocery store\")\n",
        " else:\n",
        "   print (\"I am going home\")\n"
      ],
      "execution_count": 5,
      "outputs": [
        {
          "output_type": "stream",
          "text": [
            "my wallet has $40, I would go to the grocery store\n"
          ],
          "name": "stdout"
        }
      ]
    },
    {
      "cell_type": "code",
      "metadata": {
        "colab": {
          "base_uri": "https://localhost:8080/"
        },
        "id": "Xe0QqMXd0dRw",
        "outputId": "35e9bb6d-43a7-48de-8d0e-95ee31447021"
      },
      "source": [
        " wallet = 25\n",
        " ticket = 50\n",
        " if wallet >= ticket:\n",
        "   print(\"my wallet has enough money, I can go to the theatre\")\n",
        " elif wallet == 40:\n",
        "   print(\"my wallet has $40, I would go to the grocery store\")\n",
        " else:\n",
        "   print (\"I am going home\")\n"
      ],
      "execution_count": 6,
      "outputs": [
        {
          "output_type": "stream",
          "text": [
            "I am going home\n"
          ],
          "name": "stdout"
        }
      ]
    },
    {
      "cell_type": "markdown",
      "metadata": {
        "id": "EHV5j_3s1rlb"
      },
      "source": [
        "<font color=\"#60a3bc\" > Multiple conditions"
      ]
    },
    {
      "cell_type": "code",
      "metadata": {
        "colab": {
          "base_uri": "https://localhost:8080/"
        },
        "id": "ssviktOP1nIV",
        "outputId": "7f48d701-b755-45c0-fb14-ceafe427301e"
      },
      "source": [
        " wallet = 15\n",
        " ticket = 50\n",
        " if wallet >= ticket:\n",
        "   print(\"my wallet has enough money, I can go to the theatre\")\n",
        " elif ((wallet <=40) and (wallet >= 20)):\n",
        "   print(\"my wallet has enough money, I would go to the grocery store\")\n",
        " else:\n",
        "   print (\"I am going home\")"
      ],
      "execution_count": 11,
      "outputs": [
        {
          "output_type": "stream",
          "text": [
            "I am going home\n"
          ],
          "name": "stdout"
        }
      ]
    },
    {
      "cell_type": "code",
      "metadata": {
        "id": "w8JS3nEp3D5o"
      },
      "source": [
        " a = 15\n",
        " b = 50\n",
        " if a >= b:\n",
        "   print(\"my wallet has enough money, I can go to the theatre\")\n",
        " elif ((a <=40) and (a >= 20)):\n",
        "   print(\"my wallet has enough money, I would go to the grocery store\")\n",
        " else:\n",
        "   print (\"I am going home\")"
      ],
      "execution_count": null,
      "outputs": []
    }
  ]
}