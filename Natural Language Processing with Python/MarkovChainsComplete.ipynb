{
  "nbformat": 4,
  "nbformat_minor": 0,
  "metadata": {
    "colab": {
      "name": "MarkovChainsComplete.ipynb",
      "provenance": [],
      "collapsed_sections": []
    },
    "kernelspec": {
      "name": "python3",
      "display_name": "Python 3"
    },
    "language_info": {
      "name": "python"
    }
  },
  "cells": [
    {
      "cell_type": "markdown",
      "metadata": {
        "id": "0fr7_vl64Yyu"
      },
      "source": [
        "##<font color='#fd79a8'> Markov Chains"
      ]
    },
    {
      "cell_type": "code",
      "metadata": {
        "id": "xuKKgJvK4Vyo"
      },
      "source": [
        "import numpy as np\n",
        "import random as rm"
      ],
      "execution_count": 1,
      "outputs": []
    },
    {
      "cell_type": "code",
      "metadata": {
        "id": "SsjX_im243Uq"
      },
      "source": [
        "# The statespace\n",
        "states = [\"Sleep\",\"Netflix\",\"Gym\"]\n",
        "\n",
        "# Possible sequences of events\n",
        "transition = [[\"SS\",\"SG\",\"SN\"],[\"GS\",\"GG\",\"GN\"],[\"NS\",\"NG\",\"NN\"]]\n",
        "\n",
        "# Probabilities matrix (transition matrix)\n",
        "ProbabilityMatrix = [[0.1,0.7,0.2],[0.6,0.1,0.3],[0.1,0.7,0.2]]"
      ],
      "execution_count": 2,
      "outputs": []
    },
    {
      "cell_type": "markdown",
      "metadata": {
        "id": "IOAh4CQIsai3"
      },
      "source": [
        "###<font color='#fd79a8'>  Predict the next state using Markov Chain, based on current state. "
      ]
    },
    {
      "cell_type": "code",
      "metadata": {
        "id": "XOSVquCn5CEb"
      },
      "source": [
        "def predict_state(days):\n",
        "    # Choose the starting state\n",
        "    activityToday = \"Netflix\"\n",
        "    print(\"Start state: \" + activityToday)\n",
        "    #starting with the current state only \n",
        "    activityList = [activityToday]\n",
        "    i = 0\n",
        "    # To calculate the probability of the activity she would do, based on current state\n",
        "    prob = 1\n",
        "    while i != days:\n",
        "        if activityToday == \"Sleep\":\n",
        "            change = np.random.choice(transition[0],replace=True,p=ProbabilityMatrix[0])\n",
        "            if change == \"SS\":\n",
        "                prob = prob * 0.1\n",
        "                activityList.append(\"Sleep\")\n",
        "                pass\n",
        "            elif change == \"SG\":\n",
        "                prob = prob * 0.7\n",
        "                activityToday = \"Gym\"\n",
        "                activityList.append(\"Gym\")\n",
        "            else:\n",
        "                prob = prob * 0.2\n",
        "                activityToday = \"Netflix\"\n",
        "                activityList.append(\"Netflix\")\n",
        "        elif activityToday == \"Gym\":\n",
        "            change = np.random.choice(transition[1],replace=True,p=ProbabilityMatrix[1])\n",
        "            if change == \"GG\":\n",
        "                prob = prob * 0.1\n",
        "                activityList.append(\"Gym\")\n",
        "                pass\n",
        "            elif change == \"GS\":\n",
        "                prob = prob * 0.6\n",
        "                activityToday = \"Sleep\"\n",
        "                activityList.append(\"Sleep\")\n",
        "            else:\n",
        "                prob = prob * 0.3\n",
        "                activityToday = \"Netflix\"\n",
        "                activityList.append(\"Netflix\")\n",
        "        elif activityToday == \"Netflix\":\n",
        "            change = np.random.choice(transition[2],replace=True,p=ProbabilityMatrix[2])\n",
        "            if change == \"NN\":\n",
        "                prob = prob * 0.2\n",
        "                activityList.append(\"Netflix\")\n",
        "                pass\n",
        "            elif change == \"NS\":\n",
        "                prob = prob * 0.1\n",
        "                activityToday = \"Sleep\"\n",
        "                activityList.append(\"Sleep\")\n",
        "            else:\n",
        "                prob = prob * 0.7\n",
        "                activityToday = \"Gym\"\n",
        "                activityList.append(\"Gym\")\n",
        "        i += 1  \n",
        "    print(\"Possible states: \" + str(activityList))\n",
        "    print(\"End state after \"+ str(days) + \" days: \" + activityToday)\n",
        "    print(\"Probability of the possible sequence of states: \" + str(prob))\n",
        "\n",
        "# Function that forecasts the possible state for the next 2 days\n"
      ],
      "execution_count": 3,
      "outputs": []
    },
    {
      "cell_type": "code",
      "metadata": {
        "colab": {
          "base_uri": "https://localhost:8080/"
        },
        "id": "SApkWLXX5HdU",
        "outputId": "6c73db85-79ac-471d-f987-e3dbb3b9b919"
      },
      "source": [
        "predict_state(1)"
      ],
      "execution_count": 4,
      "outputs": [
        {
          "output_type": "stream",
          "text": [
            "Start state: Netflix\n",
            "Possible states: ['Netflix', 'Gym']\n",
            "End state after 1 days: Gym\n",
            "Probability of the possible sequence of states: 0.7\n"
          ],
          "name": "stdout"
        }
      ]
    },
    {
      "cell_type": "code",
      "metadata": {
        "id": "yViKQysw5ezI"
      },
      "source": [
        ""
      ],
      "execution_count": 4,
      "outputs": []
    }
  ]
}