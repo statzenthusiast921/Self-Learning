{
  "nbformat": 4,
  "nbformat_minor": 0,
  "metadata": {
    "colab": {
      "name": "Codealong_ReGex_Complete.ipynb",
      "provenance": []
    },
    "kernelspec": {
      "name": "python3",
      "display_name": "Python 3"
    }
  },
  "cells": [
    {
      "cell_type": "markdown",
      "metadata": {
        "id": "uiL2nmB1WAQd"
      },
      "source": [
        "## <font color='#fd79a8'>  ReGex <br> Compare Regex re.split() to <br> Python's split() without the re library<font/>"
      ]
    },
    {
      "cell_type": "code",
      "metadata": {
        "id": "FqPOd3QgDMHK"
      },
      "source": [
        "sentence = \"He's fast. The boy ran up the hill,he can't come back down!\""
      ],
      "execution_count": 1,
      "outputs": []
    },
    {
      "cell_type": "code",
      "metadata": {
        "id": "K04Cup4c-xTG"
      },
      "source": [
        "result = sentence.split() "
      ],
      "execution_count": 2,
      "outputs": []
    },
    {
      "cell_type": "code",
      "metadata": {
        "id": "RPrI_k3v-zTL",
        "colab": {
          "base_uri": "https://localhost:8080/"
        },
        "outputId": "b6f51d76-8048-4f94-b344-3a9092027669"
      },
      "source": [
        "print(result)"
      ],
      "execution_count": 3,
      "outputs": [
        {
          "output_type": "stream",
          "text": [
            "[\"He's\", 'fast.', 'The', 'boy', 'ran', 'up', 'the', 'hill,he', \"can't\", 'come', 'back', 'down!']\n"
          ],
          "name": "stdout"
        }
      ]
    },
    {
      "cell_type": "code",
      "metadata": {
        "id": "okoqoDT-Ehet"
      },
      "source": [
        "sentence = \"He has a Ph.D. He's fast. The boy ran up the hill and he can't come back down!\""
      ],
      "execution_count": 4,
      "outputs": []
    },
    {
      "cell_type": "code",
      "metadata": {
        "id": "nON6TjVg_Lh2",
        "colab": {
          "base_uri": "https://localhost:8080/"
        },
        "outputId": "fb1dda45-1bbd-4565-e1bd-1911dfb3f7fc"
      },
      "source": [
        "result = sentence.split(\". \")\n",
        "print(result)"
      ],
      "execution_count": 5,
      "outputs": [
        {
          "output_type": "stream",
          "text": [
            "['He has a Ph.D', \"He's fast\", \"The boy ran up the hill and he can't come back down!\"]\n"
          ],
          "name": "stdout"
        }
      ]
    },
    {
      "cell_type": "markdown",
      "metadata": {
        "id": "ZQlt1TFkEvjp"
      },
      "source": [
        "<font color= #fd79a8 > Python’s split() method falls short as only one separator can be used at a time. Another thing to note – in word tokenization, split() did not consider punctuation as a separate token. <font/> "
      ]
    },
    {
      "cell_type": "markdown",
      "metadata": {
        "id": "3k6lXCc7Wuzi"
      },
      "source": [
        "# <font color='#0abde3'> Regular Expressions (RegEx)  <font/> <br/>\n",
        "Library used: **re** <br/>\n"
      ]
    },
    {
      "cell_type": "code",
      "metadata": {
        "id": "9cdy8pDAAqrH"
      },
      "source": [
        "import re "
      ],
      "execution_count": 6,
      "outputs": []
    },
    {
      "cell_type": "code",
      "metadata": {
        "id": "-yZ5sZgCA6sx"
      },
      "source": [
        "txt = \"uno-dos+tres#quatro cinco\" "
      ],
      "execution_count": 7,
      "outputs": []
    },
    {
      "cell_type": "code",
      "metadata": {
        "id": "ksM_0kedBLBb",
        "colab": {
          "base_uri": "https://localhost:8080/"
        },
        "outputId": "417867cd-2731-4be6-ab84-f506fe84091b"
      },
      "source": [
        "result = print(re.split('\\W+',txt))"
      ],
      "execution_count": 8,
      "outputs": [
        {
          "output_type": "stream",
          "text": [
            "['uno', 'dos', 'tres', 'quatro', 'cinco']\n"
          ],
          "name": "stdout"
        }
      ]
    },
    {
      "cell_type": "markdown",
      "metadata": {
        "id": "wqxx6J7fLIzl"
      },
      "source": [
        "ReGex method to replace strings: <font color= #fd79a8 > re.split() <font/> "
      ]
    },
    {
      "cell_type": "markdown",
      "metadata": {
        "id": "0n9YN5fbo2Kr"
      },
      "source": [
        "<font color='#0abde3'> w+ example </font> <br/>\n",
        "**'+'** means any number of times - keep searching <br/> \n",
        "The **“\\w”** represents “any word character” which usually means alphanumeric (letters, numbers) and underscore (_).  <br/> [\\w’]+ signals that the code should find all the alphanumeric characters  <font/>\n",
        "<font color='#0abde3'> <br/> Regular expressions use the backslash character \\ to indicate special forms;\n"
      ]
    },
    {
      "cell_type": "markdown",
      "metadata": {
        "id": "6XmgVU80jqZW"
      },
      "source": [
        "<font color= #fd79a8 > Enclose a string with [ ] to match any single character in it. It can be used to split by multiple different characters. <font/> "
      ]
    },
    {
      "cell_type": "code",
      "metadata": {
        "id": "Iy5Y2_huCoSu"
      },
      "source": [
        "num = 'one-two-three-#four'"
      ],
      "execution_count": 9,
      "outputs": []
    },
    {
      "cell_type": "code",
      "metadata": {
        "id": "OTYpItgmCvtE",
        "colab": {
          "base_uri": "https://localhost:8080/"
        },
        "outputId": "007957ad-e615-497e-ce93-d48567f2ef15"
      },
      "source": [
        "result = print(re.split('[-+#]', num))"
      ],
      "execution_count": 10,
      "outputs": [
        {
          "output_type": "stream",
          "text": [
            "['one', 'two', 'three', '', 'four']\n"
          ],
          "name": "stdout"
        }
      ]
    },
    {
      "cell_type": "markdown",
      "metadata": {
        "id": "Y-QlPsHF-1F6"
      },
      "source": [
        "# <font color= #fd79a8 > ReGex method to replace strings: re.sub() <font/> \n",
        "\n"
      ]
    },
    {
      "cell_type": "code",
      "metadata": {
        "id": "6prLy0JI-yAH",
        "colab": {
          "base_uri": "https://localhost:8080/"
        },
        "outputId": "660d886d-104a-4927-c693-76a688954d38"
      },
      "source": [
        "substitute = 'one and two and three and four and five'\n",
        "result = re.sub(' ','-',substitute)\n",
        "print(result)"
      ],
      "execution_count": 11,
      "outputs": [
        {
          "output_type": "stream",
          "text": [
            "one-and-two-and-three-and-four-and-five\n"
          ],
          "name": "stdout"
        }
      ]
    },
    {
      "cell_type": "markdown",
      "metadata": {
        "id": "4OrO-6rNLLbl"
      },
      "source": [
        "# <font color='#1dd1a1'> ReGex method to search strings:  re.search() <font/><br/> The search() function takes the \"pattern\" and \"string\" to scan from the text input"
      ]
    },
    {
      "cell_type": "code",
      "metadata": {
        "id": "iq_-UOf0IhZr",
        "colab": {
          "base_uri": "https://localhost:8080/"
        },
        "outputId": "7eee41d1-7089-4110-bed7-15b3c6cbd13b"
      },
      "source": [
        "patternwanted = ['nlp course', 'advanced']\n",
        "string = 'The best nlp course for beginners, with awesome practical projects'\n",
        "\n",
        "for pattern in patternwanted:\n",
        "  print ('Looking for \"%s\" in \"%s\" :\\n' % (pattern, string), end=' ')\n",
        "\n",
        "  if re.search(pattern, string):\n",
        "    print('yayy search successful!!:\\n ')\n",
        "  else: \n",
        "    print('oh no :( we did not find anything')"
      ],
      "execution_count": 12,
      "outputs": [
        {
          "output_type": "stream",
          "text": [
            "Looking for \"nlp course\" in \"The best nlp course for beginners, with awesome practical projects\" :\n",
            " yayy search successful!!:\n",
            " \n",
            "Looking for \"advanced\" in \"The best nlp course for beginners, with awesome practical projects\" :\n",
            " oh no :( we did not find anything\n"
          ],
          "name": "stdout"
        }
      ]
    },
    {
      "cell_type": "markdown",
      "metadata": {
        "id": "uK0TfZP5Bq0W"
      },
      "source": [
        "# <font color= #0abde3 > ReGex Information Extraction Example using re.findall  </font> <br/> \n",
        "search() module will only return the first occurrence that matches the specified pattern. <br/>findall() will iterate over all the lines of the file and return all the matches. <br/>\n"
      ]
    },
    {
      "cell_type": "code",
      "metadata": {
        "id": "GDqgwP0tLPUk",
        "colab": {
          "base_uri": "https://localhost:8080/"
        },
        "outputId": "ee3decd4-3f9f-4edc-a816-dea30bd7bbdc"
      },
      "source": [
        "contact_details = \"Duke Richards 123-1233 duke@dukeemail.com Joe Denver 2020/JAN/05 joe@mrdenvergmail.com 2020/Dec/24 my_name77@hotmail.com John Black +4478564000\"\n",
        "emailinfo = re.findall(r'[\\w\\.-]+@[\\w\\.-]+', contact_details)\n",
        "\n",
        "for email in emailinfo:\n",
        "  print(email)\n"
      ],
      "execution_count": 13,
      "outputs": [
        {
          "output_type": "stream",
          "text": [
            "duke@dukeemail.com\n",
            "joe@mrdenvergmail.com\n",
            "my_name77@hotmail.com\n"
          ],
          "name": "stdout"
        }
      ]
    },
    {
      "cell_type": "markdown",
      "metadata": {
        "id": "cLRwXGgcHTdA"
      },
      "source": [
        "<font color='#0abde3'> Regular expressions use the backslash character \\ to indicate special forms; but backslashes are not handled in any special way in a string literal prefixed with 'r'"
      ]
    }
  ]
}