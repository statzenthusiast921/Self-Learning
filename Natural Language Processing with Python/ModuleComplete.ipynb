{
  "nbformat": 4,
  "nbformat_minor": 0,
  "metadata": {
    "colab": {
      "name": "Module.ipynb",
      "provenance": []
    },
    "kernelspec": {
      "name": "python3",
      "display_name": "Python 3"
    },
    "language_info": {
      "name": "python"
    }
  },
  "cells": [
    {
      "cell_type": "markdown",
      "metadata": {
        "id": "Bm37BTcEeVEU"
      },
      "source": [
        "<font color=\"#00d2d3\"> Import The Module You Created to Print A greeting "
      ]
    },
    {
      "cell_type": "code",
      "metadata": {
        "id": "4YfaXSkSeNJw",
        "colab": {
          "base_uri": "https://localhost:8080/"
        },
        "outputId": "557056bb-0842-4fe3-a5c1-b8bdfdbbe1ee"
      },
      "source": [
        "from google.colab import drive\n",
        "drive.mount('/content/gdrive')"
      ],
      "execution_count": null,
      "outputs": [
        {
          "output_type": "stream",
          "text": [
            "Mounted at /content/gdrive\n"
          ],
          "name": "stdout"
        }
      ]
    },
    {
      "cell_type": "code",
      "metadata": {
        "colab": {
          "base_uri": "https://localhost:8080/"
        },
        "id": "NvbgDaBuw7qc",
        "outputId": "0907e3f4-102d-4900-ebce-4bb2f884d673"
      },
      "source": [
        "!ls"
      ],
      "execution_count": null,
      "outputs": [
        {
          "output_type": "stream",
          "text": [
            "gdrive\tsample_data\n"
          ],
          "name": "stdout"
        }
      ]
    },
    {
      "cell_type": "code",
      "metadata": {
        "colab": {
          "base_uri": "https://localhost:8080/"
        },
        "id": "AxUBprnaxD0z",
        "outputId": "fbf6cd08-1c66-4cf3-d6dd-15574659bda6"
      },
      "source": [
        "%cd /content/gdrive/MyDrive/ModuleLecture "
      ],
      "execution_count": null,
      "outputs": [
        {
          "output_type": "stream",
          "text": [
            "/content/gdrive/MyDrive/ModuleLecture\n"
          ],
          "name": "stdout"
        }
      ]
    },
    {
      "cell_type": "code",
      "metadata": {
        "colab": {
          "base_uri": "https://localhost:8080/"
        },
        "id": "TEfgSfFaxM6n",
        "outputId": "d62f4c32-d2d8-4f48-da2a-5e91a3a365f5"
      },
      "source": [
        "!ls"
      ],
      "execution_count": null,
      "outputs": [
        {
          "output_type": "stream",
          "text": [
            "firstmodule.py\n"
          ],
          "name": "stdout"
        }
      ]
    },
    {
      "cell_type": "code",
      "metadata": {
        "id": "YUE0rE7fxR6M"
      },
      "source": [
        "import firstmodule"
      ],
      "execution_count": null,
      "outputs": []
    },
    {
      "cell_type": "code",
      "metadata": {
        "colab": {
          "base_uri": "https://localhost:8080/"
        },
        "id": "qyNV5mk9xdW7",
        "outputId": "8ab86ff9-a80d-4048-c633-38ed7b259c18"
      },
      "source": [
        "firstmodule.chatgreeting(\"Nidia\")"
      ],
      "execution_count": null,
      "outputs": [
        {
          "output_type": "stream",
          "text": [
            "Hello, Nidia\n"
          ],
          "name": "stdout"
        }
      ]
    }
  ]
}