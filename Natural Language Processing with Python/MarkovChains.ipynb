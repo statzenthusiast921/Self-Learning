{
  "nbformat": 4,
  "nbformat_minor": 0,
  "metadata": {
    "colab": {
      "name": "MarkovChains.ipynb",
      "provenance": [],
      "collapsed_sections": []
    },
    "kernelspec": {
      "name": "python3",
      "display_name": "Python 3"
    },
    "language_info": {
      "name": "python"
    },
    "accelerator": "GPU"
  },
  "cells": [
    {
      "cell_type": "markdown",
      "metadata": {
        "id": "0fr7_vl64Yyu"
      },
      "source": [
        "##<font color='#fd79a8'> Markov Chains"
      ]
    },
    {
      "cell_type": "markdown",
      "metadata": {
        "id": "IOAh4CQIsai3"
      },
      "source": [
        "###<font color='#fd79a8'>  Predict the next state using Markov Chain, based on current state. "
      ]
    },
    {
      "cell_type": "markdown",
      "metadata": {
        "id": "RaLk96ZlO8RN"
      },
      "source": [
        "numpy.random.choice(a, size=None, replace=True, p=None)\n",
        "<br>a: random sample is generated from its elements\n",
        "Generates a random sample from a given 1-D array<br>p: The probabilities associated with each entry in a. If not given the sample assumes a uniform distribution over all entries in a"
      ]
    }
  ]
}