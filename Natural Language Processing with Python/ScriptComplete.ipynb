{
  "nbformat": 4,
  "nbformat_minor": 0,
  "metadata": {
    "colab": {
      "name": "ScriptComplete.ipynb",
      "provenance": []
    },
    "kernelspec": {
      "name": "python3",
      "display_name": "Python 3"
    },
    "language_info": {
      "name": "python"
    }
  },
  "cells": [
    {
      "cell_type": "markdown",
      "metadata": {
        "id": "yo8BUKJVZJxm"
      },
      "source": [
        "#<font color=\"#3dc1d3\" > Python Terminology\n",
        "\n",
        "##<font color=\"#f78fb3\" > Python Script to Raise A Number to A Power"
      ]
    },
    {
      "cell_type": "code",
      "metadata": {
        "id": "Ziolb93_pKf_"
      },
      "source": [
        "import math "
      ],
      "execution_count": null,
      "outputs": []
    },
    {
      "cell_type": "code",
      "metadata": {
        "id": "pIrSgsUkpc4r"
      },
      "source": [
        "x = 10\n",
        "n = 4"
      ],
      "execution_count": null,
      "outputs": []
    },
    {
      "cell_type": "code",
      "metadata": {
        "id": "QKgxs03_pmC7"
      },
      "source": [
        "power = x ** n"
      ],
      "execution_count": null,
      "outputs": []
    },
    {
      "cell_type": "code",
      "metadata": {
        "colab": {
          "base_uri": "https://localhost:8080/"
        },
        "id": "J-kV2kxKp5Zo",
        "outputId": "1496b62e-3c0e-4db7-d44e-66d22a4f1320"
      },
      "source": [
        "power"
      ],
      "execution_count": null,
      "outputs": [
        {
          "output_type": "execute_result",
          "data": {
            "text/plain": [
              "10000"
            ]
          },
          "metadata": {
            "tags": []
          },
          "execution_count": 13
        }
      ]
    },
    {
      "cell_type": "code",
      "metadata": {
        "colab": {
          "base_uri": "https://localhost:8080/"
        },
        "id": "rXkUfS8_p_pK",
        "outputId": "91768c82-941f-4c20-8ad3-147d6e2cf112"
      },
      "source": [
        "print(\"%d to the power %d is %d\" %(x, n, power))"
      ],
      "execution_count": null,
      "outputs": [
        {
          "output_type": "stream",
          "text": [
            "10 to the power 4 is 10000\n"
          ],
          "name": "stdout"
        }
      ]
    },
    {
      "cell_type": "markdown",
      "metadata": {
        "id": "r3M_Nj4Gze4-"
      },
      "source": [
        "Method #2"
      ]
    },
    {
      "cell_type": "code",
      "metadata": {
        "colab": {
          "base_uri": "https://localhost:8080/"
        },
        "id": "ZgwFwPs2zeIF",
        "outputId": "c7f0ebf5-7fa6-4617-cc60-7f2575d52b63"
      },
      "source": [
        "math.pow(8, 2)"
      ],
      "execution_count": null,
      "outputs": [
        {
          "output_type": "execute_result",
          "data": {
            "text/plain": [
              "64.0"
            ]
          },
          "metadata": {
            "tags": []
          },
          "execution_count": 17
        }
      ]
    }
  ]
}